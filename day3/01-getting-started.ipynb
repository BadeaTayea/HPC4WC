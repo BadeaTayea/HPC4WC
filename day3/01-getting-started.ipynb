{
 "cells": [
  {
   "cell_type": "markdown",
   "metadata": {},
   "source": [
    "# Getting started with MPI in jupyter notebook\n",
    "\n",
    "In order to use MPI from inside Jupyter notebooks, we need to start JupyterHub with a IPyParallel cluster running on the node. This requires restarting JupyterHub."
   ]
  },
  {
   "cell_type": "markdown",
   "metadata": {},
   "source": [
    "## Restart JupyterHub for MPI\n",
    "\n",
    "In order to run on an MPI-enabled cluster we need to launch jupyterhub correctly. Assuming you have a session open already you need to re-open it MPI enabled. Otherwise just do step 4 upon startup:\n",
    "\n",
    "### Step 1: Got to the Hub control panel\n",
    "\n",
    "![Changing the kernel](./img/launch1.png)\n",
    "\n",
    "### Step 2: Stop your server\n",
    "\n",
    "![Changing the kernel](./img/launch2.png)\n",
    "\n",
    "### Step 3: Start a new server\n",
    "\n",
    "![Changing the kernel](./img/launch3.png)\n",
    "\n",
    "### Step 4: Configure the server\n",
    "\n",
    "Open up the advanced options and activate <tt>Start IPyParallel cluster with MPI support</tt> and select the number of MPI processes you want to use (1 - 10).\n",
    "\n",
    "![Changing the kernel](./img/launch4.png)"
   ]
  },
  {
   "cell_type": "markdown",
   "metadata": {},
   "source": [
    "## Test setup\n",
    "\n",
    "The easiest way to check is to open up the demo notebook (<tt>02-test-setup.ipynb</tt>) and see if the imports work. If everything is setup correctly, then you should be able to execute all cells in the notebook without any error messages.\n",
    "\n",
    "### Step 5: Open test notebook\n",
    "\n",
    "Select the File Browser in the panel on the left of JupyterHub and look for the notebook named <tt>02-test-setup.ipynb</tt>. Open the notebook by double-clicking it. \n",
    "\n",
    "### Step 6: Change the kernel to <tt>HPC4WC_kernel</tt>\n",
    "\n",
    "When opening the notebook, make sure you change the kernel of the notebook to <tt>HPC4WC_kernel</tt> in order to run the notebook with the kernel we have just installed.\n",
    "\n",
    "![Changing the kernel](./img/kernel0.png)\n",
    "\n",
    "![Selecting the new kernel](./img/kernel1.png)\n",
    "\n",
    "### Step 7: Execute the notebook\n",
    "\n",
    "If everything works, then you're all set!!!"
   ]
  },
  {
   "cell_type": "code",
   "execution_count": null,
   "metadata": {},
   "outputs": [],
   "source": []
  }
 ],
 "metadata": {
  "kernelspec": {
   "display_name": "Python 3",
   "language": "python",
   "name": "python3"
  },
  "language_info": {
   "codemirror_mode": {
    "name": "ipython",
    "version": 3
   },
   "file_extension": ".py",
   "mimetype": "text/x-python",
   "name": "python",
   "nbconvert_exporter": "python",
   "pygments_lexer": "ipython3",
   "version": "3.6.5"
  }
 },
 "nbformat": 4,
 "nbformat_minor": 4
}
