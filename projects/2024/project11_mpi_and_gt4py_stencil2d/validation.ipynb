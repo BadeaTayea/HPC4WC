{
 "cells": [
  {
   "cell_type": "markdown",
   "id": "9cc3e384-af84-4828-af99-1f75f6f5e2ff",
   "metadata": {},
   "source": [
    "# Validation Script"
   ]
  },
  {
   "cell_type": "code",
   "execution_count": 1,
   "id": "d31ea264-9084-4e4b-929b-99a13ff8bc84",
   "metadata": {},
   "outputs": [
    {
     "name": "stderr",
     "output_type": "stream",
     "text": [
      "/users/class154/HPC4WC_venv/lib/python3.9/site-packages/setuptools/distutils_patch.py:25: UserWarning: Distutils was imported before Setuptools. This usage is discouraged and may exhibit undesirable behaviors or errors. Please use Setuptools' objects directly or at least import Setuptools first.\n",
      "  warnings.warn(\n"
     ]
    }
   ],
   "source": [
    "import os\n",
    "import gt4py as gt\n",
    "from gt4py import gtscript\n",
    "import matplotlib as mpl\n",
    "import matplotlib.pyplot as plt\n",
    "import numpy as np\n",
    "import cupy as cp\n",
    "\n",
    "mpl.rcParams[\"font.size\"] = 16\n",
    "\n",
    "os.environ['CFLAGS'] = '-Wno-deprecated-declarations'\n",
    "os.environ['CXXFLAGS'] = '-Wno-deprecated-declarations'    "
   ]
  },
  {
   "cell_type": "markdown",
   "id": "f1529b1d-d378-4383-8f25-958d3bfb5d15",
   "metadata": {},
   "source": [
    "### Create Reference"
   ]
  },
  {
   "cell_type": "markdown",
   "id": "62d7232a-d99f-45f6-a966-4e94ffbf0322",
   "metadata": {},
   "source": [
    "run a reference version of the code and safe the fields as a reference:"
   ]
  },
  {
   "cell_type": "code",
   "execution_count": 2,
   "id": "163efd82-0742-46c5-9e7c-d5e0b7d9ad68",
   "metadata": {},
   "outputs": [
    {
     "name": "stdout",
     "output_type": "stream",
     "text": [
      "Elapsed time for work = 0.22269725799560547 s\n"
     ]
    }
   ],
   "source": [
    "!srun -n 1 python stencil2d-gt4py.py --nx=96 --ny=96 --nz=32 --num_iter=1024 --backend=gt:cpu_ifirst\n",
    "!/bin/mv in_field.npy in_field_ref.npy\n",
    "!/bin/mv out_field.npy out_field_ref.npy"
   ]
  },
  {
   "cell_type": "markdown",
   "id": "5aabd6e7-35ca-443f-9652-ad00af9dde13",
   "metadata": {},
   "source": [
    "### Run new versions and compare output to base implementation\n",
    "\n",
    "This is the first MPI integrated GT4py implementation:"
   ]
  },
  {
   "cell_type": "code",
   "execution_count": 3,
   "id": "ac543853-9fe8-46a4-ba64-facfca14bcef",
   "metadata": {},
   "outputs": [
    {
     "name": "stdout",
     "output_type": "stream",
     "text": [
      "Elapsed time for work = 0.8063299655914307 s\n",
      "HOORAY! 'out_field_ref.npy' and 'out_field-gt4py-mpi-base.npy' are equal!\n"
     ]
    }
   ],
   "source": [
    "!srun -n 1 python stencil2d-gt4py-mpi-base.py --nx=96 --ny=96 --nz=32 --num_iter=1024 --backend=gt:cpu_ifirst\n",
    "\n",
    "!python compare_fields.py --src=\"out_field_ref.npy\" --trg=\"out_field-gt4py-mpi-base.npy\""
   ]
  },
  {
   "cell_type": "markdown",
   "id": "ae78f159-557c-4cf9-89da-09224838cd25",
   "metadata": {},
   "source": [
    "This implementation has an adaption of the laplacian for the evaluation of the best laplacian:"
   ]
  },
  {
   "cell_type": "code",
   "execution_count": 4,
   "id": "d5282a48-9802-4a9d-b887-08769f2a4a0c",
   "metadata": {},
   "outputs": [
    {
     "name": "stdout",
     "output_type": "stream",
     "text": [
      "Elapsed time for work = 0.780771017074585 s\n",
      "HOORAY! 'out_field_ref.npy' and 'out_field-gt4py-mpi-laplacian.npy' are equal!\n"
     ]
    }
   ],
   "source": [
    "!srun -n 1 python stencil2d-gt4py-mpi-laplacian.py --nx=96 --ny=96 --nz=32 --num_iter=1024 --backend=gt:cpu_ifirst\n",
    "\n",
    "!python compare_fields.py --src=\"out_field_ref.npy\" --trg=\"out_field-gt4py-mpi-laplacian.npy\""
   ]
  },
  {
   "cell_type": "markdown",
   "id": "c3c1a246-d6e8-4707-b4a7-4f7d7152e763",
   "metadata": {},
   "source": [
    "#### Check the different backends"
   ]
  },
  {
   "cell_type": "markdown",
   "id": "544d90ab-2a0a-4b07-8ddc-ee707c5f496f",
   "metadata": {},
   "source": [
    "Now, we also check if all backends work as planned:"
   ]
  },
  {
   "cell_type": "code",
   "execution_count": 6,
   "id": "2cb3c8db-2f74-42e0-8c2c-21ac025344d4",
   "metadata": {},
   "outputs": [
    {
     "name": "stdout",
     "output_type": "stream",
     "text": [
      "Elapsed time for work = 0.7723636627197266 s\n",
      "HOORAY! 'out_field_ref.npy' and 'out_field-gt4py-mpi-base.npy' are equal!\n"
     ]
    }
   ],
   "source": [
    "!srun -n 1 python stencil2d-gt4py-mpi-base.py --nx=96 --ny=96 --nz=32 --num_iter=1024 --backend=gt:cpu_ifirst\n",
    "!python compare_fields.py --src=\"out_field_ref.npy\" --trg=\"out_field-gt4py-mpi-base.npy\""
   ]
  },
  {
   "cell_type": "code",
   "execution_count": 7,
   "id": "891bf63d-652b-4529-867b-2772eb2f7816",
   "metadata": {},
   "outputs": [
    {
     "name": "stdout",
     "output_type": "stream",
     "text": [
      "Elapsed time for work = 0.656280517578125 s\n",
      "HOORAY! 'out_field_ref.npy' and 'out_field-gt4py-mpi-base.npy' are equal!\n"
     ]
    }
   ],
   "source": [
    "!srun -n 1 python stencil2d-gt4py-mpi-base.py --nx=96 --ny=96 --nz=32 --num_iter=1024 --backend=gt:cpu_kfirst\n",
    "!python compare_fields.py --src=\"out_field_ref.npy\" --trg=\"out_field-gt4py-mpi-base.npy\""
   ]
  },
  {
   "cell_type": "code",
   "execution_count": 8,
   "id": "aaa9fe4c-7f35-4b54-a356-d7af724898a1",
   "metadata": {},
   "outputs": [
    {
     "name": "stdout",
     "output_type": "stream",
     "text": [
      "Elapsed time for work = 23.63230609893799 s\n",
      "HOORAY! 'out_field_ref.npy' and 'out_field-gt4py-mpi-base.npy' are equal!\n"
     ]
    }
   ],
   "source": [
    "!srun -n 1 python stencil2d-gt4py-mpi-base.py --nx=96 --ny=96 --nz=32 --num_iter=1024 --backend=numpy\n",
    "!python compare_fields.py --src=\"out_field_ref.npy\" --trg=\"out_field-gt4py-mpi-base.npy\""
   ]
  },
  {
   "cell_type": "code",
   "execution_count": 9,
   "id": "31730a19-1e35-45b9-8098-aad5a1106c21",
   "metadata": {},
   "outputs": [
    {
     "name": "stdout",
     "output_type": "stream",
     "text": [
      "Elapsed time for work = 1.452324628829956 s\n",
      "HOORAY! 'out_field_ref.npy' and 'out_field-gt4py-mpi-base.npy' are equal!\n"
     ]
    }
   ],
   "source": [
    "!srun -n 1 python stencil2d-gt4py-mpi-base.py --nx=96 --ny=96 --nz=32 --num_iter=1024 --backend=gt:gpu\n",
    "!python compare_fields.py --src=\"out_field_ref.npy\" --trg=\"out_field-gt4py-mpi-base.npy\""
   ]
  },
  {
   "cell_type": "code",
   "execution_count": 10,
   "id": "077e69a3-0b6c-4204-bca9-2b98af44571c",
   "metadata": {},
   "outputs": [
    {
     "name": "stdout",
     "output_type": "stream",
     "text": [
      "Elapsed time for work = 1.4462013244628906 s\n",
      "HOORAY! 'out_field_ref.npy' and 'out_field-gt4py-mpi-base.npy' are equal!\n"
     ]
    }
   ],
   "source": [
    "!srun -n 1 python stencil2d-gt4py-mpi-base.py --nx=96 --ny=96 --nz=32 --num_iter=1024 --backend=cuda\n",
    "!python compare_fields.py --src=\"out_field_ref.npy\" --trg=\"out_field-gt4py-mpi-base.npy\""
   ]
  }
 ],
 "metadata": {
  "kernelspec": {
   "display_name": "HPC4WC_kernel",
   "language": "python",
   "name": "hpc4wc_kernel"
  },
  "language_info": {
   "codemirror_mode": {
    "name": "ipython",
    "version": 3
   },
   "file_extension": ".py",
   "mimetype": "text/x-python",
   "name": "python",
   "nbconvert_exporter": "python",
   "pygments_lexer": "ipython3",
   "version": "3.9.4"
  }
 },
 "nbformat": 4,
 "nbformat_minor": 5
}
