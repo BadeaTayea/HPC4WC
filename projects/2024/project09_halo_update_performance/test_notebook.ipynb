{
 "cells": [
  {
   "cell_type": "markdown",
   "id": "950fc784-38d7-4291-aa49-44b6c920703a",
   "metadata": {},
   "source": [
    "This notebook allows for comparison between fields using the parallel diffusion and reference fields using the linear stencil_1node code from the lecture. It has been used to compare the created fields and validate that the parallel version produces the same results within some margin. Depicted below is an example comparison."
   ]
  },
  {
   "cell_type": "code",
   "execution_count": 110,
   "id": "2c7431c2-2fa7-442f-b800-4f4ffe7e4694",
   "metadata": {},
   "outputs": [],
   "source": [
    "import numpy as np\n",
    "import matplotlib.pyplot as plt"
   ]
  },
  {
   "cell_type": "code",
   "execution_count": 111,
   "id": "b039b175-398a-4eca-89f7-de42b760cdbe",
   "metadata": {},
   "outputs": [],
   "source": [
    "out_field_reference = np.fromfile(\"output_folder/out_fields/out_field_reference_nHalo_5.dat\")\n",
    "out_field = np.fromfile(\"output_folder/out_fields/out_field_nNodes_5_nHalo_5.dat\")"
   ]
  },
  {
   "cell_type": "code",
   "execution_count": 112,
   "id": "75f0d786-defb-4b11-81a9-eb08bc92ad28",
   "metadata": {},
   "outputs": [
    {
     "data": {
      "text/plain": [
       "4194304"
      ]
     },
     "execution_count": 112,
     "metadata": {},
     "output_type": "execute_result"
    }
   ],
   "source": [
    "out_field_reference[3:].size"
   ]
  },
  {
   "cell_type": "code",
   "execution_count": 113,
   "id": "5dcfd122-1f12-47f0-9fc0-5c6791a43e81",
   "metadata": {},
   "outputs": [
    {
     "data": {
      "text/plain": [
       "4194304"
      ]
     },
     "execution_count": 113,
     "metadata": {},
     "output_type": "execute_result"
    }
   ],
   "source": [
    "out_field[3:].size"
   ]
  },
  {
   "cell_type": "code",
   "execution_count": 114,
   "id": "b3e85625-fd7f-4159-bb7b-79004b6ea637",
   "metadata": {},
   "outputs": [],
   "source": [
    "diff = out_field - out_field_reference"
   ]
  },
  {
   "cell_type": "code",
   "execution_count": 115,
   "id": "8c6e99f6-1646-4499-ada8-9b189d4c98df",
   "metadata": {},
   "outputs": [
    {
     "data": {
      "text/plain": [
       "0.03492961163785502"
      ]
     },
     "execution_count": 115,
     "metadata": {},
     "output_type": "execute_result"
    }
   ],
   "source": [
    "np.abs(diff).max()"
   ]
  },
  {
   "cell_type": "code",
   "execution_count": 116,
   "id": "e574ce01-e7dc-4a31-8ba8-ac5567cef15c",
   "metadata": {},
   "outputs": [
    {
     "data": {
      "text/plain": [
       "-2.2778262902270822e-06"
      ]
     },
     "execution_count": 116,
     "metadata": {},
     "output_type": "execute_result"
    }
   ],
   "source": [
    "diff.mean()"
   ]
  },
  {
   "cell_type": "code",
   "execution_count": 117,
   "id": "eacf71b4-ef0e-4cb3-9430-3bca2fcc0f14",
   "metadata": {},
   "outputs": [
    {
     "data": {
      "text/plain": [
       "0.0013448308545675768"
      ]
     },
     "execution_count": 117,
     "metadata": {},
     "output_type": "execute_result"
    }
   ],
   "source": [
    "diff.std()"
   ]
  },
  {
   "cell_type": "code",
   "execution_count": 118,
   "id": "48d1370d-ec0f-4b4f-aaa8-6fe4d397d1cf",
   "metadata": {},
   "outputs": [
    {
     "data": {
      "text/plain": [
       "array([1099839, 1099840, 1099841, ..., 3133116, 3133117, 3133118])"
      ]
     },
     "execution_count": 118,
     "metadata": {},
     "output_type": "execute_result"
    }
   ],
   "source": [
    "np.where(np.abs(diff)>1e-2)[0]"
   ]
  },
  {
   "cell_type": "code",
   "execution_count": 119,
   "id": "c4b4c5bd-bae2-405e-a267-09e510f992d5",
   "metadata": {
    "tags": []
   },
   "outputs": [
    {
     "data": {
      "text/plain": [
       "20032"
      ]
     },
     "execution_count": 119,
     "metadata": {},
     "output_type": "execute_result"
    }
   ],
   "source": [
    "np.where(np.abs(diff)>1e-2)[0].size"
   ]
  },
  {
   "cell_type": "code",
   "execution_count": 120,
   "id": "aab0aa7f-8051-4ba1-bb7f-be8d113cbd1b",
   "metadata": {},
   "outputs": [
    {
     "data": {
      "text/plain": [
       "4032"
      ]
     },
     "execution_count": 120,
     "metadata": {},
     "output_type": "execute_result"
    }
   ],
   "source": [
    "np.where(np.abs(diff)>3e-2)[0].size"
   ]
  },
  {
   "cell_type": "code",
   "execution_count": null,
   "id": "cb1aa273-eccf-4418-a4bb-2170496fb2f2",
   "metadata": {},
   "outputs": [],
   "source": []
  },
  {
   "cell_type": "markdown",
   "id": "ba598ed0-170b-4e16-affe-f666f88fea42",
   "metadata": {},
   "source": [
    "Here one can see that in general the values in the two fields are close to each other. There are however around 0.2% entries with a difference of more than 0.01. These discrepancies are most likely due to the fact that the diffusion is not fully applied to the halo points, in particular corners, but some of these halo points are still included in the MPI gathering process. \n",
    "\n",
    "To mitigate this, one could optimize the partitioner class for higher halo numbers and in particular implement scattering and gathering processes that don't include the halo corners. This could turn out to be non-trivial and will require a thorough testing campaign, which is beyond the scope of this investigation."
   ]
  },
  {
   "cell_type": "code",
   "execution_count": null,
   "id": "bd61f378-ec9e-430b-a3b0-025e83d2c88f",
   "metadata": {},
   "outputs": [],
   "source": []
  },
  {
   "cell_type": "markdown",
   "id": "2837d1bf-2755-4f8a-85d3-2e0cdb45f20d",
   "metadata": {},
   "source": [
    "The code below was copied from the day2 exercises and shows that inspite of the sometimes non-vanishing differences the diffusion is working as expected in the parallelized version."
   ]
  },
  {
   "cell_type": "code",
   "execution_count": 121,
   "id": "57d04467-9fa1-4710-bd5a-d2820c81443f",
   "metadata": {},
   "outputs": [],
   "source": [
    "def read_field_from_file(filename, num_halo=None):\n",
    "    (rank, nbits, num_halo, nx, ny, nz) = np.fromfile(filename, dtype=np.int32, count=6)\n",
    "    offset = (3 + rank) * 32 // nbits\n",
    "    data = np.fromfile(\n",
    "        filename,\n",
    "        dtype=np.float32 if nbits == 32 else np.float64,\n",
    "        count=nz * ny * nx + offset,\n",
    "    )\n",
    "    if rank == 3:\n",
    "        return np.reshape(data[offset:], (nz, ny, nx))\n",
    "    else:\n",
    "        return np.reshape(data[offset:], (ny, nx))\n",
    "\n",
    "\n",
    "def validate_results():\n",
    "    fig, axs = plt.subplots(1, 2, figsize=(12, 4))\n",
    "\n",
    "    in_field = read_field_from_file(\"output_folder/out_fields/out_field_reference_nHalo_5.dat\")\n",
    "    im1 = axs[0].imshow(\n",
    "        in_field[in_field.shape[0] // 2, :, :], origin=\"lower\", vmin=-0.1, vmax=1.1\n",
    "    )\n",
    "    fig.colorbar(im1, ax=axs[0])\n",
    "    axs[0].set_title(\"Reference field\")\n",
    "\n",
    "    out_field = read_field_from_file(\"output_folder/out_fields/out_field_nNodes_5_nHalo_5.dat\")\n",
    "    im2 = axs[1].imshow(\n",
    "        out_field[out_field.shape[0] // 2, :, :], origin=\"lower\", vmin=-0.1, vmax=1.1\n",
    "    )\n",
    "    fig.colorbar(im2, ax=axs[1])\n",
    "    axs[1].set_title(\"Parallelized field\")\n",
    "\n",
    "    plt.show()"
   ]
  },
  {
   "cell_type": "code",
   "execution_count": 122,
   "id": "76a72839-bcba-4e16-bd75-39d22fb816b8",
   "metadata": {},
   "outputs": [
    {
     "data": {
      "image/png": "[encoded data removed]",
      "text/plain": [
       "<Figure size 864x288 with 4 Axes>"
      ]
     },
     "metadata": {
      "needs_background": "light"
     },
     "output_type": "display_data"
    }
   ],
   "source": [
    "validate_results()"
   ]
  },
  {
   "cell_type": "code",
   "execution_count": null,
   "id": "19279019-c9c3-4eb5-993f-8e6f3defa9a7",
   "metadata": {},
   "outputs": [],
   "source": []
  },
  {
   "cell_type": "code",
   "execution_count": null,
   "id": "493f2494-a0f7-49d0-a45c-b263dd291fa6",
   "metadata": {},
   "outputs": [],
   "source": []
  }
 ],
 "metadata": {
  "kernelspec": {
   "display_name": "HPC4WC_kernel",
   "language": "python",
   "name": "hpc4wc_kernel"
  },
  "language_info": {
   "codemirror_mode": {
    "name": "ipython",
    "version": 3
   },
   "file_extension": ".py",
   "mimetype": "text/x-python",
   "name": "python",
   "nbconvert_exporter": "python",
   "pygments_lexer": "ipython3",
   "version": "3.9.4"
  }
 },
 "nbformat": 4,
 "nbformat_minor": 5
}
