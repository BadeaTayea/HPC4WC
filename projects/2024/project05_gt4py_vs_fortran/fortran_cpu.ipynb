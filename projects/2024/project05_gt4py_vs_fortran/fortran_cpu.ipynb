{
 "cells": [
  {
   "cell_type": "code",
   "execution_count": 1,
   "id": "add3a1a1-c232-4ed9-b34d-835cd956efee",
   "metadata": {},
   "outputs": [],
   "source": [
    "#import necessary packages and libraries\n",
    "import timeit\n",
    "\n",
    "import matplotlib\n",
    "import matplotlib.pyplot as plt\n",
    "import numpy as np"
   ]
  },
  {
   "cell_type": "code",
   "execution_count": 2,
   "id": "f5f31c2d-0da2-4662-99d4-35cb8cafe477",
   "metadata": {},
   "outputs": [
    {
     "name": "stdout",
     "output_type": "stream",
     "text": [
      "rm -f *.out weak.txt caching.txt caching2.txt out.txt \n",
      "rm -f -rf *~ *.o *.mod *.MOD *.i core.* *.out *.lst *.x *.x+orig *.x+[0-9]* *.dat *.report report_*.txt out.txt\n"
     ]
    }
   ],
   "source": [
    "%%bash\n",
    "make clean"
   ]
  },
  {
   "cell_type": "code",
   "execution_count": 2,
   "id": "8dc952db-a697-439b-9125-7d37bcc89b9a",
   "metadata": {},
   "outputs": [],
   "source": [
    "#define necessary functions \n",
    "def read_field_from_file(filename, num_halo=None):\n",
    "    (rank, nbits, num_halo, nx, ny, nz) = np.fromfile(filename, dtype=np.int32, count=6)\n",
    "    offset = (3 + rank) * 32 // nbits\n",
    "    data = np.fromfile(\n",
    "        filename,\n",
    "        dtype=np.float32 if nbits == 32 else np.float64,\n",
    "        count=nz * ny * nx + offset,\n",
    "    )\n",
    "    if rank == 3:\n",
    "        return np.reshape(data[offset:], (nz, ny, nx))\n",
    "    else:\n",
    "        return np.reshape(data[offset:], (ny, nx))\n",
    "\n",
    "\n",
    "def validate_results():\n",
    "    fig, axs = plt.subplots(1, 2, figsize=(12, 4))\n",
    "\n",
    "    in_field = read_field_from_file(\"in_field.dat\")\n",
    "    im1 = axs[0].imshow(\n",
    "        in_field[in_field.shape[0] // 2, :, :], origin=\"lower\", vmin=-0.1, vmax=1.1\n",
    "    )\n",
    "    fig.colorbar(im1, ax=axs[0])\n",
    "    axs[0].set_title(\"Initial condition\")\n",
    "\n",
    "    out_field = read_field_from_file(\"out_field.dat\")\n",
    "    im2 = axs[1].imshow(\n",
    "        out_field[out_field.shape[0] // 2, :, :], origin=\"lower\", vmin=-0.1, vmax=1.1\n",
    "    )\n",
    "    fig.colorbar(im2, ax=axs[1])\n",
    "    axs[1].set_title(\"Final result\")\n",
    "\n",
    "    plt.show()"
   ]
  },
  {
   "cell_type": "markdown",
   "id": "fe88f3af-4e07-4e8a-af70-26dd7951c4dd",
   "metadata": {},
   "source": [
    "### Backend: OpenMP and MPI"
   ]
  },
  {
   "cell_type": "markdown",
   "id": "e16658c8-9a0d-476b-b1d2-c4d160586195",
   "metadata": {
    "tags": []
   },
   "source": [
    "#### K-parallel"
   ]
  },
  {
   "cell_type": "code",
   "execution_count": 3,
   "id": "fecfaa23-9726-459c-aeff-e69384f94c3a",
   "metadata": {},
   "outputs": [
    {
     "name": "stdout",
     "output_type": "stream",
     "text": [
      "make: 'stencil2d-kparallel.x' is up to date.\n"
     ]
    }
   ],
   "source": [
    "%%bash\n",
    "\n",
    "module load daint-gpu\n",
    "module switch PrgEnv-gnu PrgEnv-cray\n",
    "module load perftools-lite\n",
    "make VERSION=kparallel"
   ]
  },
  {
   "cell_type": "code",
   "execution_count": 7,
   "id": "b40bb6b3-7a28-4154-9feb-e11bd3287681",
   "metadata": {},
   "outputs": [
    {
     "name": "stderr",
     "output_type": "stream",
     "text": [
      "CrayPat/X:  Version 21.09.0 Revision b02949528  08/17/21 03:14:02\n"
     ]
    }
   ],
   "source": [
    "%%bash\n",
    "srun -n 1 ./stencil2d-kparallel.x --nx 1024 --ny 1024 --nz 128 --num_iter 4096 > report_kparallel_iter4096.txt"
   ]
  },
  {
   "cell_type": "code",
   "execution_count": 5,
   "id": "0fd56020-4ffd-40db-b956-b8e97dc721b9",
   "metadata": {},
   "outputs": [
    {
     "data": {
      "image/png": "[encoded data removed]",
      "text/plain": [
       "<Figure size 864x288 with 4 Axes>"
      ]
     },
     "metadata": {
      "needs_background": "light"
     },
     "output_type": "display_data"
    }
   ],
   "source": [
    "validate_results()"
   ]
  },
  {
   "cell_type": "markdown",
   "id": "0f28ca3e-e3d9-47f8-af22-df1dcda2e3b1",
   "metadata": {},
   "source": [
    "### Backend: Coarray "
   ]
  },
  {
   "cell_type": "code",
   "execution_count": 8,
   "id": "d1126344-7d55-4339-a21a-a90c1a7a044f",
   "metadata": {},
   "outputs": [
    {
     "name": "stdout",
     "output_type": "stream",
     "text": [
      "make: 'stencil2d-opencoarray.x' is up to date.\n"
     ]
    }
   ],
   "source": [
    "%%bash\n",
    "\n",
    "module load daint-gpu\n",
    "module switch PrgEnv-gnu PrgEnv-cray\n",
    "module load perftools-lite\n",
    "make VERSION=opencoarray"
   ]
  },
  {
   "cell_type": "code",
   "execution_count": 11,
   "id": "2001463b-a75f-4ee7-a56d-51086605f5b9",
   "metadata": {},
   "outputs": [
    {
     "name": "stderr",
     "output_type": "stream",
     "text": [
      "CrayPat/X:  Version 21.09.0 Revision b02949528  08/17/21 03:14:02\n"
     ]
    }
   ],
   "source": [
    "%%bash\n",
    "srun -n 1 ./stencil2d-opencoarray.x --nx 1024 --ny 1024 --nz 128 --num_iter 4096 > report_opencoarray_4096.txt"
   ]
  },
  {
   "cell_type": "code",
   "execution_count": 9,
   "id": "c4138864-6a72-4805-9155-79ea5a7c7f86",
   "metadata": {},
   "outputs": [
    {
     "data": {
      "image/png": "[encoded data removed]",
      "text/plain": [
       "<Figure size 864x288 with 4 Axes>"
      ]
     },
     "metadata": {
      "needs_background": "light"
     },
     "output_type": "display_data"
    }
   ],
   "source": [
    "validate_results()"
   ]
  }
 ],
 "metadata": {
  "kernelspec": {
   "display_name": "HPC4WC_kernel",
   "language": "python",
   "name": "hpc4wc_kernel"
  },
  "language_info": {
   "codemirror_mode": {
    "name": "ipython",
    "version": 3
   },
   "file_extension": ".py",
   "mimetype": "text/x-python",
   "name": "python",
   "nbconvert_exporter": "python",
   "pygments_lexer": "ipython3",
   "version": "3.9.4"
  }
 },
 "nbformat": 4,
 "nbformat_minor": 5
}
