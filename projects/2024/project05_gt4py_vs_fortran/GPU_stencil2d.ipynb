{
 "cells": [
  {
   "cell_type": "markdown",
   "id": "f17232fd-9244-402d-9ebe-1b868cca7037",
   "metadata": {},
   "source": [
    "# GPU Stencil2d program"
   ]
  },
  {
   "cell_type": "code",
   "execution_count": 1,
   "id": "2b2cac11-6452-42d9-b387-02d20afabc25",
   "metadata": {},
   "outputs": [],
   "source": [
    "import timeit\n",
    "import numpy as np\n",
    "import cupy as cp\n",
    "import matplotlib.pyplot as plt"
   ]
  },
  {
   "cell_type": "code",
   "execution_count": 2,
   "id": "3ba92eaf-3eb4-499d-833e-f50d88729b84",
   "metadata": {},
   "outputs": [],
   "source": [
    "def read_field_from_file(filename, num_halo=None):\n",
    "    (rank, nbits, num_halo, nx, ny, nz) = np.fromfile(filename, dtype=np.int32, count=6)\n",
    "    offset=(3 + rank) * 32 // nbits\n",
    "    data = np.fromfile(filename, dtype=np.float32 if nbits == 32 else np.float64, \\\n",
    "                       count=nz * ny * nx + offset)\n",
    "    if rank == 3:\n",
    "        return np.reshape(data[offset:], (nz, ny, nx))\n",
    "    else:\n",
    "        return np.reshape(data[offset:], (ny, nx))\n",
    "    \n",
    "def validate_results():\n",
    "    fig, axs = plt.subplots(1, 2, figsize=(12, 4))\n",
    "\n",
    "    in_field = read_field_from_file('in_field.dat')\n",
    "    k_lev = in_field.shape[0] // 2\n",
    "    im1 = axs[0].imshow(in_field[k_lev, :, :], origin='lower', vmin=-0.1, vmax=1.1);\n",
    "    fig.colorbar(im1, ax=axs[0]);\n",
    "    axs[0].set_title('Initial condition (k = {})'.format(k_lev));\n",
    "\n",
    "    out_field = read_field_from_file('out_field.dat')\n",
    "    k_lev = out_field.shape[0] // 2\n",
    "    im2 = axs[1].imshow(out_field[k_lev, :, :], origin='lower', vmin=-0.1, vmax=1.1);\n",
    "    fig.colorbar(im2, ax=axs[1]);\n",
    "    axs[1].set_title('Final result (k = {})'.format(k_lev));\n",
    "    \n",
    "    plt.show()"
   ]
  },
  {
   "cell_type": "code",
   "execution_count": 6,
   "id": "3dfaac74-3271-4ad5-888a-8e03095b40a7",
   "metadata": {},
   "outputs": [
    {
     "name": "stdout",
     "output_type": "stream",
     "text": [
      "====== 128 x 128 x 64 ======\n"
     ]
    },
    {
     "name": "stderr",
     "output_type": "stream",
     "text": [
      "CrayPat/X:  Version 21.09.0 Revision b02949528  08/17/21 03:14:02\n"
     ]
    }
   ],
   "source": [
    "%%bash\n",
    "echo \"====== 128 x 128 x 64 ======\"\n",
    "srun -n 12 ./stencil2d-basic.x --nx 128 --ny 128 --nz 64 --num_iter 1024 > report_basic.txt"
   ]
  },
  {
   "cell_type": "markdown",
   "id": "0e008aac-31c0-45f6-9240-3bcefea15132",
   "metadata": {
    "tags": []
   },
   "source": [
    "## OpenACC version 1"
   ]
  },
  {
   "cell_type": "markdown",
   "id": "b5035746-f264-437e-b0d9-1d495538f7f7",
   "metadata": {},
   "source": [
    "This is the first step of implementing the use of the GPU to accelerate the computation.\n",
    "Only the j and i loops inside the k loop are parallelised using simple !$acc parallel and !$acc loop gang/vector.\n",
    "\n",
    "I havn't yet tried to transfer the data to avoid overhead"
   ]
  },
  {
   "cell_type": "markdown",
   "id": "427f5721-bf7f-45ee-8317-0a80936dc5a7",
   "metadata": {
    "tags": []
   },
   "source": [
    "### Compiling"
   ]
  },
  {
   "cell_type": "code",
   "execution_count": 20,
   "id": "73778019-cdae-418a-89d0-e427c0ce1e11",
   "metadata": {},
   "outputs": [],
   "source": [
    "%%bash\n",
    "module switch PrgEnv-gnu PrgEnv-cray\n",
    "\n",
    "ftn -O3 -eZ -c m_utils.F90\n",
    "ftn -O3 -eZ -c stencil2d_openacc_parallel.F90\n",
    "ftn -O3 -eZ m_utils.o stencil2d_openacc_parallel.o -o stencil2d_openacc_parallel.x"
   ]
  },
  {
   "cell_type": "markdown",
   "id": "b5dfbd95-adce-4bef-a6cb-855003edb53b",
   "metadata": {},
   "source": [
    "### Running and validating"
   ]
  },
  {
   "cell_type": "code",
   "execution_count": 22,
   "id": "686f01ae-cfb5-48a8-a105-807a6e3f14db",
   "metadata": {},
   "outputs": [
    {
     "name": "stdout",
     "output_type": "stream",
     "text": [
      "pd.DataFrame(columns=['x','y','z','iter','time'],data=[\\\n",
      "[   64,   64,   32,    1028,     0.053], \\\n",
      "] )\n"
     ]
    }
   ],
   "source": [
    "output = !srun ./stencil2d_openacc_parallel.x --nx 64 --ny 64 --nz 32 --num_iter 1024 #> /dev/null\n",
    "print(output.nlstr)"
   ]
  },
  {
   "cell_type": "code",
   "execution_count": 9,
   "id": "43683c91-826a-4e00-bd13-7daf06ae8c8e",
   "metadata": {
    "tags": []
   },
   "outputs": [
    {
     "data": {
      "image/png": "[encoded data removed]",
      "text/plain": [
       "<Figure size 864x288 with 4 Axes>"
      ]
     },
     "metadata": {
      "needs_background": "light"
     },
     "output_type": "display_data"
    }
   ],
   "source": [
    "validate_results()"
   ]
  },
  {
   "cell_type": "code",
   "execution_count": 24,
   "id": "97000604-f44f-49fc-89a4-adab6abbc050",
   "metadata": {},
   "outputs": [],
   "source": [
    "%%bash\n",
    "srun ./stencil2d_openacc_parallel.x --scan --ny 64 --nz 32 --num_iter 1024 > ./bench_openacc_parallel.txt"
   ]
  },
  {
   "cell_type": "markdown",
   "id": "b97cf111-c527-474c-8cfe-147ccd3a30fc",
   "metadata": {
    "tags": []
   },
   "source": [
    "### Compiling"
   ]
  },
  {
   "cell_type": "code",
   "execution_count": 25,
   "id": "71b93b66-334c-48f1-9a89-8edb7838703b",
   "metadata": {},
   "outputs": [],
   "source": [
    "%%bash\n",
    "module switch PrgEnv-gnu PrgEnv-cray\n",
    "\n",
    "ftn -O3 -eZ -c m_utils.F90\n",
    "ftn -O3 -eZ -c stencil2d_openacc_v2.F90\n",
    "ftn -O3 -eZ m_utils.o stencil2d_openacc_v2.o -o stencil2d_openacc_v2.x"
   ]
  },
  {
   "cell_type": "code",
   "execution_count": 26,
   "id": "b9df30bc-cdb2-4683-8efc-8e678a60cafa",
   "metadata": {},
   "outputs": [
    {
     "name": "stdout",
     "output_type": "stream",
     "text": [
      "pd.DataFrame(columns=['x','y','z','iter','time'],data=[\\\n",
      "[   64,   64,   32,    1024,     0.049], \\\n",
      "] )\n"
     ]
    }
   ],
   "source": [
    "output = !srun ./stencil2d_openacc_v2.x --nx 64 --ny 64 --nz 32 --num_iter 1024 #> /dev/null\n",
    "print(output.nlstr)"
   ]
  },
  {
   "cell_type": "code",
   "execution_count": 28,
   "id": "b4c6f894-1d21-4740-94ed-928d98eb8736",
   "metadata": {},
   "outputs": [
    {
     "name": "stderr",
     "output_type": "stream",
     "text": [
      "srun: interrupt (one more within 1 sec to abort)\n",
      "srun: StepId=55807539.17 task 0: running\n"
     ]
    },
    {
     "name": "stdout",
     "output_type": "stream",
     "text": [
      "Error while terminating subprocess (pid=9951): \n"
     ]
    }
   ],
   "source": [
    "%%bash\n",
    "srun ./stencil2d_openacc_v2.x --scan --ny 64 --nz 32 --num_iter 1024 > ./bench_openacc_v2.txt"
   ]
  },
  {
   "cell_type": "markdown",
   "id": "4bc218b8-9b4e-4162-a202-6760d4bf5285",
   "metadata": {
    "tags": []
   },
   "source": [
    "### Compiling"
   ]
  },
  {
   "cell_type": "code",
   "execution_count": 38,
   "id": "af757bbb-aedc-4f92-84d5-d781633808bf",
   "metadata": {},
   "outputs": [],
   "source": [
    "%%bash\n",
    "module switch PrgEnv-gnu PrgEnv-cray\n",
    "\n",
    "ftn -O3 -eZ -c m_utils.F90\n",
    "ftn -O3 -eZ -c stencil2d_openacc_v3.F90\n",
    "ftn -O3 -eZ m_utils.o stencil2d_openacc_v3.o -o stencil2d_openacc_v3.x"
   ]
  },
  {
   "cell_type": "code",
   "execution_count": 39,
   "id": "d1a3c966-6f0e-46ca-82f7-c36f76ea7cc0",
   "metadata": {},
   "outputs": [
    {
     "name": "stderr",
     "output_type": "stream",
     "text": [
      "ACC: WARNING: Force free of all reusable memory from stencil2d_openacc_v3.F90:138\n",
      "ACC: WARNING: Force free of all reusable memory from stencil2d_openacc_v3.F90:138\n",
      "ACC: craylibs/libcrayacc/acc_hw_nvidia.c:620 CRAY_ACC_ERROR -  cuMemAlloc returned CUDA_ERROR_OUT_OF_MEMORY: 'out of memory' from stencil2d_openacc_v3.F90:138\n",
      "srun: error: nid02551: task 0: Exited with exit code 1\n",
      "srun: launch/slurm: _step_signal: Terminating StepId=55807539.20\n"
     ]
    },
    {
     "name": "stdout",
     "output_type": "stream",
     "text": [
      "srun: Job 55807539 step creation temporarily disabled, retrying (Requested nodes are busy)\n",
      "srun: Job 55807539 step creation still disabled, retrying (Requested nodes are busy)\n",
      "srun: Step created for job 55807539\n",
      "pd.DataFrame(columns=['x','y','z','iter','time'],data=[\\\n",
      "[   64,   64,   32,    1024,     0.062], \\\n",
      "] )\n"
     ]
    }
   ],
   "source": [
    "output = !srun ./stencil2d_openacc_v3.x --nx 64 --ny 64 --nz 32 --num_iter 1024 \n",
    "print(output.nlstr)"
   ]
  },
  {
   "cell_type": "code",
   "execution_count": 40,
   "id": "2ede6ae9-ae78-4815-ba04-e72aaf46b477",
   "metadata": {},
   "outputs": [
    {
     "name": "stderr",
     "output_type": "stream",
     "text": [
      "ACC: WARNING: Force free of all reusable memory from stencil2d_openacc_v3.F90:138\n",
      "ACC: WARNING: Force free of all reusable memory from stencil2d_openacc_v3.F90:138\n",
      "ACC: craylibs/libcrayacc/acc_hw_nvidia.c:620 CRAY_ACC_ERROR -  cuMemAlloc returned CUDA_ERROR_OUT_OF_MEMORY: 'out of memory' from stencil2d_openacc_v3.F90:138\n",
      "srun: error: nid02551: task 0: Exited with exit code 1\n",
      "srun: launch/slurm: _step_signal: Terminating StepId=55807539.22\n"
     ]
    },
    {
     "ename": "CalledProcessError",
     "evalue": "Command 'b'srun ./stencil2d_openacc_v3.x --scan --ny 64 --nz 32 --num_iter 1024 > ./bench_openacc_v3.txt\\n'' returned non-zero exit status 1.",
     "output_type": "error",
     "traceback": [
      "\u001b[0;31m---------------------------------------------------------------------------\u001b[0m",
      "\u001b[0;31mCalledProcessError\u001b[0m                        Traceback (most recent call last)",
      "Input \u001b[0;32mIn [40]\u001b[0m, in \u001b[0;36m<module>\u001b[0;34m\u001b[0m\n\u001b[0;32m----> 1\u001b[0m \u001b[43mget_ipython\u001b[49m\u001b[43m(\u001b[49m\u001b[43m)\u001b[49m\u001b[38;5;241;43m.\u001b[39;49m\u001b[43mrun_cell_magic\u001b[49m\u001b[43m(\u001b[49m\u001b[38;5;124;43m'\u001b[39;49m\u001b[38;5;124;43mbash\u001b[39;49m\u001b[38;5;124;43m'\u001b[39;49m\u001b[43m,\u001b[49m\u001b[43m \u001b[49m\u001b[38;5;124;43m'\u001b[39;49m\u001b[38;5;124;43m'\u001b[39;49m\u001b[43m,\u001b[49m\u001b[43m \u001b[49m\u001b[38;5;124;43m'\u001b[39;49m\u001b[38;5;124;43msrun ./stencil2d_openacc_v3.x --scan --ny 64 --nz 32 --num_iter 1024 > ./bench_openacc_v3.txt\u001b[39;49m\u001b[38;5;130;43;01m\\n\u001b[39;49;00m\u001b[38;5;124;43m'\u001b[39;49m\u001b[43m)\u001b[49m\n",
      "File \u001b[0;32m/apps/daint/UES/jenkins/7.0.UP03/21.09/daint-gpu/software/jupyterlab/3.2.8-CrayGNU-21.09-batchspawner-cuda/lib/python3.9/site-packages/IPython/core/interactiveshell.py:2257\u001b[0m, in \u001b[0;36mInteractiveShell.run_cell_magic\u001b[0;34m(self, magic_name, line, cell)\u001b[0m\n\u001b[1;32m   2255\u001b[0m \u001b[38;5;28;01mwith\u001b[39;00m \u001b[38;5;28mself\u001b[39m\u001b[38;5;241m.\u001b[39mbuiltin_trap:\n\u001b[1;32m   2256\u001b[0m     args \u001b[38;5;241m=\u001b[39m (magic_arg_s, cell)\n\u001b[0;32m-> 2257\u001b[0m     result \u001b[38;5;241m=\u001b[39m \u001b[43mfn\u001b[49m\u001b[43m(\u001b[49m\u001b[38;5;241;43m*\u001b[39;49m\u001b[43margs\u001b[49m\u001b[43m,\u001b[49m\u001b[43m \u001b[49m\u001b[38;5;241;43m*\u001b[39;49m\u001b[38;5;241;43m*\u001b[39;49m\u001b[43mkwargs\u001b[49m\u001b[43m)\u001b[49m\n\u001b[1;32m   2258\u001b[0m \u001b[38;5;28;01mreturn\u001b[39;00m result\n",
      "File \u001b[0;32m/apps/daint/UES/jenkins/7.0.UP03/21.09/daint-gpu/software/jupyterlab/3.2.8-CrayGNU-21.09-batchspawner-cuda/lib/python3.9/site-packages/IPython/core/magics/script.py:153\u001b[0m, in \u001b[0;36mScriptMagics._make_script_magic.<locals>.named_script_magic\u001b[0;34m(line, cell)\u001b[0m\n\u001b[1;32m    151\u001b[0m \u001b[38;5;28;01melse\u001b[39;00m:\n\u001b[1;32m    152\u001b[0m     line \u001b[38;5;241m=\u001b[39m script\n\u001b[0;32m--> 153\u001b[0m \u001b[38;5;28;01mreturn\u001b[39;00m \u001b[38;5;28;43mself\u001b[39;49m\u001b[38;5;241;43m.\u001b[39;49m\u001b[43mshebang\u001b[49m\u001b[43m(\u001b[49m\u001b[43mline\u001b[49m\u001b[43m,\u001b[49m\u001b[43m \u001b[49m\u001b[43mcell\u001b[49m\u001b[43m)\u001b[49m\n",
      "File \u001b[0;32m/apps/daint/UES/jenkins/7.0.UP03/21.09/daint-gpu/software/jupyterlab/3.2.8-CrayGNU-21.09-batchspawner-cuda/lib/python3.9/site-packages/IPython/core/magics/script.py:305\u001b[0m, in \u001b[0;36mScriptMagics.shebang\u001b[0;34m(self, line, cell)\u001b[0m\n\u001b[1;32m    300\u001b[0m \u001b[38;5;28;01mif\u001b[39;00m args\u001b[38;5;241m.\u001b[39mraise_error \u001b[38;5;129;01mand\u001b[39;00m p\u001b[38;5;241m.\u001b[39mreturncode \u001b[38;5;241m!=\u001b[39m \u001b[38;5;241m0\u001b[39m:\n\u001b[1;32m    301\u001b[0m     \u001b[38;5;66;03m# If we get here and p.returncode is still None, we must have\u001b[39;00m\n\u001b[1;32m    302\u001b[0m     \u001b[38;5;66;03m# killed it but not yet seen its return code. We don't wait for it,\u001b[39;00m\n\u001b[1;32m    303\u001b[0m     \u001b[38;5;66;03m# in case it's stuck in uninterruptible sleep. -9 = SIGKILL\u001b[39;00m\n\u001b[1;32m    304\u001b[0m     rc \u001b[38;5;241m=\u001b[39m p\u001b[38;5;241m.\u001b[39mreturncode \u001b[38;5;129;01mor\u001b[39;00m \u001b[38;5;241m-\u001b[39m\u001b[38;5;241m9\u001b[39m\n\u001b[0;32m--> 305\u001b[0m     \u001b[38;5;28;01mraise\u001b[39;00m CalledProcessError(rc, cell)\n",
      "\u001b[0;31mCalledProcessError\u001b[0m: Command 'b'srun ./stencil2d_openacc_v3.x --scan --ny 64 --nz 32 --num_iter 1024 > ./bench_openacc_v3.txt\\n'' returned non-zero exit status 1."
     ]
    }
   ],
   "source": [
    "%%bash\n",
    "srun ./stencil2d_openacc_v3.x --scan --ny 64 --nz 32 --num_iter 1024 > ./bench_openacc_v3.txt"
   ]
  },
  {
   "cell_type": "markdown",
   "id": "459c82af-a4f8-48b4-94df-143b8e3b4a68",
   "metadata": {
    "tags": []
   },
   "source": [
    "### Compiling"
   ]
  },
  {
   "cell_type": "code",
   "execution_count": 50,
   "id": "27fe12d9-4d55-495f-a836-86d0bee6f26a",
   "metadata": {},
   "outputs": [],
   "source": [
    "%%bash\n",
    "module switch PrgEnv-gnu PrgEnv-cray\n",
    "\n",
    "ftn -O3 -eZ -c m_utils.F90\n",
    "ftn -O3 -eZ -c stencil2d_openacc_v4.F90\n",
    "ftn -O3 -eZ m_utils.o stencil2d_openacc_v4.o -o stencil2d_openacc_v4.x"
   ]
  },
  {
   "cell_type": "code",
   "execution_count": 56,
   "id": "0777027d-d711-4e16-8bf6-780b60bd81f5",
   "metadata": {},
   "outputs": [
    {
     "name": "stdout",
     "output_type": "stream",
     "text": [
      "pd.DataFrame(columns=['x','y','z','iter','time'],data=[\\\n",
      "[   16,   64,   32,    1024,     0.033], \\\n",
      "] )\n"
     ]
    }
   ],
   "source": [
    "output = !srun ./stencil2d_openacc_v4.x --nx 16 --ny 64 --nz 32 --num_iter 1024 \n",
    "print(output.nlstr)"
   ]
  },
  {
   "cell_type": "code",
   "execution_count": 43,
   "id": "88baef05-ddef-419f-a0c1-71554d45bb5b",
   "metadata": {},
   "outputs": [
    {
     "name": "stderr",
     "output_type": "stream",
     "text": [
      "ACC: WARNING: Force free of all reusable memory from stencil2d_openacc_v4.F90:138\n",
      "ACC: craylibs/libcrayacc/acc_hw_nvidia.c:620 CRAY_ACC_ERROR -  cuMemAlloc returned CUDA_ERROR_OUT_OF_MEMORY: 'out of memory' from stencil2d_openacc_v4.F90:138\n",
      "srun: error: nid02551: task 0: Exited with exit code 1\n",
      "srun: launch/slurm: _step_signal: Terminating StepId=55807539.24\n"
     ]
    },
    {
     "ename": "CalledProcessError",
     "evalue": "Command 'b'srun ./stencil2d_openacc_v4.x --scan --ny 64 --nz 32 --num_iter 1024 > ./bench_openacc_v4.txt\\n'' returned non-zero exit status 1.",
     "output_type": "error",
     "traceback": [
      "\u001b[0;31m---------------------------------------------------------------------------\u001b[0m",
      "\u001b[0;31mCalledProcessError\u001b[0m                        Traceback (most recent call last)",
      "Input \u001b[0;32mIn [43]\u001b[0m, in \u001b[0;36m<module>\u001b[0;34m\u001b[0m\n\u001b[0;32m----> 1\u001b[0m \u001b[43mget_ipython\u001b[49m\u001b[43m(\u001b[49m\u001b[43m)\u001b[49m\u001b[38;5;241;43m.\u001b[39;49m\u001b[43mrun_cell_magic\u001b[49m\u001b[43m(\u001b[49m\u001b[38;5;124;43m'\u001b[39;49m\u001b[38;5;124;43mbash\u001b[39;49m\u001b[38;5;124;43m'\u001b[39;49m\u001b[43m,\u001b[49m\u001b[43m \u001b[49m\u001b[38;5;124;43m'\u001b[39;49m\u001b[38;5;124;43m'\u001b[39;49m\u001b[43m,\u001b[49m\u001b[43m \u001b[49m\u001b[38;5;124;43m'\u001b[39;49m\u001b[38;5;124;43msrun ./stencil2d_openacc_v4.x --scan --ny 64 --nz 32 --num_iter 1024 > ./bench_openacc_v4.txt\u001b[39;49m\u001b[38;5;130;43;01m\\n\u001b[39;49;00m\u001b[38;5;124;43m'\u001b[39;49m\u001b[43m)\u001b[49m\n",
      "File \u001b[0;32m/apps/daint/UES/jenkins/7.0.UP03/21.09/daint-gpu/software/jupyterlab/3.2.8-CrayGNU-21.09-batchspawner-cuda/lib/python3.9/site-packages/IPython/core/interactiveshell.py:2257\u001b[0m, in \u001b[0;36mInteractiveShell.run_cell_magic\u001b[0;34m(self, magic_name, line, cell)\u001b[0m\n\u001b[1;32m   2255\u001b[0m \u001b[38;5;28;01mwith\u001b[39;00m \u001b[38;5;28mself\u001b[39m\u001b[38;5;241m.\u001b[39mbuiltin_trap:\n\u001b[1;32m   2256\u001b[0m     args \u001b[38;5;241m=\u001b[39m (magic_arg_s, cell)\n\u001b[0;32m-> 2257\u001b[0m     result \u001b[38;5;241m=\u001b[39m \u001b[43mfn\u001b[49m\u001b[43m(\u001b[49m\u001b[38;5;241;43m*\u001b[39;49m\u001b[43margs\u001b[49m\u001b[43m,\u001b[49m\u001b[43m \u001b[49m\u001b[38;5;241;43m*\u001b[39;49m\u001b[38;5;241;43m*\u001b[39;49m\u001b[43mkwargs\u001b[49m\u001b[43m)\u001b[49m\n\u001b[1;32m   2258\u001b[0m \u001b[38;5;28;01mreturn\u001b[39;00m result\n",
      "File \u001b[0;32m/apps/daint/UES/jenkins/7.0.UP03/21.09/daint-gpu/software/jupyterlab/3.2.8-CrayGNU-21.09-batchspawner-cuda/lib/python3.9/site-packages/IPython/core/magics/script.py:153\u001b[0m, in \u001b[0;36mScriptMagics._make_script_magic.<locals>.named_script_magic\u001b[0;34m(line, cell)\u001b[0m\n\u001b[1;32m    151\u001b[0m \u001b[38;5;28;01melse\u001b[39;00m:\n\u001b[1;32m    152\u001b[0m     line \u001b[38;5;241m=\u001b[39m script\n\u001b[0;32m--> 153\u001b[0m \u001b[38;5;28;01mreturn\u001b[39;00m \u001b[38;5;28;43mself\u001b[39;49m\u001b[38;5;241;43m.\u001b[39;49m\u001b[43mshebang\u001b[49m\u001b[43m(\u001b[49m\u001b[43mline\u001b[49m\u001b[43m,\u001b[49m\u001b[43m \u001b[49m\u001b[43mcell\u001b[49m\u001b[43m)\u001b[49m\n",
      "File \u001b[0;32m/apps/daint/UES/jenkins/7.0.UP03/21.09/daint-gpu/software/jupyterlab/3.2.8-CrayGNU-21.09-batchspawner-cuda/lib/python3.9/site-packages/IPython/core/magics/script.py:305\u001b[0m, in \u001b[0;36mScriptMagics.shebang\u001b[0;34m(self, line, cell)\u001b[0m\n\u001b[1;32m    300\u001b[0m \u001b[38;5;28;01mif\u001b[39;00m args\u001b[38;5;241m.\u001b[39mraise_error \u001b[38;5;129;01mand\u001b[39;00m p\u001b[38;5;241m.\u001b[39mreturncode \u001b[38;5;241m!=\u001b[39m \u001b[38;5;241m0\u001b[39m:\n\u001b[1;32m    301\u001b[0m     \u001b[38;5;66;03m# If we get here and p.returncode is still None, we must have\u001b[39;00m\n\u001b[1;32m    302\u001b[0m     \u001b[38;5;66;03m# killed it but not yet seen its return code. We don't wait for it,\u001b[39;00m\n\u001b[1;32m    303\u001b[0m     \u001b[38;5;66;03m# in case it's stuck in uninterruptible sleep. -9 = SIGKILL\u001b[39;00m\n\u001b[1;32m    304\u001b[0m     rc \u001b[38;5;241m=\u001b[39m p\u001b[38;5;241m.\u001b[39mreturncode \u001b[38;5;129;01mor\u001b[39;00m \u001b[38;5;241m-\u001b[39m\u001b[38;5;241m9\u001b[39m\n\u001b[0;32m--> 305\u001b[0m     \u001b[38;5;28;01mraise\u001b[39;00m CalledProcessError(rc, cell)\n",
      "\u001b[0;31mCalledProcessError\u001b[0m: Command 'b'srun ./stencil2d_openacc_v4.x --scan --ny 64 --nz 32 --num_iter 1024 > ./bench_openacc_v4.txt\\n'' returned non-zero exit status 1."
     ]
    }
   ],
   "source": [
    "%%bash\n",
    "srun ./stencil2d_openacc_v4.x --scan --ny 64 --nz 32 --num_iter 1024 > ./bench_openacc_v4.txt"
   ]
  },
  {
   "cell_type": "markdown",
   "id": "ae5f40a7-d242-4478-a7da-0032abbede27",
   "metadata": {
    "tags": []
   },
   "source": [
    "## OpenACC k-parallel version\n"
   ]
  },
  {
   "cell_type": "markdown",
   "id": "b433a06e-9452-418d-bdd0-4d1373971e6a",
   "metadata": {
    "tags": []
   },
   "source": [
    "### Compiling"
   ]
  },
  {
   "cell_type": "code",
   "execution_count": 83,
   "id": "19c4d40a-e8b7-404a-a953-fd31e008ea16",
   "metadata": {},
   "outputs": [],
   "source": [
    "%%bash\n",
    "module switch PrgEnv-gnu PrgEnv-cray\n",
    "\n",
    "ftn -O3 -eZ -c m_utils.F90\n",
    "ftn -O3 -eZ -c stencil2d_openacc_k.F90\n",
    "ftn -O3 -eZ m_utils.o stencil2d_openacc_k.o -o stencil2d_openacc_k.x"
   ]
  },
  {
   "cell_type": "code",
   "execution_count": 97,
   "id": "159fab7e-479c-4650-85b6-59c4cf269250",
   "metadata": {},
   "outputs": [
    {
     "name": "stdout",
     "output_type": "stream",
     "text": [
      "pd.DataFrame(columns=['x','y','z','iter','time'],data=[\\\n",
      "[ 1024, 1024,  128,    4096,    64.721], \\\n",
      "] )\n"
     ]
    }
   ],
   "source": [
    "output = !srun ./stencil2d_openacc_k.x --nx 1024 --ny 1024 --nz 128 --num_iter 4096 \n",
    "print(output.nlstr)"
   ]
  },
  {
   "cell_type": "code",
   "execution_count": 72,
   "id": "dafea9f3-d41e-4187-979c-c7210d03ea10",
   "metadata": {},
   "outputs": [
    {
     "name": "stderr",
     "output_type": "stream",
     "text": [
      "slurmstepd: error: Detected 1 oom-kill event(s) in StepId=55807539.47 cgroup. Some of your processes may have been killed by the cgroup out-of-memory handler.\n",
      "srun: error: nid02551: task 0: Out Of Memory\n",
      "srun: launch/slurm: _step_signal: Terminating StepId=55807539.47\n"
     ]
    },
    {
     "ename": "CalledProcessError",
     "evalue": "Command 'b'srun ./stencil2d_openacc_v5.x --scan --nx 64 --nz 32 --num_iter 1024 > ./bench_openacc_v5.txt\\n'' returned non-zero exit status 1.",
     "output_type": "error",
     "traceback": [
      "\u001b[0;31m---------------------------------------------------------------------------\u001b[0m",
      "\u001b[0;31mCalledProcessError\u001b[0m                        Traceback (most recent call last)",
      "Input \u001b[0;32mIn [72]\u001b[0m, in \u001b[0;36m<module>\u001b[0;34m\u001b[0m\n\u001b[0;32m----> 1\u001b[0m \u001b[43mget_ipython\u001b[49m\u001b[43m(\u001b[49m\u001b[43m)\u001b[49m\u001b[38;5;241;43m.\u001b[39;49m\u001b[43mrun_cell_magic\u001b[49m\u001b[43m(\u001b[49m\u001b[38;5;124;43m'\u001b[39;49m\u001b[38;5;124;43mbash\u001b[39;49m\u001b[38;5;124;43m'\u001b[39;49m\u001b[43m,\u001b[49m\u001b[43m \u001b[49m\u001b[38;5;124;43m'\u001b[39;49m\u001b[38;5;124;43m'\u001b[39;49m\u001b[43m,\u001b[49m\u001b[43m \u001b[49m\u001b[38;5;124;43m'\u001b[39;49m\u001b[38;5;124;43msrun ./stencil2d_openacc_v5.x --scan --nx 64 --nz 32 --num_iter 1024 > ./bench_openacc_v5.txt\u001b[39;49m\u001b[38;5;130;43;01m\\n\u001b[39;49;00m\u001b[38;5;124;43m'\u001b[39;49m\u001b[43m)\u001b[49m\n",
      "File \u001b[0;32m/apps/daint/UES/jenkins/7.0.UP03/21.09/daint-gpu/software/jupyterlab/3.2.8-CrayGNU-21.09-batchspawner-cuda/lib/python3.9/site-packages/IPython/core/interactiveshell.py:2257\u001b[0m, in \u001b[0;36mInteractiveShell.run_cell_magic\u001b[0;34m(self, magic_name, line, cell)\u001b[0m\n\u001b[1;32m   2255\u001b[0m \u001b[38;5;28;01mwith\u001b[39;00m \u001b[38;5;28mself\u001b[39m\u001b[38;5;241m.\u001b[39mbuiltin_trap:\n\u001b[1;32m   2256\u001b[0m     args \u001b[38;5;241m=\u001b[39m (magic_arg_s, cell)\n\u001b[0;32m-> 2257\u001b[0m     result \u001b[38;5;241m=\u001b[39m \u001b[43mfn\u001b[49m\u001b[43m(\u001b[49m\u001b[38;5;241;43m*\u001b[39;49m\u001b[43margs\u001b[49m\u001b[43m,\u001b[49m\u001b[43m \u001b[49m\u001b[38;5;241;43m*\u001b[39;49m\u001b[38;5;241;43m*\u001b[39;49m\u001b[43mkwargs\u001b[49m\u001b[43m)\u001b[49m\n\u001b[1;32m   2258\u001b[0m \u001b[38;5;28;01mreturn\u001b[39;00m result\n",
      "File \u001b[0;32m/apps/daint/UES/jenkins/7.0.UP03/21.09/daint-gpu/software/jupyterlab/3.2.8-CrayGNU-21.09-batchspawner-cuda/lib/python3.9/site-packages/IPython/core/magics/script.py:153\u001b[0m, in \u001b[0;36mScriptMagics._make_script_magic.<locals>.named_script_magic\u001b[0;34m(line, cell)\u001b[0m\n\u001b[1;32m    151\u001b[0m \u001b[38;5;28;01melse\u001b[39;00m:\n\u001b[1;32m    152\u001b[0m     line \u001b[38;5;241m=\u001b[39m script\n\u001b[0;32m--> 153\u001b[0m \u001b[38;5;28;01mreturn\u001b[39;00m \u001b[38;5;28;43mself\u001b[39;49m\u001b[38;5;241;43m.\u001b[39;49m\u001b[43mshebang\u001b[49m\u001b[43m(\u001b[49m\u001b[43mline\u001b[49m\u001b[43m,\u001b[49m\u001b[43m \u001b[49m\u001b[43mcell\u001b[49m\u001b[43m)\u001b[49m\n",
      "File \u001b[0;32m/apps/daint/UES/jenkins/7.0.UP03/21.09/daint-gpu/software/jupyterlab/3.2.8-CrayGNU-21.09-batchspawner-cuda/lib/python3.9/site-packages/IPython/core/magics/script.py:305\u001b[0m, in \u001b[0;36mScriptMagics.shebang\u001b[0;34m(self, line, cell)\u001b[0m\n\u001b[1;32m    300\u001b[0m \u001b[38;5;28;01mif\u001b[39;00m args\u001b[38;5;241m.\u001b[39mraise_error \u001b[38;5;129;01mand\u001b[39;00m p\u001b[38;5;241m.\u001b[39mreturncode \u001b[38;5;241m!=\u001b[39m \u001b[38;5;241m0\u001b[39m:\n\u001b[1;32m    301\u001b[0m     \u001b[38;5;66;03m# If we get here and p.returncode is still None, we must have\u001b[39;00m\n\u001b[1;32m    302\u001b[0m     \u001b[38;5;66;03m# killed it but not yet seen its return code. We don't wait for it,\u001b[39;00m\n\u001b[1;32m    303\u001b[0m     \u001b[38;5;66;03m# in case it's stuck in uninterruptible sleep. -9 = SIGKILL\u001b[39;00m\n\u001b[1;32m    304\u001b[0m     rc \u001b[38;5;241m=\u001b[39m p\u001b[38;5;241m.\u001b[39mreturncode \u001b[38;5;129;01mor\u001b[39;00m \u001b[38;5;241m-\u001b[39m\u001b[38;5;241m9\u001b[39m\n\u001b[0;32m--> 305\u001b[0m     \u001b[38;5;28;01mraise\u001b[39;00m CalledProcessError(rc, cell)\n",
      "\u001b[0;31mCalledProcessError\u001b[0m: Command 'b'srun ./stencil2d_openacc_v5.x --scan --nx 64 --nz 32 --num_iter 1024 > ./bench_openacc_v5.txt\\n'' returned non-zero exit status 1."
     ]
    }
   ],
   "source": [
    "%%bash\n",
    "srun ./stencil2d_openacc_k.x --scan --nx 64 --nz 32 --num_iter 1024 > ./bench_openacc_k.txt"
   ]
  },
  {
   "cell_type": "code",
   "execution_count": null,
   "id": "360339e9-f2d4-46cb-b763-780af580b1fc",
   "metadata": {},
   "outputs": [],
   "source": []
  }
 ],
 "metadata": {
  "kernelspec": {
   "display_name": "HPC4WC_kernel",
   "language": "python",
   "name": "hpc4wc_kernel"
  },
  "language_info": {
   "codemirror_mode": {
    "name": "ipython",
    "version": 3
   },
   "file_extension": ".py",
   "mimetype": "text/x-python",
   "name": "python",
   "nbconvert_exporter": "python",
   "pygments_lexer": "ipython3",
   "version": "3.9.4"
  }
 },
 "nbformat": 4,
 "nbformat_minor": 5
}
