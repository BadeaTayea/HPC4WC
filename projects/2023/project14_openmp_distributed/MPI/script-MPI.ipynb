{
 "cells": [
  {
   "cell_type": "markdown",
   "metadata": {},
   "source": [
    "## Performance MPI\n",
    "\n",
    "In the first step we will see how fast our code performs and what the straightforward insertion of compiler directives (pragmas) can do."
   ]
  },
  {
   "cell_type": "code",
   "execution_count": 1,
   "metadata": {},
   "outputs": [],
   "source": [
    "import timeit\n",
    "\n",
    "import matplotlib\n",
    "import matplotlib.pyplot as plt\n",
    "import numpy as np"
   ]
  },
  {
   "cell_type": "markdown",
   "metadata": {},
   "source": [
    "We start by compiling the Fortran stencil2d base code (this is the code with inlining your have worked on previously)."
   ]
  },
  {
   "cell_type": "code",
   "execution_count": 6,
   "metadata": {},
   "outputs": [
    {
     "name": "stdout",
     "output_type": "stream",
     "text": [
      "rm -f -rf *~ *.o *.mod *.MOD *.i core.* *.out *.lst *.x *.x+orig *.x+[0-9]* *.dat *.report result_*.py report*.txt\n"
     ]
    }
   ],
   "source": [
    "%%bash\n",
    "make clean"
   ]
  },
  {
   "cell_type": "code",
   "execution_count": 3,
   "metadata": {},
   "outputs": [
    {
     "name": "stdout",
     "output_type": "stream",
     "text": [
      "rm -f -rf *~ *.o *.mod *.MOD *.i core.* *.out *.lst *.x *.x+orig *.x+[0-9]* *.dat *.report result_*.py report*.txt\n",
      "ftn -O3 -hfp3 -eZ -ffree -N255 -ec -eC -eI -eF -rm -c m_utils.F90\n",
      "ftn -O3 -hfp3 -eZ -ffree -N255 -ec -eC -eI -eF -rm -c m_partitioner.F90\n",
      "ftn -O3 -hfp3 -eZ -ffree -N255 -ec -eC -eI -eF -rm -c stencil2d-mpi.F90\n",
      "ftn -O3 -hfp3 -eZ -ffree -N255 -ec -eC -eI -eF -rm m_utils.o m_partitioner.o stencil2d-mpi.o -o stencil2d-mpi.x\n"
     ]
    },
    {
     "name": "stderr",
     "output_type": "stream",
     "text": [
      "INFO: creating the PerfTools-instrumented executable 'stencil2d-mpi.x' (lite-samples) ...OK\n"
     ]
    },
    {
     "name": "stdout",
     "output_type": "stream",
     "text": [
      "cp stencil2d-mpi.x stencil2d.x\n"
     ]
    }
   ],
   "source": [
    "%%bash\n",
    "module load daint-gpu\n",
    "module switch PrgEnv-gnu PrgEnv-cray\n",
    "module load perftools-lite\n",
    "\n",
    "make clean\n",
    "make VERSION=mpi"
   ]
  },
  {
   "cell_type": "markdown",
   "metadata": {
    "tags": []
   },
   "source": [
    "### nx = 120"
   ]
  },
  {
   "cell_type": "code",
   "execution_count": 4,
   "metadata": {},
   "outputs": [
    {
     "name": "stdout",
     "output_type": "stream",
     "text": [
      "Using 2 workers, run num 1\n",
      "Using 2 workers, run num 2\n",
      "Using 2 workers, run num 3\n"
     ]
    },
    {
     "name": "stderr",
     "output_type": "stream",
     "text": [
      "srun: Job 48640831 step creation temporarily disabled, retrying (Requested nodes are busy)\n",
      "srun: Step created for job 48640831\n"
     ]
    },
    {
     "name": "stdout",
     "output_type": "stream",
     "text": [
      "Using 2 workers, run num 4\n",
      "Using 2 workers, run num 5\n",
      "Using 2 workers, run num 6\n",
      "Using 2 workers, run num 7\n",
      "Using 2 workers, run num 8\n",
      "Using 2 workers, run num 9\n",
      "Using 2 workers, run num 10\n",
      "Using 4 workers, run num 1\n",
      "Using 4 workers, run num 2\n",
      "Using 4 workers, run num 3\n",
      "Using 4 workers, run num 4\n",
      "Using 4 workers, run num 5\n",
      "Using 4 workers, run num 6\n",
      "Using 4 workers, run num 7\n",
      "Using 4 workers, run num 8\n",
      "Using 4 workers, run num 9\n",
      "Using 4 workers, run num 10\n",
      "Using 9 workers, run num 1\n",
      "Using 9 workers, run num 2\n",
      "Using 9 workers, run num 3\n",
      "Using 9 workers, run num 4\n",
      "Using 9 workers, run num 5\n",
      "Using 9 workers, run num 6\n",
      "Using 9 workers, run num 7\n",
      "Using 9 workers, run num 8\n",
      "Using 9 workers, run num 9\n"
     ]
    },
    {
     "name": "stderr",
     "output_type": "stream",
     "text": [
      "srun: Job 48640831 step creation temporarily disabled, retrying (Requested nodes are busy)\n",
      "srun: Step created for job 48640831\n"
     ]
    },
    {
     "name": "stdout",
     "output_type": "stream",
     "text": [
      "Using 9 workers, run num 10\n"
     ]
    },
    {
     "name": "stderr",
     "output_type": "stream",
     "text": [
      "srun: Job 48640831 step creation temporarily disabled, retrying (Requested nodes are busy)\n",
      "srun: Step created for job 48640831\n"
     ]
    },
    {
     "name": "stdout",
     "output_type": "stream",
     "text": [
      "Using 16 workers, run num 1\n",
      "Using 16 workers, run num 2\n"
     ]
    },
    {
     "name": "stderr",
     "output_type": "stream",
     "text": [
      "srun: Job 48640831 step creation temporarily disabled, retrying (Requested nodes are busy)\n",
      "srun: Step created for job 48640831\n"
     ]
    },
    {
     "name": "stdout",
     "output_type": "stream",
     "text": [
      "Using 16 workers, run num 3\n",
      "Using 16 workers, run num 4\n",
      "Using 16 workers, run num 5\n",
      "Using 16 workers, run num 6\n",
      "Using 16 workers, run num 7\n",
      "Using 16 workers, run num 8\n",
      "Using 16 workers, run num 9\n",
      "Using 16 workers, run num 10\n",
      "Using 24 workers, run num 1\n",
      "Using 24 workers, run num 2\n"
     ]
    },
    {
     "name": "stderr",
     "output_type": "stream",
     "text": [
      "srun: Job 48640831 step creation temporarily disabled, retrying (Requested nodes are busy)\n",
      "srun: Step created for job 48640831\n"
     ]
    },
    {
     "name": "stdout",
     "output_type": "stream",
     "text": [
      "Using 24 workers, run num 3\n",
      "Using 24 workers, run num 4\n",
      "Using 24 workers, run num 5\n",
      "Using 24 workers, run num 6\n"
     ]
    },
    {
     "name": "stderr",
     "output_type": "stream",
     "text": [
      "srun: Job 48640831 step creation temporarily disabled, retrying (Requested nodes are busy)\n",
      "srun: Step created for job 48640831\n"
     ]
    },
    {
     "name": "stdout",
     "output_type": "stream",
     "text": [
      "Using 24 workers, run num 7\n",
      "Using 24 workers, run num 8\n",
      "Using 24 workers, run num 9\n",
      "Using 24 workers, run num 10\n"
     ]
    }
   ],
   "source": [
    "%%bash\n",
    "fname=\"MPI_nx120\"\n",
    "n_worker=1\n",
    "workers=\"2 4 9 16 24\"\n",
    "echo \"import numpy as np\" >> $fname.py\n",
    "for n_worker in $workers ; do\n",
    "  echo \"# n_workers = $n_worker\" >> $fname.py\n",
    "  echo \"MPI_$n_worker = np.mean(np.array([\" >> $fname.py\n",
    "  for run in {1..10}; do\n",
    "    echo \"Using $n_worker workers, run num $run\"\n",
    "    srun -n $n_worker ./stencil2d-mpi.x+orig --nx 120 --ny 120 --nz 64 --num_iter 1024 >> $fname.py\n",
    "  done\n",
    "  sed -i '$ s/.$/]))/' $fname.py\n",
    "done"
   ]
  },
  {
   "cell_type": "markdown",
   "metadata": {
    "tags": []
   },
   "source": [
    "### nx = 180"
   ]
  },
  {
   "cell_type": "code",
   "execution_count": 5,
   "metadata": {},
   "outputs": [
    {
     "name": "stdout",
     "output_type": "stream",
     "text": [
      "Using 2 workers, run num 1\n",
      "Using 2 workers, run num 2\n",
      "Using 2 workers, run num 3\n",
      "Using 2 workers, run num 4\n",
      "Using 2 workers, run num 5\n",
      "Using 2 workers, run num 6\n",
      "Using 2 workers, run num 7\n",
      "Using 2 workers, run num 8\n",
      "Using 2 workers, run num 9\n",
      "Using 2 workers, run num 10\n",
      "Using 4 workers, run num 1\n",
      "Using 4 workers, run num 2\n",
      "Using 4 workers, run num 3\n",
      "Using 4 workers, run num 4\n",
      "Using 4 workers, run num 5\n",
      "Using 4 workers, run num 6\n"
     ]
    },
    {
     "name": "stderr",
     "output_type": "stream",
     "text": [
      "srun: Job 48640831 step creation temporarily disabled, retrying (Requested nodes are busy)\n",
      "srun: Step created for job 48640831\n"
     ]
    },
    {
     "name": "stdout",
     "output_type": "stream",
     "text": [
      "Using 4 workers, run num 7\n"
     ]
    },
    {
     "name": "stderr",
     "output_type": "stream",
     "text": [
      "srun: Job 48640831 step creation temporarily disabled, retrying (Requested nodes are busy)\n",
      "srun: Step created for job 48640831\n"
     ]
    },
    {
     "name": "stdout",
     "output_type": "stream",
     "text": [
      "Using 4 workers, run num 8\n",
      "Using 4 workers, run num 9\n",
      "Using 4 workers, run num 10\n",
      "Using 9 workers, run num 1\n",
      "Using 9 workers, run num 2\n",
      "Using 9 workers, run num 3\n",
      "Using 9 workers, run num 4\n",
      "Using 9 workers, run num 5\n",
      "Using 9 workers, run num 6\n",
      "Using 9 workers, run num 7\n",
      "Using 9 workers, run num 8\n",
      "Using 9 workers, run num 9\n",
      "Using 9 workers, run num 10\n",
      "Using 16 workers, run num 1\n",
      "Using 16 workers, run num 2\n",
      "Using 16 workers, run num 3\n",
      "Using 16 workers, run num 4\n",
      "Using 16 workers, run num 5\n",
      "Using 16 workers, run num 6\n",
      "Using 16 workers, run num 7\n",
      "Using 16 workers, run num 8\n",
      "Using 16 workers, run num 9\n",
      "Using 16 workers, run num 10\n",
      "Using 24 workers, run num 1\n",
      "Using 24 workers, run num 2\n",
      "Using 24 workers, run num 3\n",
      "Using 24 workers, run num 4\n",
      "Using 24 workers, run num 5\n",
      "Using 24 workers, run num 6\n",
      "Using 24 workers, run num 7\n",
      "Using 24 workers, run num 8\n",
      "Using 24 workers, run num 9\n",
      "Using 24 workers, run num 10\n"
     ]
    }
   ],
   "source": [
    "%%bash\n",
    "fname=\"MPI_nx180\"\n",
    "n_worker=1\n",
    "workers=\"2 4 9 16 24\"\n",
    "echo \"import numpy as np\" >> $fname.py\n",
    "for n_worker in $workers ; do\n",
    "  echo \"# n_workers = $n_worker\" >> $fname.py\n",
    "  echo \"MPI_$n_worker = np.mean(np.array([\" >> $fname.py\n",
    "  for run in {1..10}; do\n",
    "    echo \"Using $n_worker workers, run num $run\"\n",
    "    srun -n $n_worker ./stencil2d-mpi.x+orig --nx 180 --ny 180 --nz 64 --num_iter 1024 >> $fname.py\n",
    "  done\n",
    "  sed -i '$ s/.$/]))/' $fname.py\n",
    "done"
   ]
  },
  {
   "cell_type": "markdown",
   "metadata": {},
   "source": [
    "## Validation\n",
    "\n",
    "As a first step, it is always good to make sure that the code is working correctly before proceeding with any sort of parallelization or optimization. We plot the initial and final step to see that the code still produces the same result."
   ]
  },
  {
   "cell_type": "code",
   "execution_count": 63,
   "metadata": {},
   "outputs": [],
   "source": [
    "def read_field_from_file(filename, num_halo=None):\n",
    "    (rank, nbits, num_halo, nx, ny, nz) = np.fromfile(filename, dtype=np.int32, count=6)\n",
    "    offset = (3 + rank) * 32 // nbits\n",
    "    data = np.fromfile(\n",
    "        filename,\n",
    "        dtype=np.float32 if nbits == 32 else np.float64,\n",
    "        count=nz * ny * nx + offset,\n",
    "    )\n",
    "    if rank == 3:\n",
    "        return np.reshape(data[offset:], (nz, ny, nx))\n",
    "    else:\n",
    "        return np.reshape(data[offset:], (ny, nx))\n",
    "\n",
    "\n",
    "def validate_results():\n",
    "    fig, axs = plt.subplots(1, 2, figsize=(12, 4))\n",
    "\n",
    "    in_field = read_field_from_file(\"in_field.dat\")\n",
    "    im1 = axs[0].imshow(\n",
    "        in_field[in_field.shape[0] // 2, :, :], origin=\"lower\", vmin=-0.1, vmax=1.1\n",
    "    )\n",
    "    fig.colorbar(im1, ax=axs[0])\n",
    "    axs[0].set_title(\"Initial condition\")\n",
    "\n",
    "    out_field = read_field_from_file(\"out_field.dat\")\n",
    "    im2 = axs[1].imshow(\n",
    "        out_field[out_field.shape[0] // 2, :, :], origin=\"lower\", vmin=-0.1, vmax=1.1\n",
    "    )\n",
    "    fig.colorbar(im2, ax=axs[1])\n",
    "    axs[1].set_title(\"Final result\")\n",
    "    plt.savefig(\"V03.png\")\n",
    "    plt.show()"
   ]
  },
  {
   "cell_type": "code",
   "execution_count": 64,
   "metadata": {},
   "outputs": [
    {
     "data": {
      "image/png": "[encoded data removed]",
      "text/plain": [
       "<Figure size 864x288 with 4 Axes>"
      ]
     },
     "metadata": {
      "needs_background": "light"
     },
     "output_type": "display_data"
    }
   ],
   "source": [
    "validate_results()"
   ]
  }
 ],
 "metadata": {
  "kernelspec": {
   "display_name": "HPC4WC_kernel",
   "language": "python",
   "name": "hpc4wc_kernel"
  },
  "language_info": {
   "codemirror_mode": {
    "name": "ipython",
    "version": 3
   },
   "file_extension": ".py",
   "mimetype": "text/x-python",
   "name": "python",
   "nbconvert_exporter": "python",
   "pygments_lexer": "ipython3",
   "version": "3.9.4"
  }
 },
 "nbformat": 4,
 "nbformat_minor": 4
}
