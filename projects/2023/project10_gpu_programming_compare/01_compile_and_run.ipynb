{
 "cells": [
  {
   "cell_type": "markdown",
   "id": "73e3f7d0",
   "metadata": {},
   "source": [
    "### Notebook 1: Compile and Run Benchmarks on Piz Daint\n",
    "\n",
    "This notebook compiles all Fortran, C++, and CUDA source code. Once the executables are created, the various benchmarks are run. The executables write their results to binary files and the performance data is collected in text files. All resulting files are collected in the `data` folder. The next notebook will read the files collected there and continue with the analysis.\n",
    "\n",
    "This is the only notebook that depends on the *Piz Daint* programming environment. All other notebooks can either run on *Piz Daint* or on any machine with Python installed.\n",
    "\n",
    "For each of the executables, we run a reference configuration for validation. The parameters are\n",
    "\n",
    "- `nx`=`ny`=128  and `nz`=64,\n",
    "- `num_iter`=1024.\n",
    "\n",
    "These values are arbitrary, and any other values would serve the same purpose."
   ]
  },
  {
   "cell_type": "markdown",
   "id": "7ff76c33",
   "metadata": {},
   "source": [
    "During processing, we write some status information from time to time. This helps to understand what happens when this notebook is run indirectly from the `main' notebook."
   ]
  },
  {
   "cell_type": "code",
   "execution_count": null,
   "id": "0dd5fbe7",
   "metadata": {},
   "outputs": [],
   "source": [
    "print('notebook_01: started.')"
   ]
  },
  {
   "cell_type": "markdown",
   "id": "5a93ffcb",
   "metadata": {},
   "source": [
    "We first empty the output folder in case a previous run left some files behind. Each run rebuilds all files from scratch."
   ]
  },
  {
   "cell_type": "code",
   "execution_count": null,
   "id": "d6fb8794",
   "metadata": {},
   "outputs": [],
   "source": [
    "%%bash\n",
    "rm -f ./data/*\n",
    "mkdir -p ./data"
   ]
  },
  {
   "cell_type": "markdown",
   "id": "5d801fc9",
   "metadata": {},
   "source": [
    "### Fortran with OpenACC"
   ]
  },
  {
   "cell_type": "code",
   "execution_count": null,
   "id": "eeb1c4b6",
   "metadata": {},
   "outputs": [],
   "source": [
    "print('notebook_01: processing Fortran code ...')"
   ]
  },
  {
   "cell_type": "markdown",
   "id": "bc1d28c5",
   "metadata": {},
   "source": [
    "First, we deal with the Fortran implementation: The source file `stencil2d_openacc.F90` is the same as the one used in the lecture, with some minor changes in how the output is formatted. Remember that the relevant loops have already been decorated with OpenACC pragmas.\n",
    "\n",
    "We compile the code with all optimizations and OpenACC, but without profiling enabled. Note that OpenACC is automatically enabled for the Cray Fortran compiler on *Piz Daint*."
   ]
  },
  {
   "cell_type": "code",
   "execution_count": null,
   "id": "f051613e",
   "metadata": {},
   "outputs": [],
   "source": [
    "%%bash\n",
    "module switch PrgEnv-gnu PrgEnv-cray\n",
    "cd fortran\n",
    "ftn -O3 -eZ -c m_utils.F90\n",
    "ftn -O3 -eZ -c stencil2d_openacc.F90\n",
    "ftn -O3 -eZ m_utils.o stencil2d_openacc.o -o stencil2d_openacc.x"
   ]
  },
  {
   "cell_type": "markdown",
   "id": "9d0a5f90",
   "metadata": {},
   "source": [
    "Next we run the executable for the reference values of `nx=128`, `ny=128` and `num_iter=1024`."
   ]
  },
  {
   "cell_type": "code",
   "execution_count": null,
   "id": "ddba0a4c",
   "metadata": {},
   "outputs": [],
   "source": [
    "%%bash\n",
    "srun ./fortran/stencil2d_openacc.x --nx 128 --ny 128 --nz 64 --num_iter 1024 > /dev/null"
   ]
  },
  {
   "cell_type": "markdown",
   "id": "a5a5adc9",
   "metadata": {},
   "source": [
    "The last run has produced two files. We move the `out_field.dat` file with the resulting field to the `data` folder and keep it for later."
   ]
  },
  {
   "cell_type": "code",
   "execution_count": null,
   "id": "2f3153dc",
   "metadata": {},
   "outputs": [],
   "source": [
    "%%bash\n",
    "rm in_field.dat\n",
    "mv out_field.dat ./data/field_openacc.fld"
   ]
  },
  {
   "cell_type": "markdown",
   "id": "34dd2d0c",
   "metadata": {},
   "source": [
    "Now we run the benchmark. We use the `scan` option, which scans over different field sizes and collects the performance measurements. The output is written to a text file in the `data` folder."
   ]
  },
  {
   "cell_type": "code",
   "execution_count": null,
   "id": "697cecd0",
   "metadata": {},
   "outputs": [],
   "source": [
    "%%bash\n",
    "srun ./fortran/stencil2d_openacc.x --scan --nz 64 --num_iter 128 > ./data/bench_openacc.txt"
   ]
  },
  {
   "cell_type": "markdown",
   "id": "242b630f",
   "metadata": {},
   "source": [
    "### C++ and CUDA\n",
    "\n",
    "Now we compile and run the C++ code that contains the CUDA kernels. We are going to perform the same steps as we did for the Fortran code."
   ]
  },
  {
   "cell_type": "code",
   "execution_count": null,
   "id": "015fb3e3",
   "metadata": {},
   "outputs": [],
   "source": [
    "print('notebook_01: processing C++ code ...')"
   ]
  },
  {
   "cell_type": "markdown",
   "id": "d1d5dbb7",
   "metadata": {},
   "source": [
    "First, we compile the C++/CUDA code with all optimizations enabled."
   ]
  },
  {
   "cell_type": "code",
   "execution_count": null,
   "id": "e6730b92",
   "metadata": {},
   "outputs": [],
   "source": [
    "%%bash\n",
    "cd cpp\n",
    "nvcc --generate-line-info -O3 -c stencil2d_kernels.cu stencil2d_occupancy.cu\n",
    "CC -O3 stencil2d_common.cpp stencil2d_cuda.cpp stencil2d_host.cpp stencil2d_main.cpp stencil2d_kernels.o stencil2d_occupancy.o -o stencil2d.x"
   ]
  },
  {
   "cell_type": "markdown",
   "id": "8e34669f",
   "metadata": {},
   "source": [
    "Now we run the code for the reference parameters `x=128`, `y=128` and `i=1024`.\n",
    "\n",
    "The C++ code contains a pure C++ implementation of the 2D-stencil. This C++ code is not written for speed, but only for verification purposes. Since the code is comparatively slow, we use only one z-component `z=1`. This is good enough for our purposes since the initialization and computation along the z-axis is identical. The `-h` option enables the *host* mode, in contrast to the *GPU* mode.\n",
    "\n",
    "The output is written to a text file in the `data` folder, where it is kept for later use."
   ]
  },
  {
   "cell_type": "code",
   "execution_count": null,
   "id": "ec90d71a",
   "metadata": {},
   "outputs": [],
   "source": [
    "%%bash\n",
    "./cpp/stencil2d.x -h -x128 -y128 -z1 -i1024 -f./data/field_cpp.fld > /dev/null"
   ]
  },
  {
   "cell_type": "markdown",
   "id": "81ed0233",
   "metadata": {},
   "source": [
    "We also need to verify that our CUDA code is producing the correct results. We run the reference configuration again, but this time using the CUDA implementation instead of the pure C++ implementation. Now we can also use multiple z-components. This allows us to verify that the results are consistent across all z-components."
   ]
  },
  {
   "cell_type": "code",
   "execution_count": null,
   "id": "0d1377ce",
   "metadata": {},
   "outputs": [],
   "source": [
    "%%bash\n",
    "./cpp/stencil2d.x -g -x128 -y128 -z64 -i1024 -f./data/field_cuda_shared.fld > /dev/null\n",
    "./cpp/stencil2d.x -g -x128 -y128 -z64 -i1024 --noshared -f./data/field_cuda_noshared.fld > /dev/null"
   ]
  },
  {
   "cell_type": "markdown",
   "id": "33771d7e",
   "metadata": {},
   "source": [
    "As a last step, we run the benchmark, where we scan over different field sizes and collect the performance measurements. To get stable timing measurements, each measurement is done with three runs (`r=3`). We have noticed that the first run is sometimes slower than the later ones, probably due to the GPU clock boost kicking in."
   ]
  },
  {
   "cell_type": "code",
   "execution_count": null,
   "id": "2a5c4794",
   "metadata": {},
   "outputs": [],
   "source": [
    "%%bash\n",
    "./cpp/stencil2d.x -s -z64 -i128 -r3 -b4 > ./data/bench_cuda_shared04.txt\n",
    "./cpp/stencil2d.x -s -z64 -i128 -r3 -b12 > ./data/bench_cuda_shared12.txt\n",
    "./cpp/stencil2d.x -s -z64 -i128 -r3 -b28 > ./data/bench_cuda_shared28.txt\n",
    "./cpp/stencil2d.x -s -z64 -i128 -r3 -b8 --noshared > ./data/bench_cuda_noshared08.txt\n",
    "./cpp/stencil2d.x -s -z64 -i128 -r3 -b16 --noshared > ./data/bench_cuda_noshared16.txt\n",
    "./cpp/stencil2d.x -s -z64 -i128 -r3 -b32 --noshared > ./data/bench_cuda_noshared32.txt"
   ]
  },
  {
   "cell_type": "markdown",
   "id": "58dfe063",
   "metadata": {},
   "source": [
    "### Cleanup\n",
    "\n",
    "Except for the result files in the `data` folder, we leave a clean workspace behind."
   ]
  },
  {
   "cell_type": "code",
   "execution_count": null,
   "id": "bc9fe284",
   "metadata": {},
   "outputs": [],
   "source": [
    "print('notebook_01: cleaning up ...')"
   ]
  },
  {
   "cell_type": "markdown",
   "id": "5632ff1d",
   "metadata": {},
   "source": [
    "We clean up the workspace and delete all executables and intermediate files created during compilation."
   ]
  },
  {
   "cell_type": "code",
   "execution_count": null,
   "id": "fd12aa3e",
   "metadata": {},
   "outputs": [],
   "source": [
    "%%bash\n",
    "rm -f ./cpp/*.o\n",
    "rm -f ./fortran/*.mod ./fortran/*.cub ./fortran/*.ptx ./fortran/*.i ./fortran/*.o\n",
    "rm -f ./cpp/*.x ./fortran/*.x"
   ]
  },
  {
   "cell_type": "markdown",
   "id": "7e3a857e",
   "metadata": {},
   "source": [
    "### Report Results\n",
    "\n",
    "We tell the `main` notebook that everything went well and list all the files that were created."
   ]
  },
  {
   "cell_type": "code",
   "execution_count": null,
   "id": "b4c93a2a",
   "metadata": {},
   "outputs": [],
   "source": [
    "print('notebook_01: completed.')\n",
    "print('notebook_01: the following files have been created:')"
   ]
  },
  {
   "cell_type": "markdown",
   "id": "80afa7bd",
   "metadata": {},
   "source": [
    "The `data` folder is now populated with some result files. We list which files were created."
   ]
  },
  {
   "cell_type": "code",
   "execution_count": null,
   "id": "d5144ff0",
   "metadata": {},
   "outputs": [],
   "source": [
    "%%bash\n",
    "ls ./data/*"
   ]
  }
 ],
 "metadata": {
  "jupytext": {
   "cell_metadata_filter": "-all",
   "comment_magics": false
  },
  "kernelspec": {
   "display_name": "Python 3 (ipykernel)",
   "language": "python",
   "name": "python3"
  },
  "language_info": {
   "name": "python",
   "version": "3.11.4"
  }
 },
 "nbformat": 4,
 "nbformat_minor": 5
}
