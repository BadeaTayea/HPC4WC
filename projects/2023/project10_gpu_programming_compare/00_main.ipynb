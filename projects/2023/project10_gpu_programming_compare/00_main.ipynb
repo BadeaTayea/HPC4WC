{
 "cells": [
  {
   "cell_type": "markdown",
   "id": "71207d47",
   "metadata": {},
   "source": [
    "### High Performance Computing for Weather and Climate\n",
    "<style>\n",
    "td, th { border: none !important;}\n",
    "</style>\n",
    "---\n",
    "| | |\n",
    "| --- | --- |\n",
    "| **Semester** | Spring Semester 2023 |\n",
    "| **Project** | Work Project 10 |\n",
    "| **Title** | High-Level, Mid-Level and Low-Level GPU Programming Comparison |\n",
    "| **Authors** | *Faveo Hörold* and *Thomas Liniger* |\n",
    "| **Date** | 27.08.2022 |\n",
    "---"
   ]
  },
  {
   "cell_type": "markdown",
   "id": "1607b767",
   "metadata": {},
   "source": [
    "### Main Notebook\n",
    "\n",
    "This project consists of several Jupyter notebooks. Each notebook processes a part of the overall tasks and saves its results in temporary text files so that the next step can process the intermediate results. There is no need to run any other build commands or shell scripts. All necessary commands are run from within the three notebooks listed below. The notebooks must be run to get the final benchmark results. The notebooks are:\n",
    "\n",
    "- `01_compile_and_run.ipynb`\n",
    "- `02_verify_correctness.ipynb`\n",
    "- `03_analyze_results.ipynb`\n",
    "\n",
    "The current notebook is the main notebook and does not do any processing itself. But it can be used to run everything at once, as an alternative to running each of the above notebooks separately. It is intended that running this notebook alone will complete all the steps at once. The overall structure includes the following steps:\n",
    "\n",
    "- Compile the Fortran and C++ code\n",
    "- Run a reference configuration for each of the implementations and store the results for later verification\n",
    "- Run the actual benchmark, which scans over a set of configurations and again stores the results for later use\n",
    "- Compare the reference fields and verify that all implementations produce correct results\n",
    "- Combine the benchmark data and generate the desired plots\n",
    "\n",
    "The code in the workspace is organized as follows:\n",
    "\n",
    "<style>\n",
    "td, th { border: none !important;}\n",
    "</style>\n",
    "| | |\n",
    "| --- | --- |\n",
    "| ./ | The root folder contains the Jupyter notebooks |\n",
    "| ./cpp | The `cpp` folder contains the C++ and CUDA code |\n",
    "| ./fortran | The `fortran` folder contains the OpenACC implementation in Fortran |\n",
    "| ./data | The `data` folder is used to store the intermediate validation and benchmark results and the final plots |\n",
    "\n",
    "The `data' folder is empty at the beginning. Once all notebooks have been successfully executed, all results can be found in this folder."
   ]
  },
  {
   "cell_type": "markdown",
   "id": "fa765d79",
   "metadata": {},
   "source": [
    "#### Requirements\n",
    "\n",
    "The first notebook `01_compile_and_run.ipynb` that compiles and runs the code is designed to run on *Piz Daint* at *CSCS*. However, it could easily be modified to run on any machine with working C++/CUDA and Fortran compiler installations. The other two notebooks can alternatively be run on a local machine, as they only require Python to be installed.\n",
    "\n",
    "The easiest way is to start a *JupyterLab* instance on *CSCS* using the *JupyterHub* provided there:\n",
    "\n",
    "> Jupyter Hub on CSCS: https://jupyter.cscs.ch/\n",
    "\n"
   ]
  },
  {
   "cell_type": "markdown",
   "id": "d1315a65",
   "metadata": {},
   "source": [
    "#### Launch\n",
    "\n",
    "Make sure step 1 is run on *Piz Daint*. Otherwise compilation will probably not succeed."
   ]
  },
  {
   "cell_type": "markdown",
   "id": "5ee1f965",
   "metadata": {},
   "source": [
    "**Step 1**: Compile the Fortran and C++/CUDA code. Then run a reference configuration and save the fields after the applying the diffusion. Finally, run the benchmarks and save the timing results."
   ]
  },
  {
   "cell_type": "code",
   "execution_count": null,
   "id": "db7a65f7",
   "metadata": {},
   "outputs": [],
   "source": [
    "%run ./01_compile_and_run.ipynb"
   ]
  },
  {
   "cell_type": "markdown",
   "id": "60865035",
   "metadata": {},
   "source": [
    "**Step 2**:  Read the results produced by the three implementations and verify that the output fields were calculated correctly. The plots are for illustration only. The actual validation is done numerically using the `numpy` function `allclose()`. This function reliably compares two numeric calculations, taking rounding errors into account."
   ]
  },
  {
   "cell_type": "code",
   "execution_count": null,
   "id": "bca60c86",
   "metadata": {},
   "outputs": [],
   "source": [
    "%run ./02_verify_correctness.ipynb"
   ]
  },
  {
   "cell_type": "markdown",
   "id": "4b05744c",
   "metadata": {},
   "source": [
    "**Step 3**: Read the benchmark files and create the required plots for the final report."
   ]
  },
  {
   "cell_type": "code",
   "execution_count": null,
   "id": "9cd8fc3c",
   "metadata": {},
   "outputs": [],
   "source": [
    "%run ./03_analyze_results.ipynb"
   ]
  }
 ],
 "metadata": {
  "jupytext": {
   "cell_metadata_filter": "-all",
   "comment_magics": false
  },
  "kernelspec": {
   "display_name": "Python 3 (ipykernel)",
   "language": "python",
   "name": "python3"
  },
  "language_info": {
   "name": "python",
   "version": "3.11.4"
  }
 },
 "nbformat": 4,
 "nbformat_minor": 5
}
