{
 "cells": [
  {
   "cell_type": "markdown",
   "metadata": {},
   "source": [
    "## Lab exercise OpenMP\n",
    "\n",
    "During this exercise we will apply various concpts learned to the stencil code from day 1. If you are stuck at any point, reach out to the organizers. Solutions for various steps are provided so you can advance even if your implementation did not work.\n",
    "\n",
    "### Goal\n",
    "\n",
    "The goal of this exercise is to have a parallel version of the diffusion operator."
   ]
  },
  {
   "cell_type": "markdown",
   "metadata": {},
   "source": [
    "## Step one: Performance Baseline\n",
    "In the first step we will see how fast our code performs and what simple pragmas can do"
   ]
  },
  {
   "cell_type": "code",
   "execution_count": null,
   "metadata": {},
   "outputs": [],
   "source": [
    "import timeit\n",
    "import numpy as np\n",
    "import matplotlib\n",
    "import matplotlib.pyplot as plt"
   ]
  },
  {
   "cell_type": "markdown",
   "metadata": {},
   "source": [
    "We start by timing the base code:"
   ]
  },
  {
   "cell_type": "code",
   "execution_count": 78,
   "metadata": {},
   "outputs": [
    {
     "name": "stdout",
     "output_type": "stream",
     "text": [
      "ftn -O3 -hfp3 -eZ -ffree -N255 -ec -eC -eI -eF -rm -h omp -c m_utils.F90\n",
      "ftn -O3 -hfp3 -eZ -ffree -N255 -ec -eC -eI -eF -rm -h omp -c stencil2d-base.F90\n",
      "ftn -O3 -hfp3 -eZ -ffree -N255 -ec -eC -eI -eF -rm -h omp m_utils.o stencil2d-base.o -o stencil2d-base.x\n",
      "cp stencil2d-base.x stencil2d.x\n"
     ]
    },
    {
     "name": "stderr",
     "output_type": "stream",
     "text": [
      "INFO: creating the CrayPat-instrumented executable 'stencil2d-base.x' (lite-samples) ...OK\n"
     ]
    }
   ],
   "source": [
    "%%bash\n",
    "module load daint-gpu\n",
    "module switch PrgEnv-gnu PrgEnv-cray\n",
    "module load perftools-lite\n",
    "\n",
    "make VERSION=base"
   ]
  },
  {
   "cell_type": "code",
   "execution_count": 81,
   "metadata": {},
   "outputs": [],
   "source": [
    "%%bash --out base_code\n",
    "srun -n 12 ./stencil2d-base.x+orig --nx 128 --ny 128 --nz 64 --num_iter 1024"
   ]
  },
  {
   "cell_type": "code",
   "execution_count": 80,
   "metadata": {},
   "outputs": [
    {
     "name": "stdout",
     "output_type": "stream",
     "text": [
      "# ranks nx ny ny nz num_iter time\n",
      "data = np.array( [ \\\n",
      "[   12,  128,  128,   64,    1024,  0.2045902E+01], \\\n",
      "] )\n",
      "\n"
     ]
    }
   ],
   "source": [
    "print(base_code)\n",
    "exec(base_code)"
   ]
  },
  {
   "cell_type": "markdown",
   "metadata": {},
   "source": [
    "If you feel more comfortable with c++, here is the same exeuction:"
   ]
  },
  {
   "cell_type": "code",
   "execution_count": 121,
   "metadata": {},
   "outputs": [],
   "source": [
    "%%bash\n",
    "module load daint-gpu\n",
    "\n",
    "CC stencil2d-base.cpp -fopenmp -o stencil2d-base.out"
   ]
  },
  {
   "cell_type": "code",
   "execution_count": 122,
   "metadata": {},
   "outputs": [],
   "source": [
    "%%bash --out base_code_cxx\n",
    "srun -n 1 ./stencil2d-base.out 128 128 64 1024"
   ]
  },
  {
   "cell_type": "code",
   "execution_count": 123,
   "metadata": {},
   "outputs": [
    {
     "name": "stdout",
     "output_type": "stream",
     "text": [
      "# ranks nx ny ny nz num_iter time\n",
      "data = np.array( [ \\\n",
      "[ 24, 128, 128, 64, 1024, 9.59362],\n",
      "] )\n",
      "\n"
     ]
    }
   ],
   "source": [
    "print(base_code_cxx)\n",
    "exec(base_code_cxx)"
   ]
  },
  {
   "cell_type": "markdown",
   "metadata": {},
   "source": [
    "Not that you can proceed with either language, the make and run commands are provided for fortran. But this is mostly duplication of what is here"
   ]
  },
  {
   "cell_type": "markdown",
   "metadata": {},
   "source": [
    "#### Verification\n",
    "Same as before, we plot the initial and final step to see that the code still produces the same result"
   ]
  },
  {
   "cell_type": "code",
   "execution_count": 103,
   "metadata": {},
   "outputs": [],
   "source": [
    "def read_field_from_file(filename, num_halo=None):\n",
    "    (rank, nbits, num_halo, nx, ny, nz) = np.fromfile(filename, dtype=np.int32, count=6)\n",
    "    offset=(3 + rank) * 32 // nbits\n",
    "    data = np.fromfile(filename, dtype=np.float32 if nbits == 32 else np.float64, \\\n",
    "                       count=nz * ny * nx + offset)\n",
    "    if rank == 3:\n",
    "        return np.reshape(data[offset:], (nz, ny, nx))\n",
    "    else:\n",
    "        return np.reshape(data[offset:], (ny, nx))"
   ]
  },
  {
   "cell_type": "code",
   "execution_count": 104,
   "metadata": {},
   "outputs": [
    {
     "data": {
      "image/png": "[encoded data removed]",
      "text/plain": [
       "<Figure size 864x288 with 4 Axes>"
      ]
     },
     "metadata": {
      "needs_background": "light"
     },
     "output_type": "display_data"
    }
   ],
   "source": [
    "in_field = read_field_from_file('in_field.dat')\n",
    "out_field = read_field_from_file('out_field.dat')\n",
    "fig, axs = plt.subplots(1, 2, figsize=(12, 4))\n",
    "im1 = axs[0].imshow(in_field[0, :, :], origin='lower', vmin=-0.1, vmax=1.1);\n",
    "fig.colorbar(im1, ax=axs[0]);\n",
    "axs[0].set_title('Initial condition');\n",
    "im2 = axs[1].imshow(out_field[0, :, :], origin='lower', vmin=-0.1, vmax=1.1);\n",
    "fig.colorbar(im2, ax=axs[1]);\n",
    "axs[1].set_title('Final result');"
   ]
  },
  {
   "cell_type": "markdown",
   "metadata": {},
   "source": [
    "<div class=\"alert alert-block alert-info\">\n",
    "<b>Now it's your turn...</b><br>\n",
    "<b>1.</b> We start by parallelizing various configurations:\n",
    "    for each of these codes, we measure the performance <br>\n",
    "<dd>a) only parallelize the i and the j loop<br></dd>\n",
    "<dd>b) only parallelize the k loop<br></dd>\n",
    "<dd>c) parallelize both the ij as well as the k loop<br></dd>\n",
    "</div>"
   ]
  },
  {
   "cell_type": "code",
   "execution_count": 66,
   "metadata": {},
   "outputs": [
    {
     "name": "stdout",
     "output_type": "stream",
     "text": [
      "ftn -O3 -hfp3 -eZ -ffree -N255 -ec -eC -eI -eF -rm -h omp -c m_utils.F90\n",
      "ftn -O3 -hfp3 -eZ -ffree -N255 -ec -eC -eI -eF -rm -h omp -c stencil2d-ijparallel.F90\n",
      "ftn -O3 -hfp3 -eZ -ffree -N255 -ec -eC -eI -eF -rm -h omp m_utils.o stencil2d-ijparallel.o -o stencil2d-ijparallel.x\n",
      "cp stencil2d-ijparallel.x stencil2d.x\n"
     ]
    },
    {
     "name": "stderr",
     "output_type": "stream",
     "text": [
      "INFO: creating the CrayPat-instrumented executable 'stencil2d-ijparallel.x' (lite-samples) ...OK\n"
     ]
    }
   ],
   "source": [
    "%%bash\n",
    "# implement a version that parallelizes ij first\n",
    "module load daint-gpu\n",
    "module switch PrgEnv-gnu PrgEnv-cray\n",
    "module load perftools-lite\n",
    "\n",
    "make VERSION=ijparallel"
   ]
  },
  {
   "cell_type": "code",
   "execution_count": 67,
   "metadata": {},
   "outputs": [
    {
     "name": "stdout",
     "output_type": "stream",
     "text": [
      "Process is terminated.\n"
     ]
    }
   ],
   "source": [
    "%%bash --out base_code\n",
    "srun -n 12 ./stencil2d-ijparallel.x --nx 128 --ny 128 --nz 64 --num_iter 1024"
   ]
  },
  {
   "cell_type": "code",
   "execution_count": null,
   "metadata": {},
   "outputs": [],
   "source": [
    "%%bash\n",
    "# implement a version that parallelizes k first\n",
    "module load daint-gpu\n",
    "module switch PrgEnv-gnu PrgEnv-cray\n",
    "module load perftools-lite\n",
    "We\n",
    "make VERSION=kparallel"
   ]
  },
  {
   "cell_type": "code",
   "execution_count": null,
   "metadata": {},
   "outputs": [],
   "source": [
    "%%bash --out kparallel\n",
    "srun -n 12 ./stencil2d-kparallel.x --nx 128 --ny 128 --nz 64 --num_iter 1024"
   ]
  },
  {
   "cell_type": "code",
   "execution_count": null,
   "metadata": {},
   "outputs": [],
   "source": [
    "%%bash\n",
    "# implement a version that parallelizes ij and k first\n",
    "module load daint-gpu\n",
    "module switch PrgEnv-gnu PrgEnv-cray\n",
    "module load perftools-lite\n",
    "\n",
    "make VERSION=ijkparallel"
   ]
  },
  {
   "cell_type": "code",
   "execution_count": null,
   "metadata": {},
   "outputs": [],
   "source": [
    "%%bash --out ijkparallel\n",
    "srun -n 12 ./stencil2d-ijkparallel.x --nx 128 --ny 128 --nz 64 --num_iter 1024"
   ]
  },
  {
   "cell_type": "markdown",
   "metadata": {},
   "source": [
    "An analysis of the performance numbers should indicate different speeds.\n",
    "Can you explain why the fastest version won?"
   ]
  },
  {
   "cell_type": "code",
   "execution_count": null,
   "metadata": {},
   "outputs": [],
   "source": [
    "## remove this once the implementation is done\n",
    "ijparallel = base_code\n",
    "kparallel = base_code\n",
    "ijkparallel = base_code"
   ]
  },
  {
   "cell_type": "code",
   "execution_count": 68,
   "metadata": {},
   "outputs": [
    {
     "data": {
      "image/png": "[encoded data removed]",
      "text/plain": [
       "<Figure size 432x288 with 1 Axes>"
      ]
     },
     "metadata": {
      "needs_background": "light"
     },
     "output_type": "display_data"
    }
   ],
   "source": [
    "labels = ['sequential', 'ijparallel', 'kparallel', 'ijkparallel']\n",
    "times = []\n",
    "# fetch all the times\n",
    "exec(base_code)\n",
    "times.append(data[0,5])\n",
    "exec(ijparallel)\n",
    "times.append(data[0,5])\n",
    "exec(kparallel)\n",
    "times.append(data[0,5])\n",
    "exec(ijkparallel)\n",
    "times.append(data[0,5])\n",
    "\n",
    "# some plotting magic\n",
    "x = np.arange(len(labels))  # the label locations\n",
    "width = 0.35  # the width of the bars\n",
    "fig = plt.figure()\n",
    "ax = fig.add_axes([0,0,1,1])\n",
    "ax.bar(labels,times)\n",
    "plt.show()"
   ]
  },
  {
   "cell_type": "markdown",
   "metadata": {},
   "source": [
    "### Collapsing loops and fixing the number of threads\n",
    "\n",
    "OpenMP allows you to parallelize over two loops instead of just one. How does `omp parallel for collapse (2)` compare to these options?"
   ]
  },
  {
   "cell_type": "markdown",
   "metadata": {},
   "source": [
    "<div class=\"alert alert-block alert-info\">\n",
    "<b>Now it's your turn...</b><br>\n",
    "<b>2.</b> We compare collapsing loops to having one or two parallel for loops<br>\n",
    "<dd>a) only parallelize the j loop<br></dd>\n",
    "<dd>b) collapse the two<br></dd>\n",
    "<dd>c) take the ij paralellization from above<br></dd>\n",
    "</div>"
   ]
  },
  {
   "cell_type": "code",
   "execution_count": null,
   "metadata": {},
   "outputs": [],
   "source": [
    "%%bash\n",
    "# implement a version that parallelizes j first\n",
    "module load daint-gpu\n",
    "module switch PrgEnv-gnu PrgEnv-cray\n",
    "module load perftools-lite\n",
    "\n",
    "make VERSION=jparallel"
   ]
  },
  {
   "cell_type": "code",
   "execution_count": null,
   "metadata": {},
   "outputs": [],
   "source": [
    "%%bash --out jparallel\n",
    "srun -n 12 ./stencil2d-jparallel.x --nx 128 --ny 128 --nz 64 --num_iter 1024"
   ]
  },
  {
   "cell_type": "code",
   "execution_count": null,
   "metadata": {},
   "outputs": [],
   "source": [
    "%%bash\n",
    "# implement a version that collapses the loops\n",
    "module load daint-gpu\n",
    "module switch PrgEnv-gnu PrgEnv-cray\n",
    "module load perftools-lite\n",
    "\n",
    "make VERSION=collapse"
   ]
  },
  {
   "cell_type": "code",
   "execution_count": null,
   "metadata": {},
   "outputs": [],
   "source": [
    "%%bash --out collapse\n",
    "srun -n 12 ./stencil2d-collapse.x --nx 128 --ny 128 --nz 64 --num_iter 1024"
   ]
  },
  {
   "cell_type": "code",
   "execution_count": null,
   "metadata": {},
   "outputs": [],
   "source": [
    "## remove this once the implementation is done\n",
    "collapse = base_code\n",
    "jparallel = base_code"
   ]
  },
  {
   "cell_type": "code",
   "execution_count": 69,
   "metadata": {},
   "outputs": [
    {
     "data": {
      "image/png": "[encoded data removed]",
      "text/plain": [
       "<Figure size 432x288 with 1 Axes>"
      ]
     },
     "metadata": {
      "needs_background": "light"
     },
     "output_type": "display_data"
    }
   ],
   "source": [
    "labels = ['collapse', 'jparallel', 'ijparallel']\n",
    "times = []\n",
    "# fetch all the times\n",
    "exec(collapse)\n",
    "times.append(data[0,5])\n",
    "exec(jparallel)\n",
    "times.append(data[0,5])\n",
    "exec(ijparallel)\n",
    "times.append(data[0,5])\n",
    "\n",
    "# some plotting magic\n",
    "x = np.arange(len(labels))  # the label locations\n",
    "width = 0.35  # the width of the bars\n",
    "fig = plt.figure()\n",
    "ax = fig.add_axes([0,0,1,1])\n",
    "ax.bar(labels,times)\n",
    "plt.show()"
   ]
  },
  {
   "cell_type": "markdown",
   "metadata": {},
   "source": [
    "## Setting the number of threads\n",
    "We now know that we have 24 threads availiable on each node. We want to investigate what the best number of threads is. It is known that we can oversubscribe the CPU but we will try a couple of variants based on the plain k version"
   ]
  },
  {
   "cell_type": "markdown",
   "metadata": {},
   "source": [
    "<div class=\"alert alert-block alert-info\">\n",
    "<b>Now it's your turn...</b><br>\n",
    "<b>3.</b> We find the optimal number of threads to use with the version that only parallelizes k\n",
    "</div>"
   ]
  },
  {
   "cell_type": "code",
   "execution_count": null,
   "metadata": {},
   "outputs": [],
   "source": [
    "%%bash\n",
    "# play with the number of threads\n",
    "module load daint-gpu\n",
    "module switch PrgEnv-gnu PrgEnv-cray\n",
    "module load perftools-lite\n",
    "\n",
    "make VERSION=nthreads"
   ]
  },
  {
   "cell_type": "code",
   "execution_count": null,
   "metadata": {},
   "outputs": [],
   "source": [
    "%%bash --out nthreads4\n",
    "srun -n 24 ./stencil2d-nthreads.x --nx 128 --ny 128 --nz 64 --num_iter 1024 --num_threads 4"
   ]
  },
  {
   "cell_type": "code",
   "execution_count": null,
   "metadata": {},
   "outputs": [],
   "source": [
    "%%bash --out nthreads8\n",
    "srun -n 24 ./stencil2d-nthreads.x --nx 128 --ny 128 --nz 64 --num_iter 1024 --num_threads 8"
   ]
  },
  {
   "cell_type": "code",
   "execution_count": null,
   "metadata": {},
   "outputs": [],
   "source": [
    "%%bash --out nthreads12\n",
    "srun -n 24 ./stencil2d-nthreads.x --nx 128 --ny 128 --nz 64 --num_iter 1024 --num_threads 12"
   ]
  },
  {
   "cell_type": "code",
   "execution_count": null,
   "metadata": {},
   "outputs": [],
   "source": [
    "%%bash --out nthreads20\n",
    "srun -n 24 ./stencil2d-nthreads.x --nx 128 --ny 128 --nz 64 --num_iter 1024 --num_threads 20"
   ]
  },
  {
   "cell_type": "code",
   "execution_count": null,
   "metadata": {},
   "outputs": [],
   "source": [
    "%%bash --out nthreads24\n",
    "srun -n 24 ./stencil2d-nthreads.x --nx 128 --ny 128 --nz 64 --num_iter 1024 --num_threads 24"
   ]
  },
  {
   "cell_type": "code",
   "execution_count": null,
   "metadata": {},
   "outputs": [],
   "source": [
    "%%bash --out nthreads30\n",
    "srun -n 24 ./stencil2d-nthreads.x --nx 128 --ny 128 --nz 64 --num_iter 1024 --num_threads 30"
   ]
  },
  {
   "cell_type": "code",
   "execution_count": 72,
   "metadata": {},
   "outputs": [],
   "source": [
    "## remove this once the implementation is done\n",
    "nthreads4 = base_code\n",
    "nthreads8 = base_code\n",
    "nthreads12 = base_code\n",
    "nthreads20 = base_code\n",
    "nthreads24 = base_code\n",
    "nthreads30 = base_code"
   ]
  },
  {
   "cell_type": "code",
   "execution_count": 74,
   "metadata": {},
   "outputs": [
    {
     "data": {
      "image/png": "[encoded data removed]",
      "text/plain": [
       "<Figure size 432x288 with 1 Axes>"
      ]
     },
     "metadata": {
      "needs_background": "light"
     },
     "output_type": "display_data"
    }
   ],
   "source": [
    "labels = []\n",
    "times = []\n",
    "# fetch all the times\n",
    "exec(nthreads4)\n",
    "times.append(data[0,5])\n",
    "labels.append('4 threads')\n",
    "exec(nthreads8)\n",
    "times.append(data[0,5])\n",
    "labels.append('8 threads')\n",
    "exec(nthreads12)\n",
    "times.append(data[0,5])\n",
    "labels.append('12 threads')\n",
    "exec(nthreads24)\n",
    "times.append(data[0,5])\n",
    "labels.append('24 threads')\n",
    "exec(nthreads30)\n",
    "times.append(data[0,5])\n",
    "labels.append('30 threads')\n",
    "\n",
    "# some plotting magic\n",
    "x = np.arange(len(labels))  # the label locations\n",
    "width = 0.35  # the width of the bars\n",
    "fig = plt.figure()\n",
    "ax = fig.add_axes([0,0,1,1])\n",
    "ax.bar(labels,times)\n",
    "plt.show()"
   ]
  },
  {
   "cell_type": "markdown",
   "metadata": {},
   "source": [
    "## Scheduling\n",
    "\n",
    "We use the optimal number of threads `p` moving forward\n",
    "OpenMP allows for a schedule to be set. Try experimenting what the best schedule is between:\n",
    "```\n",
    "static(1)\n",
    "static(nz/p)\n",
    "dynamic(1)\n",
    "dynamic(nz/p)\n",
    "dynamic(nz/p/2)\n",
    "guided\n",
    "```"
   ]
  },
  {
   "cell_type": "markdown",
   "metadata": {},
   "source": [
    "<div class=\"alert alert-block alert-info\">\n",
    "<b>Now it's your turn...</b><br>\n",
    "<b>3.</b> We find the best schedule for our loop, switch between the options above to find the best strategy<br>\n",
    "   <b>4.</b> Reason why this is the optimal strategy\n",
    "</div>"
   ]
  },
  {
   "cell_type": "markdown",
   "metadata": {},
   "source": [
    "## Parallelizing the Halo updated\n",
    "\n",
    "The halo updates are a set of small loops that are all independent. This leads to using the `nowait` pragma ideally."
   ]
  },
  {
   "cell_type": "markdown",
   "metadata": {},
   "source": [
    "<div class=\"alert alert-block alert-info\">\n",
    "<b>Now it's your turn...</b><br>\n",
    "<b>5.</b> Implement the parallelization of the halo updates<br>\n",
    "<b>6.</b> Reason why the performance benefit is what you see\n",
    "</div>"
   ]
  },
  {
   "cell_type": "code",
   "execution_count": null,
   "metadata": {},
   "outputs": [],
   "source": [
    "%%bash\n",
    "# play with the number of threads\n",
    "module load daint-gpu\n",
    "module switch PrgEnv-gnu PrgEnv-cray\n",
    "module load perftools-lite\n",
    "\n",
    "make VERSION=parallelHalo"
   ]
  },
  {
   "cell_type": "code",
   "execution_count": null,
   "metadata": {},
   "outputs": [],
   "source": [
    "%%bash --out parallelHalo\n",
    "# make sure to set the number of threads to the optimal number\n",
    "srun -n 12 ./stencil2d-parallelHalo.x --nx 128 --ny 128 --nz 64 --num_iter 1024 --num_threads 24"
   ]
  },
  {
   "cell_type": "markdown",
   "metadata": {},
   "source": [
    "# Bonus exercises\n",
    "\n",
    "If you have enough time, there are three additional tasks of higher difficulty to refine some skills\n",
    "\n",
    "### Manual implementation of the omp parallel for pragma\n",
    "There is a way to re-implement what a parallel for loop does with the directives `omp parallel`, `omp single`(or similar) and `omp task`. See if you manage to parallelize just the k loop of the code without using `omp parallel for`. What are the performance implications? Why?\n",
    "\n",
    "### Fusing the computation loops\n",
    "\n",
    "Currently we have the computation in two ij loops. Ideally we would have the computation in just one loop.\n",
    "\n",
    "There is a way to fuse the compuatational loops (and have the update on a separate loop). \n",
    "\n",
    "What are performance benefits of this?"
   ]
  },
  {
   "cell_type": "markdown",
   "metadata": {},
   "source": [
    "*cleanup in the end*"
   ]
  },
  {
   "cell_type": "code",
   "execution_count": 129,
   "metadata": {},
   "outputs": [
    {
     "name": "stdout",
     "output_type": "stream",
     "text": [
      "rm -f -rf *~ *.o *.mod *.MOD *.i core.* *.out *.lst *.x *.x+orig *.x+[0-9]*\n"
     ]
    }
   ],
   "source": [
    "%%bash\n",
    "make clean\n",
    "rm -rf in_field.dat out_field.dat"
   ]
  }
 ],
 "metadata": {
  "kernelspec": {
   "display_name": "full_hpc4wc",
   "language": "python",
   "name": "full_hpc4wc"
  },
  "language_info": {
   "codemirror_mode": {
    "name": "ipython",
    "version": 3
   },
   "file_extension": ".py",
   "mimetype": "text/x-python",
   "name": "python",
   "nbconvert_exporter": "python",
   "pygments_lexer": "ipython3",
   "version": "3.6.5"
  }
 },
 "nbformat": 4,
 "nbformat_minor": 4
}
