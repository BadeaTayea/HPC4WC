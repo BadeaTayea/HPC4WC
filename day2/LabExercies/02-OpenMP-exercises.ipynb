{
 "cells": [
  {
   "cell_type": "markdown",
   "metadata": {},
   "source": [
    "# Distributed Memory Parallelism with OpenMP\n",
    "\n",
    "During this exercise we will parallelize the stencil program from day 1 using OpenMP. The goal is to apply the OpenMP concepts that have been discussed in the lecture. If everything goes well, at the end of this exercise you will have a parallel version of the diffusion operator.\n",
    "\n",
    "So let's start!"
   ]
  },
  {
   "cell_type": "markdown",
   "metadata": {},
   "source": [
    "## Performance Baseline\n",
    "\n",
    "In the first step we will see how fast our code performs and what the straightforward insertion of compiler directives (pragmas) can do."
   ]
  },
  {
   "cell_type": "code",
   "execution_count": 1,
   "metadata": {},
   "outputs": [],
   "source": [
    "import timeit\n",
    "import numpy as np\n",
    "import matplotlib\n",
    "import matplotlib.pyplot as plt"
   ]
  },
  {
   "cell_type": "markdown",
   "metadata": {},
   "source": [
    "We start by compiling the Fortran stencil2d base code (this is the code with inlining your have worked on previusly)."
   ]
  },
  {
   "cell_type": "code",
   "execution_count": 2,
   "metadata": {},
   "outputs": [
    {
     "name": "stdout",
     "output_type": "stream",
     "text": [
      "rm -f -rf *~ *.o *.mod *.MOD *.i core.* *.out *.lst *.x *.x+orig *.x+[0-9]* *.dat *.report\n"
     ]
    }
   ],
   "source": [
    "%%bash\n",
    "make clean"
   ]
  },
  {
   "cell_type": "code",
   "execution_count": 3,
   "metadata": {},
   "outputs": [
    {
     "name": "stdout",
     "output_type": "stream",
     "text": [
      "rm -f -rf *~ *.o *.mod *.MOD *.i core.* *.out *.lst *.x *.x+orig *.x+[0-9]* *.dat *.report\n",
      "ftn -O3 -hfp3 -eZ -ffree -N255 -ec -eC -eI -eF -rm -h omp -c m_utils.F90\n",
      "ftn -O3 -hfp3 -eZ -ffree -N255 -ec -eC -eI -eF -rm -h omp -c stencil2d-base.F90\n",
      "ftn -O3 -hfp3 -eZ -ffree -N255 -ec -eC -eI -eF -rm -h omp m_utils.o stencil2d-base.o -o stencil2d-base.x\n",
      "cp stencil2d-base.x stencil2d.x\n"
     ]
    },
    {
     "name": "stderr",
     "output_type": "stream",
     "text": [
      "INFO: creating the CrayPat-instrumented executable 'stencil2d-base.x' (lite-samples) ...OK\n"
     ]
    }
   ],
   "source": [
    "%%bash\n",
    "module load daint-gpu\n",
    "module switch PrgEnv-gnu PrgEnv-cray\n",
    "module load perftools-lite\n",
    "\n",
    "make clean\n",
    "make VERSION=base"
   ]
  },
  {
   "cell_type": "markdown",
   "metadata": {},
   "source": [
    "This created **two** executables. `stencil2d-base.x+orig` is the executable which is simply compiled and not instrumented by perftools-lite for performance profiling. `stencil2d-base.x` is an executable that has been instrumented for performance profiling and will generate a performance report at the end of execution.\n",
    "\n",
    "Let's run the version without performance profiling to get a baseline runtime."
   ]
  },
  {
   "cell_type": "code",
   "execution_count": 6,
   "metadata": {},
   "outputs": [
    {
     "name": "stdout",
     "output_type": "stream",
     "text": [
      "# ranks nx ny ny nz num_iter time\n",
      "data = np.array( [ \\\n",
      "[    1,  128,  128,   64,    1024,  0.8137889E+00], \\\n",
      "] )\n"
     ]
    }
   ],
   "source": [
    "%%bash\n",
    "srun -n 1 ./stencil2d-base.x+orig --nx 128 --ny 128 --nz 64 --num_iter 1024"
   ]
  },
  {
   "cell_type": "markdown",
   "metadata": {},
   "source": [
    "Take note of the runtime (the last value in the `data` array). This is our sequential baseline. It should be on the order of 0.8 s. As reminder, this time is only the time it takes to execute the loop over the iterations where we apply the diffusion stencil."
   ]
  },
  {
   "cell_type": "markdown",
   "metadata": {},
   "source": [
    "Note: If you feel more comfortable with C++, there is also a version available in C++. This notebook is setup to work with the Fortran version. In case you prefer to work in C++, you will have to adapt the compilation commands in this notebook with the following syntax."
   ]
  },
  {
   "cell_type": "code",
   "execution_count": 32,
   "metadata": {},
   "outputs": [
    {
     "name": "stderr",
     "output_type": "stream",
     "text": [
      "WARNING: PerfTools is saving object files from a temporary directory into directory '/users/course01/.craypat/stencil2d-base.x/3900'\n",
      "INFO: creating the CrayPat-instrumented executable 'stencil2d-base.x' (lite-samples) ...OK\n"
     ]
    }
   ],
   "source": [
    "%%bash\n",
    "module load daint-gpu\n",
    "module load perftools-lite\n",
    "\n",
    "CC stencil2d-base.cpp -fopenmp -o stencil2d-base.x"
   ]
  },
  {
   "cell_type": "markdown",
   "metadata": {},
   "source": [
    "Note: The C++ code is run very similarly to the Fortran code, but you have to remove the `--nx`, `--ny`, ... option descriptors."
   ]
  },
  {
   "cell_type": "code",
   "execution_count": 33,
   "metadata": {},
   "outputs": [
    {
     "name": "stdout",
     "output_type": "stream",
     "text": [
      "# ranks nx ny ny nz num_iter time\n",
      "data = np.array( [ \\\n",
      "[ 24, 128, 128, 64, 1024, 9.46711],\n",
      "] )\n"
     ]
    }
   ],
   "source": [
    "%%bash\n",
    "srun -n 1 ./stencil2d-base.x+orig 128 128 64 1024"
   ]
  },
  {
   "cell_type": "markdown",
   "metadata": {},
   "source": [
    "## Validation\n",
    "\n",
    "As a first step, it is always good to make sure that the code is working correctly before proceeding with any sort of parallelization or optimization. We plot the initial and final step to see that the code still produces the same result."
   ]
  },
  {
   "cell_type": "code",
   "execution_count": 7,
   "metadata": {},
   "outputs": [],
   "source": [
    "def read_field_from_file(filename, num_halo=None):\n",
    "    (rank, nbits, num_halo, nx, ny, nz) = np.fromfile(filename, dtype=np.int32, count=6)\n",
    "    offset=(3 + rank) * 32 // nbits\n",
    "    data = np.fromfile(filename, dtype=np.float32 if nbits == 32 else np.float64, \\\n",
    "                       count=nz * ny * nx + offset)\n",
    "    if rank == 3:\n",
    "        return np.reshape(data[offset:], (nz, ny, nx))\n",
    "    else:\n",
    "        return np.reshape(data[offset:], (ny, nx))\n",
    "\n",
    "def validate_results():\n",
    "    fig, axs = plt.subplots(1, 2, figsize=(12, 4))\n",
    "\n",
    "    in_field = read_field_from_file('in_field.dat')\n",
    "    im1 = axs[0].imshow(in_field[0, :, :], origin='lower', vmin=-0.1, vmax=1.1);\n",
    "    fig.colorbar(im1, ax=axs[0]);\n",
    "    axs[0].set_title('Initial condition');\n",
    "\n",
    "    out_field = read_field_from_file('out_field.dat')\n",
    "    im2 = axs[1].imshow(out_field[0, :, :], origin='lower', vmin=-0.1, vmax=1.1);\n",
    "    fig.colorbar(im2, ax=axs[1]);\n",
    "    axs[1].set_title('Final result');\n",
    "    \n",
    "    plt.show()"
   ]
  },
  {
   "cell_type": "code",
   "execution_count": 8,
   "metadata": {},
   "outputs": [
    {
     "data": {
      "image/png": "[encoded data removed]",
      "text/plain": [
       "<Figure size 864x288 with 4 Axes>"
      ]
     },
     "metadata": {
      "needs_background": "light"
     },
     "output_type": "display_data"
    }
   ],
   "source": [
    "validate_results()"
   ]
  },
  {
   "cell_type": "markdown",
   "metadata": {},
   "source": [
    "## Parallelization of the k-loop"
   ]
  },
  {
   "cell_type": "markdown",
   "metadata": {},
   "source": [
    "Let's use perftools-lite to generate a performance report for the base version. This will be useful to guide our parallelization approach."
   ]
  },
  {
   "cell_type": "code",
   "execution_count": 9,
   "metadata": {},
   "outputs": [
    {
     "name": "stderr",
     "output_type": "stream",
     "text": [
      "CrayPat/X:  Version 7.1.1 Revision 7c0ddd79b  08/19/19 16:58:46\n"
     ]
    }
   ],
   "source": [
    "%%bash\n",
    "srun -n 1 ./stencil2d-base.x --nx 128 --ny 128 --nz 64 --num_iter 1024 > report_base.txt"
   ]
  },
  {
   "cell_type": "markdown",
   "metadata": {},
   "source": [
    "Take a look at the performance report in the file `report_base.txt`. Which are the lines which consume most of the runtime (hot loops)? These code regions should be the primary targets for parallelization with OpenMP."
   ]
  },
  {
   "cell_type": "markdown",
   "metadata": {},
   "source": [
    "<div class=\"alert alert-block alert-info\">\n",
    "<b>Now it's your turn...</b><br>\n",
    "<b>1.</b> Make a copy of the source code and name it <tt>stencil2d-kparallel.F90</tt>. Compile it (see cell below) and run it (see cell after that). For the time being, the runtime should be the same as the base version. Insert the following block of code immediately at program start to print out the number of available threads.\n",
    "<code>\n",
    "!$omp parallel\n",
    "!$omp master\n",
    "!$ write(*,*) '#threads = ', omp_get_num_threads()\n",
    "!$omp end master\n",
    "!$omp end parallel\n",
    "</code>\n",
    "Compile and run your code again. How many threads do we have available? Does the number match the number of cores?\n",
    "<br>\n",
    "<b>2.</b> Now use OpenMP to parallelize the <tt>k</tt>-loop. Compile the code again and execute it. Quickly check that the results are still ok (using <tt>validate_results()</tt>, see below) How fast is your code relative to the base version? What would you have expected?<br>\n",
    "<b>3.</b> Generate a perftools-lite report and check what changed relative to the base version. What are the places that consume most of the runtime now?<br>\n",
    "<b>4.</b> Rerun for <tt>nz</tt>=1, 24, 25, 48, 64 ,480 and inspect the perftools-lite report for each of these settings. Look at how the relative distribution of runtime changes in table 2. Can you guess what is happening? Why is <tt>nz</tt>=64 not an ideal setting?<br>\n",
    "</div>"
   ]
  },
  {
   "cell_type": "code",
   "execution_count": 14,
   "metadata": {},
   "outputs": [
    {
     "name": "stdout",
     "output_type": "stream",
     "text": [
      "ftn -O3 -hfp3 -eZ -ffree -N255 -ec -eC -eI -eF -rm -h omp -c stencil2d-kparallel.F90\n",
      "ftn -O3 -hfp3 -eZ -ffree -N255 -ec -eC -eI -eF -rm -h omp m_utils.o stencil2d-kparallel.o -o stencil2d-kparallel.x\n",
      "cp stencil2d-kparallel.x stencil2d.x\n"
     ]
    },
    {
     "name": "stderr",
     "output_type": "stream",
     "text": [
      "INFO: creating the CrayPat-instrumented executable 'stencil2d-kparallel.x' (lite-samples) ...OK\n"
     ]
    }
   ],
   "source": [
    "%%bash\n",
    "module load daint-gpu\n",
    "module switch PrgEnv-gnu PrgEnv-cray\n",
    "module load perftools-lite\n",
    "\n",
    "make VERSION=kparallel"
   ]
  },
  {
   "cell_type": "code",
   "execution_count": 15,
   "metadata": {},
   "outputs": [
    {
     "name": "stdout",
     "output_type": "stream",
     "text": [
      "# threads =           24\n",
      "# ranks nx ny ny nz num_iter time\n",
      "data = np.array( [ \\\n",
      "[    1,  128,  128,   64,    1024,  0.2631614E+00], \\\n",
      "] )\n"
     ]
    }
   ],
   "source": [
    "%%bash\n",
    "srun -n 1 ./stencil2d-kparallel.x+orig --nx 128 --ny 128 --nz 64 --num_iter 1024"
   ]
  },
  {
   "cell_type": "code",
   "execution_count": null,
   "metadata": {},
   "outputs": [],
   "source": [
    "validate_results()"
   ]
  },
  {
   "cell_type": "code",
   "execution_count": 19,
   "metadata": {},
   "outputs": [
    {
     "name": "stderr",
     "output_type": "stream",
     "text": [
      "CrayPat/X:  Version 7.1.1 Revision 7c0ddd79b  08/19/19 16:58:46\n"
     ]
    }
   ],
   "source": [
    "%%bash\n",
    "srun -n 1 ./stencil2d-kparallel.x --nx 128 --ny 128 --nz 64 --num_iter 1024 > report_kparallel.txt"
   ]
  },
  {
   "cell_type": "markdown",
   "metadata": {},
   "source": [
    "## Variable Scoping\n",
    "\n",
    "Inside a parallel region, variables can be either *shared* (all threads see the same copy) or *private* (each thread has its own copy). For now, we have not explicitly declared the scope of variables that are being used in the parallel region. If nothing is specified, the compiler assumes per default that all variables are shared. This is dangerous and can lead to very ugly errors.\n",
    "\n",
    "Some guidelines you can follow to decide the scope of variables are the following:\n",
    "- Loop indices are private.\n",
    "- Variables that are used (read or written) solely inside the parallel region are private.\n",
    "- Variables that are only being read inside the parallel region are shared.\n"
   ]
  },
  {
   "cell_type": "markdown",
   "metadata": {},
   "source": [
    "<div class=\"alert alert-block alert-info\">\n",
    "<b>Now it's your turn...</b><br>\n",
    "<b>5.</b> In order to avoid the default behavior, append the <code>default(none)</code> clause on the line with the <code>!$omp parallel do</code>. Recompile (see below). The compiler will now complain that the scope of several variables has not explictly been specified. For each of these variables, you have to decide whether they are <code>private(var)</code> or <code>shared(var)</code>.<br>\n",
    "<b>6.</b> Once your code compiles, run it and validate that the results are still looking correct.<br>\n",
    "<b>7.</b> Move a single variable (e.g. <tt>nx</tt>) from shared to private, recompile, run and visualize the results. Do you understand what happened?<br>\n",
    "<b>8.</b> Once you are sure that the variable scoping is correct, run one final time and compare the runtime against the previous version and the baseline. Do you understand why we are faster?<br>\n",
    "</div>"
   ]
  },
  {
   "cell_type": "code",
   "execution_count": 36,
   "metadata": {},
   "outputs": [
    {
     "name": "stdout",
     "output_type": "stream",
     "text": [
      "ftn -O3 -hfp3 -eZ -ffree -N255 -ec -eC -eI -eF -rm -h omp -c stencil2d-kparallel.F90\n",
      "ftn -O3 -hfp3 -eZ -ffree -N255 -ec -eC -eI -eF -rm -h omp m_utils.o stencil2d-kparallel.o -o stencil2d-kparallel.x\n",
      "cp stencil2d-kparallel.x stencil2d.x\n"
     ]
    },
    {
     "name": "stderr",
     "output_type": "stream",
     "text": [
      "INFO: creating the CrayPat-instrumented executable 'stencil2d-kparallel.x' (lite-samples) ...OK\n"
     ]
    }
   ],
   "source": [
    "%%bash\n",
    "module load daint-gpu\n",
    "module switch PrgEnv-gnu PrgEnv-cray\n",
    "module load perftools-lite\n",
    "\n",
    "make VERSION=kparallel"
   ]
  },
  {
   "cell_type": "code",
   "execution_count": 37,
   "metadata": {},
   "outputs": [
    {
     "name": "stdout",
     "output_type": "stream",
     "text": [
      "# threads =           24\n",
      "# ranks nx ny ny nz num_iter time\n",
      "data = np.array( [ \\\n",
      "[    1,  128,  128,   64,    1024,  0.2642307E+00], \\\n",
      "] )\n"
     ]
    }
   ],
   "source": [
    "%%bash\n",
    "srun -n 1 ./stencil2d-kparallel.x+orig --nx 128 --ny 128 --nz 64 --num_iter 1024"
   ]
  },
  {
   "cell_type": "code",
   "execution_count": 38,
   "metadata": {},
   "outputs": [
    {
     "data": {
      "image/png": "[encoded data removed]",
      "text/plain": [
       "<Figure size 864x288 with 4 Axes>"
      ]
     },
     "metadata": {
      "needs_background": "light"
     },
     "output_type": "display_data"
    }
   ],
   "source": [
    "validate_results()"
   ]
  },
  {
   "cell_type": "markdown",
   "metadata": {},
   "source": [
    "## Parallelization of the j-loop"
   ]
  },
  {
   "cell_type": "markdown",
   "metadata": {},
   "source": [
    "<div class=\"alert alert-block alert-info\">\n",
    "<b>Now it's your turn...</b><br>\n",
    "<b>5.</b> Make a copy of the <tt>stencil2d-kparallel.F90</tt> program and name it <tt>stencil2d-jparallel.F90</tt>. This time use OpenMP to parallelize the <tt>j</tt>-loop. Make sure to remove the <tt>k</tt>-loop parallelization. Compile it and run it. How fast is your code? What would you have expected?<br>\n",
    "<b>6.</b> Again generate a report. What changed? Can you use the report to explain your findings above?<br>\n",
    "<b>7.</b> Is it a good idea to try and parallelize the <tt>i</tt>-loop? Why?<br>\n",
    "</div>"
   ]
  },
  {
   "cell_type": "code",
   "execution_count": 51,
   "metadata": {},
   "outputs": [
    {
     "name": "stdout",
     "output_type": "stream",
     "text": [
      "ftn -O3 -hfp3 -eZ -ffree -N255 -ec -eC -eI -eF -rm -h omp -c stencil2d-jparallel.F90\n",
      "ftn -O3 -hfp3 -eZ -ffree -N255 -ec -eC -eI -eF -rm -h omp m_utils.o stencil2d-jparallel.o -o stencil2d-jparallel.x\n",
      "cp stencil2d-jparallel.x stencil2d.x\n"
     ]
    },
    {
     "name": "stderr",
     "output_type": "stream",
     "text": [
      "INFO: creating the CrayPat-instrumented executable 'stencil2d-jparallel.x' (lite-samples) ...OK\n"
     ]
    }
   ],
   "source": [
    "%%bash\n",
    "module load daint-gpu\n",
    "module switch PrgEnv-gnu PrgEnv-cray\n",
    "module load perftools-lite\n",
    "\n",
    "make VERSION=jparallel"
   ]
  },
  {
   "cell_type": "code",
   "execution_count": 52,
   "metadata": {},
   "outputs": [
    {
     "name": "stdout",
     "output_type": "stream",
     "text": [
      "# threads =           24\n",
      "# ranks nx ny ny nz num_iter time\n",
      "data = np.array( [ \\\n",
      "[    1,  128,  128,   64,    1024,  0.1477672E+01], \\\n",
      "] )\n"
     ]
    }
   ],
   "source": [
    "%%bash\n",
    "srun -n 1 ./stencil2d-jparallel.x+orig --nx 128 --ny 128 --nz 64 --num_iter 1024"
   ]
  },
  {
   "cell_type": "code",
   "execution_count": 53,
   "metadata": {},
   "outputs": [
    {
     "data": {
      "image/png": "[encoded data removed]",
      "text/plain": [
       "<Figure size 864x288 with 4 Axes>"
      ]
     },
     "metadata": {
      "needs_background": "light"
     },
     "output_type": "display_data"
    }
   ],
   "source": [
    "validate_results()"
   ]
  },
  {
   "cell_type": "code",
   "execution_count": 46,
   "metadata": {},
   "outputs": [
    {
     "name": "stderr",
     "output_type": "stream",
     "text": [
      "CrayPat/X:  Version 7.1.1 Revision 7c0ddd79b  08/19/19 16:58:46\n"
     ]
    }
   ],
   "source": [
    "%%bash\n",
    "srun -n 1 ./stencil2d-jparallel.x --nx 128 --ny 128 --nz 64 --num_iter 1024 > report_jparallel.txt"
   ]
  },
  {
   "cell_type": "markdown",
   "metadata": {},
   "source": [
    "<b>2.</b> Run you code using just 1 thread. How does the runtime compare against the base version? Run the both versions of the code several times to make sure the result is reproducible. What could be the reason for the difference?<br>"
   ]
  },
  {
   "cell_type": "markdown",
   "metadata": {},
   "source": [
    "## Setting the number of threads\n",
    "\n",
    "We now know that we have 12 cores availiable on the CPU. We want to investigate what the best number of threads is. While it is possible to increase the number of threads beyond the number of cores (in fact the default value we found above is 24, giving 2 threads per core), there probably is an optimum.\n",
    "\n",
    "The thread number can be set "
   ]
  },
  {
   "cell_type": "markdown",
   "metadata": {},
   "source": [
    "<div class=\"alert alert-block alert-info\">\n",
    "<b>Now it's your turn...</b><br>\n",
    "<b>8.</b> Use the <tt>stencil2d-kparallel.F90</tt> version of the code you developed above and find the optimal number of threads.<br>\n",
    "<b>9.</b> Do the same thing for the version where you have parallelized the j-loop.\n",
    "</div>"
   ]
  },
  {
   "cell_type": "code",
   "execution_count": 45,
   "metadata": {},
   "outputs": [
    {
     "name": "stdout",
     "output_type": "stream",
     "text": [
      "rm -f -rf *~ *.o *.mod *.MOD *.i core.* *.out *.lst *.x *.x+orig *.x+[0-9]* *.dat *.report\n",
      "ftn -O3 -hfp3 -eZ -ffree -N255 -ec -eC -eI -eF -rm -h omp -c m_utils.F90\n",
      "ftn -O3 -hfp3 -eZ -ffree -N255 -ec -eC -eI -eF -rm -h omp -c stencil2d-kparallel.F90\n",
      "ftn -O3 -hfp3 -eZ -ffree -N255 -ec -eC -eI -eF -rm -h omp m_utils.o stencil2d-kparallel.o -o stencil2d-kparallel.x\n",
      "cp stencil2d-kparallel.x stencil2d.x\n"
     ]
    },
    {
     "name": "stderr",
     "output_type": "stream",
     "text": [
      "INFO: creating the CrayPat-instrumented executable 'stencil2d-kparallel.x' (lite-samples) ...OK\n"
     ]
    }
   ],
   "source": [
    "%%bash\n",
    "module load daint-gpu\n",
    "module switch PrgEnv-gnu PrgEnv-cray\n",
    "module load perftools-lite\n",
    "\n",
    "make clean\n",
    "make VERSION=kparallel"
   ]
  },
  {
   "cell_type": "code",
   "execution_count": 54,
   "metadata": {},
   "outputs": [
    {
     "name": "stderr",
     "output_type": "stream",
     "text": [
      "WARNING: Requested total thread count and/or thread affinity may result in\n",
      "oversubscription of available CPU resources!  Performance may be degraded.\n",
      "Explicitly set OMP_WAIT_POLICY=PASSIVE or ACTIVE to suppress this message.\n",
      "Set CRAY_OMP_CHECK_AFFINITY=TRUE to print detailed thread-affinity messages.\n",
      "WARNING: Requested total thread count and/or thread affinity may result in\n",
      "oversubscription of available CPU resources!  Performance may be degraded.\n",
      "Explicitly set OMP_WAIT_POLICY=PASSIVE or ACTIVE to suppress this message.\n",
      "Set CRAY_OMP_CHECK_AFFINITY=TRUE to print detailed thread-affinity messages.\n",
      "srun: Job 23096447 step creation temporarily disabled, retrying (Requested nodes are busy)\n",
      "srun: Step created for job 23096447\n",
      "WARNING: Requested total thread count and/or thread affinity may result in\n",
      "oversubscription of available CPU resources!  Performance may be degraded.\n",
      "Explicitly set OMP_WAIT_POLICY=PASSIVE or ACTIVE to suppress this message.\n",
      "Set CRAY_OMP_CHECK_AFFINITY=TRUE to print detailed thread-affinity messages.\n",
      "WARNING: Requested total thread count and/or thread affinity may result in\n",
      "oversubscription of available CPU resources!  Performance may be degraded.\n",
      "Explicitly set OMP_WAIT_POLICY=PASSIVE or ACTIVE to suppress this message.\n",
      "Set CRAY_OMP_CHECK_AFFINITY=TRUE to print detailed thread-affinity messages.\n",
      "srun: Job 23096447 step creation temporarily disabled, retrying (Requested nodes are busy)\n",
      "srun: Step created for job 23096447\n",
      "WARNING: Requested total thread count and/or thread affinity may result in\n",
      "oversubscription of available CPU resources!  Performance may be degraded.\n",
      "Explicitly set OMP_WAIT_POLICY=PASSIVE or ACTIVE to suppress this message.\n",
      "Set CRAY_OMP_CHECK_AFFINITY=TRUE to print detailed thread-affinity messages.\n",
      "WARNING: Requested total thread count and/or thread affinity may result in\n",
      "oversubscription of available CPU resources!  Performance may be degraded.\n",
      "Explicitly set OMP_WAIT_POLICY=PASSIVE or ACTIVE to suppress this message.\n",
      "Set CRAY_OMP_CHECK_AFFINITY=TRUE to print detailed thread-affinity messages.\n"
     ]
    }
   ],
   "source": [
    "%%bash\n",
    "echo \"out = [None] * 31\" > out.txt\n",
    "for nthreads in `seq 1 30` ; do\n",
    "  export OMP_NUM_THREADS=$nthreads\n",
    "  ncores=$nthreads\n",
    "  if [ $nthreads -gt 24 ] ; then\n",
    "    ncores=24\n",
    "  fi\n",
    "  srun -n 1 -c $ncores ./stencil2d-kparallel.x+orig --nx 128 --ny 128 --nz 64 --num_iter 1024 | sed \"s/data =/out[$nthreads] =/g\" >> out.txt\n",
    "done"
   ]
  },
  {
   "cell_type": "code",
   "execution_count": 55,
   "metadata": {},
   "outputs": [],
   "source": [
    "exec(open('out.txt','r').read())\n",
    "labels = []\n",
    "times = []\n",
    "for i in range(len(out)):\n",
    "    if i == 0:\n",
    "        continue\n",
    "    labels.append(i)\n",
    "    times.append(out[i][:,5].item())"
   ]
  },
  {
   "cell_type": "code",
   "execution_count": 56,
   "metadata": {},
   "outputs": [
    {
     "data": {
      "image/png": "[encoded data removed]",
      "text/plain": [
       "<Figure size 432x288 with 1 Axes>"
      ]
     },
     "metadata": {
      "needs_background": "light"
     },
     "output_type": "display_data"
    }
   ],
   "source": [
    "x = np.arange(len(labels))  # the label locations\n",
    "width = 0.35  # the width of the bars\n",
    "fig = plt.figure()\n",
    "ax = fig.add_axes([0,0,1,1])\n",
    "ax.bar(labels, times)\n",
    "plt.show()"
   ]
  },
  {
   "cell_type": "markdown",
   "metadata": {},
   "source": [
    "### Collapsing loops and fixing the number of threads\n",
    "\n",
    "OpenMP allows you to parallelize over two loops instead of just one. How does `omp parallel for collapse (2)` compare to these options?"
   ]
  },
  {
   "cell_type": "markdown",
   "metadata": {},
   "source": [
    "<div class=\"alert alert-block alert-info\">\n",
    "<b>Now it's your turn...</b><br>\n",
    "<b>2.</b> We compare collapsing loops to having one or two parallel for loops<br>\n",
    "<dd>a) only parallelize the j loop<br></dd>\n",
    "<dd>b) collapse the two<br></dd>\n",
    "<dd>c) take the ij paralellization from above<br></dd>\n",
    "</div>"
   ]
  },
  {
   "cell_type": "code",
   "execution_count": null,
   "metadata": {},
   "outputs": [],
   "source": [
    "%%bash\n",
    "# implement a version that parallelizes j first\n",
    "module load daint-gpu\n",
    "module switch PrgEnv-gnu PrgEnv-cray\n",
    "module load perftools-lite\n",
    "\n",
    "make VERSION=jparallel"
   ]
  },
  {
   "cell_type": "code",
   "execution_count": null,
   "metadata": {},
   "outputs": [],
   "source": [
    "%%bash --out jparallel\n",
    "srun -n 12 ./stencil2d-jparallel.x --nx 128 --ny 128 --nz 64 --num_iter 1024"
   ]
  },
  {
   "cell_type": "code",
   "execution_count": null,
   "metadata": {},
   "outputs": [],
   "source": [
    "%%bash\n",
    "# implement a version that collapses the loops\n",
    "module load daint-gpu\n",
    "module switch PrgEnv-gnu PrgEnv-cray\n",
    "module load perftools-lite\n",
    "\n",
    "make VERSION=collapse"
   ]
  },
  {
   "cell_type": "code",
   "execution_count": null,
   "metadata": {},
   "outputs": [],
   "source": [
    "%%bash --out collapse\n",
    "srun -n 12 ./stencil2d-collapse.x --nx 128 --ny 128 --nz 64 --num_iter 1024"
   ]
  },
  {
   "cell_type": "code",
   "execution_count": null,
   "metadata": {},
   "outputs": [],
   "source": [
    "## remove this once the implementation is done\n",
    "collapse = base_code\n",
    "jparallel = base_code"
   ]
  },
  {
   "cell_type": "code",
   "execution_count": null,
   "metadata": {},
   "outputs": [],
   "source": [
    "labels = ['collapse', 'jparallel', 'ijparallel']\n",
    "times = []\n",
    "# fetch all the times\n",
    "exec(collapse)\n",
    "times.append(data[0,5])\n",
    "exec(jparallel)\n",
    "times.append(data[0,5])\n",
    "exec(ijparallel)\n",
    "times.append(data[0,5])\n",
    "\n",
    "# some plotting magic\n",
    "x = np.arange(len(labels))  # the label locations\n",
    "width = 0.35  # the width of the bars\n",
    "fig = plt.figure()\n",
    "ax = fig.add_axes([0,0,1,1])\n",
    "ax.bar(labels,times)\n",
    "plt.show()"
   ]
  },
  {
   "cell_type": "markdown",
   "metadata": {},
   "source": [
    "## Scheduling\n",
    "\n",
    "We use the optimal number of threads `p` moving forward\n",
    "OpenMP allows for a schedule to be set. Try experimenting what the best schedule is between:\n",
    "```\n",
    "static(1)\n",
    "static(nz/p)\n",
    "dynamic(1)\n",
    "dynamic(nz/p)\n",
    "dynamic(nz/p/2)\n",
    "guided\n",
    "```"
   ]
  },
  {
   "cell_type": "markdown",
   "metadata": {},
   "source": [
    "<div class=\"alert alert-block alert-info\">\n",
    "<b>Now it's your turn...</b><br>\n",
    "<b>3.</b> We find the best schedule for our loop, switch between the options above to find the best strategy<br>\n",
    "   <b>4.</b> Reason why this is the optimal strategy\n",
    "</div>"
   ]
  },
  {
   "cell_type": "markdown",
   "metadata": {},
   "source": [
    "## Parallelizing the Halo updated\n",
    "\n",
    "The halo updates are a set of small loops that are all independent. This leads to using the `nowait` pragma ideally."
   ]
  },
  {
   "cell_type": "markdown",
   "metadata": {},
   "source": [
    "<div class=\"alert alert-block alert-info\">\n",
    "<b>Now it's your turn...</b><br>\n",
    "<b>5.</b> Implement the parallelization of the halo updates<br>\n",
    "<b>6.</b> Reason why the performance benefit is what you see\n",
    "</div>"
   ]
  },
  {
   "cell_type": "code",
   "execution_count": null,
   "metadata": {},
   "outputs": [],
   "source": [
    "%%bash\n",
    "# play with the number of threads\n",
    "module load daint-gpu\n",
    "module switch PrgEnv-gnu PrgEnv-cray\n",
    "module load perftools-lite\n",
    "\n",
    "make VERSION=parallelHalo"
   ]
  },
  {
   "cell_type": "code",
   "execution_count": null,
   "metadata": {},
   "outputs": [],
   "source": [
    "%%bash --out parallelHalo\n",
    "# make sure to set the number of threads to the optimal number\n",
    "srun -n 12 ./stencil2d-parallelHalo.x --nx 128 --ny 128 --nz 64 --num_iter 1024 --num_threads 24"
   ]
  },
  {
   "cell_type": "markdown",
   "metadata": {},
   "source": [
    "# Bonus exercises\n",
    "\n",
    "If you have enough time, there are three additional tasks of higher difficulty to refine some skills\n",
    "\n",
    "### Manual implementation of the omp parallel for pragma\n",
    "There is a way to re-implement what a parallel for loop does with the directives `omp parallel`, `omp single`(or similar) and `omp task`. See if you manage to parallelize just the k loop of the code without using `omp parallel for`. What are the performance implications? Why?\n",
    "\n",
    "### Fusing the computation loops\n",
    "\n",
    "Currently we have the computation in two ij loops. Ideally we would have the computation in just one loop.\n",
    "\n",
    "There is a way to fuse the compuatational loops (and have the update on a separate loop). \n",
    "\n",
    "What are performance benefits of this?"
   ]
  },
  {
   "cell_type": "markdown",
   "metadata": {},
   "source": [
    "*cleanup in the end*"
   ]
  },
  {
   "cell_type": "code",
   "execution_count": null,
   "metadata": {},
   "outputs": [],
   "source": [
    "%%bash\n",
    "make clean\n",
    "rm -rf in_field.dat out_field.dat"
   ]
  }
 ],
 "metadata": {
  "kernelspec": {
   "display_name": "HPC4WC_kernel",
   "language": "python",
   "name": "hpc4wc_kernel"
  },
  "language_info": {
   "codemirror_mode": {
    "name": "ipython",
    "version": 3
   },
   "file_extension": ".py",
   "mimetype": "text/x-python",
   "name": "python",
   "nbconvert_exporter": "python",
   "pygments_lexer": "ipython3",
   "version": "3.6.5"
  }
 },
 "nbformat": 4,
 "nbformat_minor": 4
}
