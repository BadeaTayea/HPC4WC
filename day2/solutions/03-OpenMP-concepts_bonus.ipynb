{
 "cells": [
  {
   "cell_type": "markdown",
   "metadata": {},
   "source": [
    "# Bonus Questions for more in-depth OpenMP \n",
    "\n",
    "In this notebook we will explore some of the more advanced concepts surrounding openMP. Note that not all of these are critical to speed up weather and climate codes so they are structured in this bonus notebook"
   ]
  },
  {
   "cell_type": "markdown",
   "metadata": {},
   "source": [
    "## Parallel Execution Time\n",
    "\n",
    "<div class=\"alert alert-block alert-success\">\n",
    "<b>Now it's your turn...</b><br>\n",
    "B1: Assume you have a program hat is 99% parallelizeable. If we parallelize it but by parallelizing we add parallel overhead to the code (by adding communication). The overhead is at $0.0001 \\cdot \\log(n)$ runtime. How many nodes are the ideal configuration for this to run as fast as possible?\n",
    "</div>"
   ]
  },
  {
   "cell_type": "code",
   "execution_count": 19,
   "metadata": {},
   "outputs": [
    {
     "name": "stdout",
     "output_type": "stream",
     "text": [
      "0\n"
     ]
    }
   ],
   "source": [
    "import numpy as np\n",
    "import math\n",
    "\n",
    "cores = [None] #TODO\n",
    "run_time = [None] #TODO\n",
    "index_min = np.argmin(run_time)\n",
    "print(index_min)\n"
   ]
  },
  {
   "cell_type": "code",
   "execution_count": 16,
   "metadata": {},
   "outputs": [
    {
     "name": "stdout",
     "output_type": "stream",
     "text": [
      "9899\n"
     ]
    }
   ],
   "source": [
    "import numpy as np\n",
    "import math\n",
    "\n",
    "cores = range(1,70000) # TODO\n",
    "run_time = [0.1+0.99/x+0.0001*math.log(x) for x in cores] # TODO\n",
    "index_min = np.argmin(run_time)\n",
    "print(index_min)\n"
   ]
  },
  {
   "cell_type": "markdown",
   "metadata": {},
   "source": [
    "<div class=\"alert alert-block alert-success\">\n",
    "<b>Now it's your turn...</b><br>\n",
    "B2: Can we mathemathically prove that this is actually ideal?\n",
    "    </div>"
   ]
  },
  {
   "cell_type": "markdown",
   "metadata": {},
   "source": [
    "## Amdahl's Law\n",
    "\n",
    "<div class=\"alert alert-block alert-success\">\n",
    "<b>Now it's your turn...</b><br>\n",
    "B3: Assume you have a program hat is 99% parallelizeable. If you have three machnies available, your laptop with 8 cores, all the fat-nodes of Brutus (3840 corers) and the full CPU partition of Piz Daint with it's 65268 cores. How much speedup do these machines offer you?\n",
    "    </div>"
   ]
  },
  {
   "cell_type": "code",
   "execution_count": 1,
   "metadata": {},
   "outputs": [
    {
     "name": "stdout",
     "output_type": "stream",
     "text": [
      "[]\n"
     ]
    }
   ],
   "source": [
    "cores = [] # TODO\n",
    "run_time = [] # TODO\n",
    "speedup = [] # TODO\n",
    "print(speedup)\n"
   ]
  },
  {
   "cell_type": "code",
   "execution_count": 2,
   "metadata": {},
   "outputs": [
    {
     "name": "stdout",
     "output_type": "stream",
     "text": [
      "[1.0, 4.871508379888269, 10.871970700537677, 10.89834691373344]\n"
     ]
    }
   ],
   "source": [
    "cores = [1, 8,3840,65268] # TODO\n",
    "run_time = [0.1 + 0.99/x for x in cores] # TODO\n",
    "speedup = [run_time[0]/x for x in run_time] # TODO\n",
    "print(speedup)\n"
   ]
  },
  {
   "cell_type": "code",
   "execution_count": 10,
   "metadata": {},
   "outputs": [
    {
     "data": {
      "image/png": "[encoded data removed]",
      "text/plain": [
       "<Figure size 720x360 with 1 Axes>"
      ]
     },
     "metadata": {
      "needs_background": "light"
     },
     "output_type": "display_data"
    }
   ],
   "source": [
    "import matplotlib.pyplot as plt\n",
    "\n",
    "# creating the dataset\n",
    "courses = [\"Single Node\", \"Laptop\", \"Brutus\", \"Daint\"]\n",
    "fig = plt.figure(figsize = (10, 5))\n",
    " \n",
    "# creating the bar plot\n",
    "plt.bar(courses, speedup, color ='maroon',\n",
    "        width = 0.4)\n",
    " \n",
    "plt.xlabel(\"Machine\")\n",
    "plt.ylabel(\"Speedup\")\n",
    "plt.title(\"Speedup on different machines\")\n",
    "plt.show()"
   ]
  },
  {
   "cell_type": "markdown",
   "metadata": {},
   "source": [
    "# Exploration of intrinsics\n",
    "\n",
    "In this section we are exploring the difference in speed between various intinsics\n",
    "\n",
    "<div class=\"alert alert-block alert-success\">\n",
    "<b>Now it's your turn...</b><br>\n",
    "B4: Write a program <code>expensive.cpp</code> where we loop over $n$ iteration and take the $arccos$ of the $cos$ of the $arcsin$ of the $sin$ of the $abs$ value of it's iteration number divided by the total number of iterations.\n",
    "\n",
    "</div>\n",
    "We sum all these values up and verify correctness by printing the result.\n",
    "Ideally the program is parametrized with the number of iterations as well as the number of threads used.\n"
   ]
  },
  {
   "cell_type": "code",
   "execution_count": 3,
   "metadata": {},
   "outputs": [
    {
     "name": "stdout",
     "output_type": "stream",
     "text": [
      "rm -f parallel private reduction regions schedule scoping shared threadnum timing weak weak.txt barrier barrier2 caching.txt caching2 caching2.txt infos loops nowait out.txt caching \n",
      "rm -f -rf *~ *.o *.mod *.MOD *.i core.* *.out *.lst *.x *.x+orig *.x+[0-9]* *.dat *.report report_*.txt out.txt\n"
     ]
    }
   ],
   "source": [
    "%%bash\n",
    "make clean"
   ]
  },
  {
   "cell_type": "code",
   "execution_count": 11,
   "metadata": {},
   "outputs": [],
   "source": [
    "%%bash\n",
    "module load daint-gpu\n",
    "module switch PrgEnv-gnu PrgEnv-cray\n",
    "\n",
    "CC expensive.cpp -fopenmp -o expensive.x -O3"
   ]
  },
  {
   "cell_type": "code",
   "execution_count": 12,
   "metadata": {},
   "outputs": [
    {
     "name": "stdout",
     "output_type": "stream",
     "text": [
      "4.5\n"
     ]
    }
   ],
   "source": [
    "%%bash\n",
    "srun -n 1 ./expensive.x 1 10"
   ]
  },
  {
   "cell_type": "markdown",
   "metadata": {},
   "source": [
    "This call should print a value of 4.5"
   ]
  },
  {
   "cell_type": "markdown",
   "metadata": {},
   "source": [
    "<div class=\"alert alert-block alert-success\">\n",
    "<b>Now it's your turn...</b><br>\n",
    "B5: Duplicate the file into a file called <code>critical.cpp</code> Parallelize the for loop and make the updates work in critical secions.\n",
    "How much speedup do we get?\n",
    "</div>    "
   ]
  },
  {
   "cell_type": "code",
   "execution_count": 18,
   "metadata": {},
   "outputs": [],
   "source": [
    "%%bash\n",
    "module load daint-gpu\n",
    "module switch PrgEnv-gnu PrgEnv-cray\n",
    "\n",
    "CC critical.cpp -fopenmp -o critical.x -O3"
   ]
  },
  {
   "cell_type": "code",
   "execution_count": 20,
   "metadata": {},
   "outputs": [
    {
     "name": "stdout",
     "output_type": "stream",
     "text": [
      "12 0.0134138\n"
     ]
    }
   ],
   "source": [
    "%%bash\n",
    "srun -n 1 ./critical.x 12 1000"
   ]
  },
  {
   "cell_type": "markdown",
   "metadata": {},
   "source": [
    "<div class=\"alert alert-block alert-success\">\n",
    "<b>Now it's your turn...</b><br>\n",
    "B6: Duplicate the file into a file called <code>atomic.cpp</code> update the critical section to use an atomic instead.\n",
    "How much speedup do we get?\n",
    "</div>    "
   ]
  },
  {
   "cell_type": "code",
   "execution_count": 23,
   "metadata": {},
   "outputs": [],
   "source": [
    "%%bash\n",
    "module load daint-gpu\n",
    "module switch PrgEnv-gnu PrgEnv-cray\n",
    "\n",
    "CC atomic.cpp -fopenmp -o atomic.x -O3"
   ]
  },
  {
   "cell_type": "code",
   "execution_count": 3,
   "metadata": {},
   "outputs": [
    {
     "name": "stdout",
     "output_type": "stream",
     "text": [
      "12 0.000491527\n"
     ]
    }
   ],
   "source": [
    "%%bash\n",
    "srun -n 1 ./atomic.x 12 1000"
   ]
  },
  {
   "cell_type": "markdown",
   "metadata": {},
   "source": [
    "<div class=\"alert alert-block alert-success\">\n",
    "<b>Now it's your turn...</b><br>\n",
    "B7: Duplicate the file into a file called <code>reduction.cpp</code> and change the loop to use the intrinsic reduction. How do times compare between the reduction and the atomic?\n",
    "</div>"
   ]
  },
  {
   "cell_type": "code",
   "execution_count": 8,
   "metadata": {},
   "outputs": [],
   "source": [
    "%%bash\n",
    "module load daint-gpu\n",
    "module switch PrgEnv-gnu PrgEnv-cray\n",
    "\n",
    "CC reduction.cpp -fopenmp -o reduction.x -O3"
   ]
  },
  {
   "cell_type": "code",
   "execution_count": 10,
   "metadata": {},
   "outputs": [
    {
     "name": "stdout",
     "output_type": "stream",
     "text": [
      "12 0.000456981\n"
     ]
    }
   ],
   "source": [
    "%%bash\n",
    "srun -n 1 ./reduction.x 12 1000"
   ]
  },
  {
   "cell_type": "markdown",
   "metadata": {},
   "source": [
    "<div class=\"alert alert-block alert-success\">\n",
    "<b>Now it's your turn...</b><br>\n",
    "B8: Lastly we try to completely parallelize the code and have a single thread sum up the result in <code>fully_parallel.cpp</code>. How does that compare to the above times?\n",
    "</div>"
   ]
  },
  {
   "cell_type": "code",
   "execution_count": 11,
   "metadata": {},
   "outputs": [],
   "source": [
    "%%bash\n",
    "module load daint-gpu\n",
    "module switch PrgEnv-gnu PrgEnv-cray\n",
    "\n",
    "CC fully_parallel.cpp -fopenmp -o fully_parallel.x -O3"
   ]
  },
  {
   "cell_type": "code",
   "execution_count": 12,
   "metadata": {},
   "outputs": [
    {
     "name": "stdout",
     "output_type": "stream",
     "text": [
      "12 0.000419738\n"
     ]
    }
   ],
   "source": [
    "%%bash\n",
    "srun -n 1 ./fully_parallel.x 12 1000"
   ]
  },
  {
   "cell_type": "markdown",
   "metadata": {},
   "source": [
    "<div class=\"alert alert-block alert-success\">\n",
    "<b>Now it's your turn...</b><br>\n",
    "B9 How does this version compare to the reduction if we don't use a complicated expression but a very simple one: simply adding up the iteration numbers\n",
    "</div>"
   ]
  },
  {
   "cell_type": "code",
   "execution_count": 13,
   "metadata": {},
   "outputs": [],
   "source": [
    "%%bash\n",
    "module load daint-gpu\n",
    "module switch PrgEnv-gnu PrgEnv-cray\n",
    "\n",
    "CC iterations_count_atomic.cpp -fopenmp -o iterations_count_atomic.x -O3\n",
    "CC iterations_count_fully_parallel.cpp -fopenmp -o iterations_count_fully_parallel.x -O3"
   ]
  },
  {
   "cell_type": "code",
   "execution_count": 14,
   "metadata": {},
   "outputs": [
    {
     "name": "stdout",
     "output_type": "stream",
     "text": [
      "12 0.000429312\n"
     ]
    }
   ],
   "source": [
    "%%bash\n",
    "srun -n 1 ./iterations_count_atomic.x 12 1000"
   ]
  },
  {
   "cell_type": "code",
   "execution_count": 15,
   "metadata": {},
   "outputs": [
    {
     "name": "stdout",
     "output_type": "stream",
     "text": [
      "12 0.000399513\n"
     ]
    }
   ],
   "source": [
    "%%bash\n",
    "srun -n 1 ./iterations_count_fully_parallel.x 12 1000"
   ]
  },
  {
   "cell_type": "markdown",
   "metadata": {},
   "source": [
    "# Exploration of caching\n",
    "<div class=\"alert alert-block alert-success\">\n",
    "<b>Now it's your turn...</b><br>\n",
    "B10: Parallelize <code>expensive.cpp</code> in a new file <code>static_small_expensive.cpp</code> with a static loop schedule of size 1. Change the output of the expression to be \n",
    "<br>`output[i] = acos(cos(asin(sin(abs(input[i]))))) + output[i];`\n",
    "</div>\n"
   ]
  },
  {
   "cell_type": "markdown",
   "metadata": {},
   "source": [
    "<div class=\"alert alert-block alert-success\">\n",
    "<b>Now it's your turn...</b><br>\n",
    "B11: How does our time change if we move to a static schedule of size 80? Copy <code>static_small_expensive.cpp</code> and change it to have a different policy in <code>static_large_expensive.cpp</code>\n",
    "</div>\n"
   ]
  },
  {
   "cell_type": "code",
   "execution_count": 5,
   "metadata": {},
   "outputs": [],
   "source": [
    "%%bash\n",
    "module load daint-gpu\n",
    "module switch PrgEnv-gnu PrgEnv-cray\n",
    "\n",
    "CC static_small_expensive.cpp -fopenmp -o static_small_expensive.x -O3\n",
    "CC static_large_expensive.cpp -fopenmp -o static_large_expensive.x -O3\n"
   ]
  },
  {
   "cell_type": "code",
   "execution_count": 6,
   "metadata": {},
   "outputs": [
    {
     "name": "stdout",
     "output_type": "stream",
     "text": [
      "12 0.000418179\n"
     ]
    }
   ],
   "source": [
    "%%bash\n",
    "srun -n 1 ./static_small_expensive.x 12 1000"
   ]
  },
  {
   "cell_type": "code",
   "execution_count": 6,
   "metadata": {},
   "outputs": [
    {
     "name": "stdout",
     "output_type": "stream",
     "text": [
      "12 0.000418179\n"
     ]
    }
   ],
   "source": [
    "%%bash\n",
    "srun -n 1 ./static_large_expensive.x 12 1000"
   ]
  },
  {
   "cell_type": "markdown",
   "metadata": {},
   "source": [
    "<div class=\"alert alert-block alert-success\">\n",
    "<b>Now it's your turn...</b><br>\n",
    "B1: How do these two results change if we move to a cheap iteration in just adding up the iteration number? Explore in `static_small_cheap.cpp` and `static_large_cheap.cpp`\n",
    "</div>\n",
    "\n"
   ]
  },
  {
   "cell_type": "code",
   "execution_count": 5,
   "metadata": {},
   "outputs": [],
   "source": [
    "%%bash\n",
    "module load daint-gpu\n",
    "module switch PrgEnv-gnu PrgEnv-cray\n",
    "\n",
    "CC static_small_cheap.cpp -fopenmp -o static_small_cheap.x -O3\n",
    "CC static_large_cheap.cpp -fopenmp -o static_large_cheap.x -O3\n"
   ]
  },
  {
   "cell_type": "code",
   "execution_count": 6,
   "metadata": {},
   "outputs": [
    {
     "name": "stdout",
     "output_type": "stream",
     "text": [
      "12 0.000418179\n"
     ]
    }
   ],
   "source": [
    "%%bash\n",
    "srun -n 1 ./static_small_cheap.x 12 1000"
   ]
  },
  {
   "cell_type": "code",
   "execution_count": 6,
   "metadata": {},
   "outputs": [
    {
     "name": "stdout",
     "output_type": "stream",
     "text": [
      "12 0.000418179\n"
     ]
    }
   ],
   "source": [
    "%%bash\n",
    "srun -n 1 ./static_large_cheap.x 12 1000"
   ]
  }
 ],
 "metadata": {
  "kernelspec": {
   "display_name": "HPC4WC_kernel",
   "language": "python",
   "name": "hpc4wc_kernel"
  },
  "language_info": {
   "codemirror_mode": {
    "name": "ipython",
    "version": 3
   },
   "file_extension": ".py",
   "mimetype": "text/x-python",
   "name": "python",
   "nbconvert_exporter": "python",
   "pygments_lexer": "ipython3",
   "version": "3.8.5"
  }
 },
 "nbformat": 4,
 "nbformat_minor": 4
}
