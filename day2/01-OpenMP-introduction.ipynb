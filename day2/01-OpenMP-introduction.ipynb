{
 "cells": [
  {
   "cell_type": "markdown",
   "metadata": {},
   "source": [
    "# Shared Memory Parallelism using OpenMP"
   ]
  },
  {
   "cell_type": "markdown",
   "metadata": {},
   "source": [
    "We want to use OpenMP to enable parallel execution of our codes. If multiple workers can do the same job, execution will be sped up.\n",
    "\n",
    "### Example\n",
    "\n",
    "Computing $\\pi$ using the Leibniz formula:\n",
    "$$1 - \\frac{1}{3} + \\frac{1}{5} - \\frac{1}{7} + \\frac{1}{9} ... = \\frac{\\pi}{4}$$"
   ]
  },
  {
   "cell_type": "code",
   "execution_count": null,
   "metadata": {},
   "outputs": [],
   "source": [
    "pygmentize omp_examples/01-demo.cpp"
   ]
  },
  {
   "cell_type": "markdown",
   "metadata": {},
   "source": [
    "We first need to compile this C++ code using a compiler into an executable we name `serial`."
   ]
  },
  {
   "cell_type": "code",
   "execution_count": null,
   "metadata": {},
   "outputs": [],
   "source": [
    "g++ omp_examples/01-demo.cpp -o serial"
   ]
  },
  {
   "cell_type": "markdown",
   "metadata": {},
   "source": [
    "Now we can run the generated executable."
   ]
  },
  {
   "cell_type": "code",
   "execution_count": null,
   "metadata": {},
   "outputs": [],
   "source": [
    "./serial"
   ]
  },
  {
   "cell_type": "markdown",
   "metadata": {},
   "source": [
    "Seems good enough.\n",
    "\n",
    "Now if we have 12 cores available on our CPU, what is the easiest way to parallelize this?"
   ]
  },
  {
   "cell_type": "code",
   "execution_count": null,
   "metadata": {},
   "outputs": [],
   "source": [
    "pygmentize omp_examples/01-demoparallel.cpp"
   ]
  },
  {
   "cell_type": "markdown",
   "metadata": {},
   "source": [
    "We need to tell the compiler that our program contains OpenMP pragmas with the `-fopenmp` option."
   ]
  },
  {
   "cell_type": "code",
   "execution_count": null,
   "metadata": {},
   "outputs": [],
   "source": [
    "g++ -fopenmp omp_examples/01-demoparallel.cpp -o parallel"
   ]
  },
  {
   "cell_type": "markdown",
   "metadata": {},
   "source": [
    "We can determine the number of cores (threads) to use with the `OMP_NUM_THREADS` environment variable."
   ]
  },
  {
   "cell_type": "code",
   "execution_count": null,
   "metadata": {},
   "outputs": [],
   "source": [
    "OMP_NUM_THREADS=12 ./parallel"
   ]
  },
  {
   "cell_type": "markdown",
   "metadata": {},
   "source": [
    "Check the performance impact of the one line of pragma changes"
   ]
  },
  {
   "cell_type": "code",
   "execution_count": null,
   "metadata": {},
   "outputs": [],
   "source": [
    "time for i in {1..10}; do ./serial; done\n",
    "time for i in {1..10}; do OMP_NUM_THREADS=12 ./parallel; done"
   ]
  },
  {
   "cell_type": "markdown",
   "metadata": {},
   "source": [
    "And a bit of cleanup"
   ]
  },
  {
   "cell_type": "code",
   "execution_count": null,
   "metadata": {},
   "outputs": [],
   "source": [
    "rm serial parallel"
   ]
  },
  {
   "cell_type": "markdown",
   "metadata": {},
   "source": [
    "# Amdahl's law\n",
    "\n",
    "We look at the performance of the simple code above (slightly changed for better output readability"
   ]
  },
  {
   "cell_type": "code",
   "execution_count": null,
   "metadata": {},
   "outputs": [],
   "source": [
    "pygmentize omp_examples/02-timing.cpp"
   ]
  },
  {
   "cell_type": "code",
   "execution_count": null,
   "metadata": {},
   "outputs": [],
   "source": [
    "g++ -fopenmp omp_examples/02-timing.cpp -o timing"
   ]
  },
  {
   "cell_type": "code",
   "execution_count": null,
   "metadata": {},
   "outputs": [],
   "source": [
    "./timing 1 > out.txt\n",
    "./timing 2 >> out.txt\n",
    "./timing 3 >> out.txt\n",
    "./timing 4 >> out.txt\n",
    "./timing 5 >> out.txt\n",
    "./timing 6 >> out.txt\n",
    "./timing 7 >> out.txt\n",
    "./timing 8 >> out.txt\n",
    "./timing 9 >> out.txt\n",
    "./timing 10 >> out.txt\n",
    "./timing 11 >> out.txt\n",
    "./timing 12 >> out.txt"
   ]
  },
  {
   "cell_type": "code",
   "execution_count": null,
   "metadata": {},
   "outputs": [],
   "source": [
    "gnuplot -e \"\\\n",
    "set terminal png; \\\n",
    "set style fill solid; \\\n",
    "set yrange[0:0.1]; \\\n",
    "set xlabel '# cores'; \\\n",
    "set ylabel 'runtime [s]'; \\\n",
    "plot 'out.txt' using 2: xtic(1) title 'runtime' with histogram \\\n",
    "\" | display"
   ]
  },
  {
   "cell_type": "code",
   "execution_count": null,
   "metadata": {},
   "outputs": [],
   "source": [
    "base=`head -1 out.txt | awk '{print $2}'`\n",
    "gnuplot -e \"\\\n",
    "set terminal png; \\\n",
    "set style fill solid; \\\n",
    "set yrange[0:14]; \\\n",
    "set xlabel '# cores'; \\\n",
    "set ylabel 'speedup (relative to 1 core)'; \\\n",
    "plot 'out.txt' using ($base/\\$2): xtic(1) title 'runtime' with histogram, \n",
    "'out.txt' using :(\\$1) title 'linear' with lines\\\n",
    "\" | display"
   ]
  },
  {
   "cell_type": "markdown",
   "metadata": {},
   "source": [
    "And a bit of cleanup"
   ]
  },
  {
   "cell_type": "code",
   "execution_count": null,
   "metadata": {},
   "outputs": [],
   "source": [
    "rm out.txt timing"
   ]
  },
  {
   "cell_type": "markdown",
   "metadata": {},
   "source": [
    "# Race conditions"
   ]
  },
  {
   "cell_type": "markdown",
   "metadata": {},
   "source": [
    "Since these processes can all interfere with each other we need to be careful"
   ]
  },
  {
   "cell_type": "code",
   "execution_count": null,
   "metadata": {},
   "outputs": [],
   "source": [
    "pygmentize omp_examples/03-race.cpp"
   ]
  },
  {
   "cell_type": "markdown",
   "metadata": {},
   "source": [
    "What happens if we write to the same memory location with more than one thread?"
   ]
  },
  {
   "cell_type": "code",
   "execution_count": null,
   "metadata": {},
   "outputs": [],
   "source": [
    "g++ -fopenmp omp_examples/03-race.cpp -o test"
   ]
  },
  {
   "cell_type": "code",
   "execution_count": null,
   "metadata": {},
   "outputs": [],
   "source": [
    "OMP_NUM_THREADS=10 ./test"
   ]
  },
  {
   "cell_type": "markdown",
   "metadata": {},
   "source": [
    "This does not only affect variables defined outside. This can have a lot of implications:"
   ]
  },
  {
   "cell_type": "code",
   "execution_count": null,
   "metadata": {},
   "outputs": [],
   "source": [
    "pygmentize omp_examples/03-race2.cpp"
   ]
  },
  {
   "cell_type": "code",
   "execution_count": null,
   "metadata": {},
   "outputs": [],
   "source": [
    "g++ -fopenmp omp_examples/03-race2.cpp -o output"
   ]
  },
  {
   "cell_type": "code",
   "execution_count": null,
   "metadata": {},
   "outputs": [],
   "source": [
    "./output"
   ]
  },
  {
   "cell_type": "markdown",
   "metadata": {},
   "source": [
    "and a bit of cleanup"
   ]
  },
  {
   "cell_type": "code",
   "execution_count": null,
   "metadata": {},
   "outputs": [],
   "source": [
    "rm -f test output"
   ]
  },
  {
   "cell_type": "markdown",
   "metadata": {},
   "source": [
    "# Synchronization\n",
    "\n",
    "Options to prevent race conditions are:\n",
    "- Ensure only one thread is in the critical region at once\n",
    "- Make writes atomic\n",
    "\n",
    "### Ensure only one processor is present"
   ]
  },
  {
   "cell_type": "code",
   "execution_count": null,
   "metadata": {},
   "outputs": [],
   "source": [
    "pygmentize omp_examples/04-critical.cpp"
   ]
  },
  {
   "cell_type": "code",
   "execution_count": null,
   "metadata": {},
   "outputs": [],
   "source": [
    "g++ -fopenmp omp_examples/04-critical.cpp -o test\n",
    "./test"
   ]
  },
  {
   "cell_type": "code",
   "execution_count": null,
   "metadata": {},
   "outputs": [],
   "source": [
    "pygmentize omp_examples/04-ordered.cpp"
   ]
  },
  {
   "cell_type": "code",
   "execution_count": null,
   "metadata": {},
   "outputs": [],
   "source": [
    "g++ -fopenmp omp_examples/04-ordered.cpp -o test\n",
    "./test"
   ]
  },
  {
   "cell_type": "code",
   "execution_count": null,
   "metadata": {},
   "outputs": [],
   "source": [
    "pygmentize omp_examples/04-flush.cpp"
   ]
  },
  {
   "cell_type": "code",
   "execution_count": null,
   "metadata": {},
   "outputs": [],
   "source": [
    "g++ -fopenmp omp_examples/04-flush.cpp -o test\n",
    "./test"
   ]
  },
  {
   "cell_type": "markdown",
   "metadata": {},
   "source": [
    "And a bit of cleanup"
   ]
  },
  {
   "cell_type": "code",
   "execution_count": null,
   "metadata": {},
   "outputs": [],
   "source": [
    "rm -f test"
   ]
  },
  {
   "cell_type": "markdown",
   "metadata": {},
   "source": [
    "## Caching\n",
    "\n",
    "Here we see the implication of caching in a multithreaded environment"
   ]
  },
  {
   "cell_type": "code",
   "execution_count": null,
   "metadata": {},
   "outputs": [],
   "source": [
    "pygmentize omp_examples/05-caching.cpp"
   ]
  },
  {
   "cell_type": "code",
   "execution_count": null,
   "metadata": {},
   "outputs": [],
   "source": [
    "g++ -fopenmp omp_examples/05-caching.cpp -o timing"
   ]
  },
  {
   "cell_type": "code",
   "execution_count": null,
   "metadata": {},
   "outputs": [],
   "source": [
    "./timing 1 > caching.txt\n",
    "./timing 2 >> caching.txt\n",
    "./timing 4 >> caching.txt\n",
    "./timing 8 >> caching.txt\n",
    "./timing 12 >> caching.txt\n",
    "./timing 13 >> caching.txt\n",
    "./timing 20 >> caching.txt\n",
    "./timing 24 >> caching.txt"
   ]
  },
  {
   "cell_type": "code",
   "execution_count": null,
   "metadata": {},
   "outputs": [],
   "source": [
    "gnuplot -e \"\\\n",
    "set terminal png; \\\n",
    "set style fill solid; \\\n",
    "set yrange[0:0.1]; \\\n",
    "plot 'caching.txt' using 2: xtic(1) with histogram \\\n",
    "\" | display"
   ]
  },
  {
   "cell_type": "markdown",
   "metadata": {},
   "source": [
    "And a bit of cleanup"
   ]
  },
  {
   "cell_type": "code",
   "execution_count": null,
   "metadata": {},
   "outputs": [],
   "source": [
    "rm -f timing caching.txt"
   ]
  },
  {
   "cell_type": "code",
   "execution_count": null,
   "metadata": {},
   "outputs": [],
   "source": []
  }
 ],
 "metadata": {
  "kernelspec": {
   "display_name": "Bash",
   "language": "bash",
   "name": "bash"
  },
  "language_info": {
   "codemirror_mode": "shell",
   "file_extension": ".sh",
   "mimetype": "text/x-sh",
   "name": "bash"
  }
 },
 "nbformat": 4,
 "nbformat_minor": 4
}
