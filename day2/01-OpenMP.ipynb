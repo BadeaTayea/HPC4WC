{
 "cells": [
  {
   "cell_type": "markdown",
   "metadata": {},
   "source": [
    "# Motivation"
   ]
  },
  {
   "cell_type": "markdown",
   "metadata": {},
   "source": [
    "We want to use OpenMP to enable parallel execution of our codes. If multiple workers can do the same job, exeuction will be sped up.\n",
    "### Example:\n",
    "computing $\\pi$ using the Leibniz formula:\n",
    "$$1 - \\frac{1}{3} + \\frac{1}{5} - \\frac{1}{7} + \\frac{1}{9} ... = \\frac{\\pi}{4}$$"
   ]
  },
  {
   "cell_type": "code",
   "execution_count": null,
   "metadata": {},
   "outputs": [],
   "source": [
    "cat omp_examples/01-demo.cpp"
   ]
  },
  {
   "cell_type": "code",
   "execution_count": null,
   "metadata": {},
   "outputs": [],
   "source": [
    "g++ omp_examples/01-demo.cpp -o serial && ./serial"
   ]
  },
  {
   "cell_type": "markdown",
   "metadata": {},
   "source": [
    "Seems good enough.\n",
    "\n",
    "\n",
    "Now if we have 12 workers available, what is the easiest way to parallelize this?\n"
   ]
  },
  {
   "cell_type": "code",
   "execution_count": null,
   "metadata": {},
   "outputs": [],
   "source": [
    "cat omp_examples/01-demoparallel.cpp"
   ]
  },
  {
   "cell_type": "markdown",
   "metadata": {},
   "source": [
    "Compilation of an OpenMP program requires linking to the corresponding library"
   ]
  },
  {
   "cell_type": "code",
   "execution_count": null,
   "metadata": {},
   "outputs": [],
   "source": [
    "g++ -fopenmp omp_examples/01-demoparallel.cpp -o parallel"
   ]
  },
  {
   "cell_type": "code",
   "execution_count": null,
   "metadata": {},
   "outputs": [],
   "source": [
    "OMP_NUM_THREADS=12 ./parallel"
   ]
  },
  {
   "cell_type": "markdown",
   "metadata": {},
   "source": [
    "Check the performance impact of the one line of pragma changes"
   ]
  },
  {
   "cell_type": "code",
   "execution_count": null,
   "metadata": {},
   "outputs": [],
   "source": [
    "time for i in {1..10}; do ./serial; done\n",
    "time for i in {1..10}; do OMP_NUM_THREADS=12 ./parallel; done"
   ]
  },
  {
   "cell_type": "markdown",
   "metadata": {},
   "source": [
    "and a bit of cleanup"
   ]
  },
  {
   "cell_type": "code",
   "execution_count": 32,
   "metadata": {},
   "outputs": [],
   "source": [
    "rm serial parallel"
   ]
  },
  {
   "cell_type": "markdown",
   "metadata": {},
   "source": [
    "# Amdahl's law\n",
    "\n",
    "We look at the performance of the simple code above (slightly changed for better output readability"
   ]
  },
  {
   "cell_type": "code",
   "execution_count": null,
   "metadata": {},
   "outputs": [],
   "source": [
    "cat omp_examples/02-timing.cpp"
   ]
  },
  {
   "cell_type": "code",
   "execution_count": null,
   "metadata": {},
   "outputs": [],
   "source": [
    "g++ -fopenmp omp_examples/02-timing.cpp -o timing"
   ]
  },
  {
   "cell_type": "code",
   "execution_count": null,
   "metadata": {},
   "outputs": [],
   "source": [
    "./timing 1 > out.txt\n",
    "./timing 2 >> out.txt\n",
    "./timing 3 >> out.txt\n",
    "./timing 4 >> out.txt\n",
    "./timing 5 >> out.txt\n",
    "./timing 6 >> out.txt\n",
    "./timing 7 >> out.txt\n",
    "./timing 8 >> out.txt\n",
    "./timing 9 >> out.txt\n",
    "./timing 10 >> out.txt\n",
    "./timing 11 >> out.txt\n",
    "./timing 12 >> out.txt"
   ]
  },
  {
   "cell_type": "code",
   "execution_count": null,
   "metadata": {},
   "outputs": [],
   "source": [
    "gnuplot -e 'set terminal png; set style fill solid; set yrange[0:0.1]; plot \"out.txt\" using 2: xtic(1) with histogram' > graph.png"
   ]
  },
  {
   "cell_type": "markdown",
   "metadata": {},
   "source": [
    "![generated](./graph.png)"
   ]
  },
  {
   "cell_type": "code",
   "execution_count": null,
   "metadata": {},
   "outputs": [],
   "source": [
    "gnuplot -e 'set terminal png; set style fill solid; set yrange[0:0.1]; plot \"out.txt\" using 2: xtic(1) with histogram' > graph.png"
   ]
  },
  {
   "cell_type": "markdown",
   "metadata": {},
   "source": [
    "![generated](./graph.png)"
   ]
  },
  {
   "cell_type": "code",
   "execution_count": 31,
   "metadata": {},
   "outputs": [],
   "source": [
    "rm graph.png out.txt timing"
   ]
  },
  {
   "cell_type": "markdown",
   "metadata": {},
   "source": [
    "# Race conditions"
   ]
  },
  {
   "cell_type": "markdown",
   "metadata": {},
   "source": [
    "Since these processes can all interfere with each other we need to be careful"
   ]
  },
  {
   "cell_type": "code",
   "execution_count": 33,
   "metadata": {},
   "outputs": [
    {
     "name": "stdout",
     "output_type": "stream",
     "text": [
      "#include <iostream>\n",
      "#include <omp.h>\n",
      "\n",
      "int main(int argc, char const* argv[]) {\n",
      "  int solution = -1;\n",
      "#pragma omp parallel\n",
      "  { solution = omp_get_thread_num(); }\n",
      "  std::cout << solution << std::endl;\n",
      "  return 0;\n",
      "}\n",
      "\n"
     ]
    }
   ],
   "source": [
    "cat omp_examples/03-race.cpp"
   ]
  },
  {
   "cell_type": "markdown",
   "metadata": {},
   "source": [
    "What happens if we write to the same memory location with more than one thread?"
   ]
  },
  {
   "cell_type": "code",
   "execution_count": 38,
   "metadata": {},
   "outputs": [],
   "source": [
    "g++ -fopenmp omp_examples/03-race.cpp -o test"
   ]
  },
  {
   "cell_type": "code",
   "execution_count": 39,
   "metadata": {},
   "outputs": [
    {
     "name": "stdout",
     "output_type": "stream",
     "text": [
      "9\n"
     ]
    }
   ],
   "source": [
    "OMP_NUM_THREADS=10 ./test"
   ]
  },
  {
   "cell_type": "markdown",
   "metadata": {},
   "source": [
    "This does not only affect variables defined outside. This can have a lot of implications:"
   ]
  },
  {
   "cell_type": "code",
   "execution_count": 43,
   "metadata": {},
   "outputs": [
    {
     "name": "stdout",
     "output_type": "stream",
     "text": [
      "#include <iostream>\n",
      "#include <omp.h>\n",
      "\n",
      "int main() {\n",
      "\n",
      "#pragma omp parallel num_threads(10)\n",
      "  {\n",
      "    std::cout << \"I am processor \" << omp_get_thread_num() << std::endl;\n",
      "  }\n",
      "  return 0;\n",
      "}\n"
     ]
    }
   ],
   "source": [
    "cat omp_examples/03-race2.cpp"
   ]
  },
  {
   "cell_type": "code",
   "execution_count": 41,
   "metadata": {},
   "outputs": [],
   "source": [
    "g++ -fopenmp omp_examples/03-race2.cpp -o output"
   ]
  },
  {
   "cell_type": "code",
   "execution_count": 44,
   "metadata": {},
   "outputs": [
    {
     "name": "stdout",
     "output_type": "stream",
     "text": [
      "I am processor I am processor I am processor I am processor I am processor I am processor I am processor I am processor I am processor I am processor 0894251\n",
      "\n",
      "\n",
      "6\n",
      "\n",
      "\n",
      "\n",
      "7\n",
      "3\n",
      "\n"
     ]
    }
   ],
   "source": [
    "./output"
   ]
  },
  {
   "cell_type": "markdown",
   "metadata": {},
   "source": [
    "and a bit of cleanup"
   ]
  },
  {
   "cell_type": "code",
   "execution_count": 40,
   "metadata": {},
   "outputs": [],
   "source": [
    "rm test"
   ]
  },
  {
   "cell_type": "markdown",
   "metadata": {},
   "source": [
    "# Synchronization\n",
    "Options to prevent race conditions are:\n",
    "- ensure only one thread is in the critical region at once\n",
    "- Make writes atomic\n",
    "## Ensure only one processor is present"
   ]
  },
  {
   "cell_type": "code",
   "execution_count": 85,
   "metadata": {},
   "outputs": [
    {
     "name": "stdout",
     "output_type": "stream",
     "text": [
      "#include <iostream>\n",
      "#include <omp.h>\n",
      "\n",
      "int main() {\n",
      "\n",
      "#pragma omp parallel num_threads(10)\n",
      "  {\n",
      "#pragma omp critical(output)\n",
      "    std::cout << \"I am processor \" << omp_get_thread_num() << std::endl;\n",
      "  }\n",
      "  return 0;\n",
      "}\n"
     ]
    }
   ],
   "source": [
    "cat omp_examples/04-critical.cpp"
   ]
  },
  {
   "cell_type": "code",
   "execution_count": null,
   "metadata": {},
   "outputs": [],
   "source": [
    "g++ -fopenmp omp_examples/04-critical.cpp -o test && ./test"
   ]
  },
  {
   "cell_type": "code",
   "execution_count": 87,
   "metadata": {},
   "outputs": [
    {
     "name": "stdout",
     "output_type": "stream",
     "text": [
      "#include <iostream>\n",
      "#include <omp.h>\n",
      "\n",
      "int main() {\n",
      "#pragma omp parallel for ordered \n",
      "  for (int i = 0; i < 10; ++i){\n",
      "    int j = (100+i)*10 / 7.1;\n",
      "#pragma omp ordered\n",
      "    std::cout << \"This is iteration \" << i << std::endl;\n",
      "  }\n",
      "  return 0;\n",
      "}\n"
     ]
    }
   ],
   "source": [
    "cat omp_examples/04-ordered.cpp"
   ]
  },
  {
   "cell_type": "code",
   "execution_count": null,
   "metadata": {},
   "outputs": [],
   "source": [
    "g++ -fopenmp omp_examples/04-ordered.cpp -o test && ./test"
   ]
  },
  {
   "cell_type": "code",
   "execution_count": 88,
   "metadata": {},
   "outputs": [
    {
     "name": "stdout",
     "output_type": "stream",
     "text": [
      "#include <iostream>\n",
      "#include <omp.h>\n",
      "\n",
      "int main() {\n",
      "  int data = 0.;\n",
      "  int flag = 0;\n",
      "#pragma omp parallel num_threads(10)\n",
      "  {\n",
      "    if(flag == 0) {\n",
      "      data += omp_get_thread_num() + 100;\n",
      "      flag =  omp_get_thread_num() + 100;;\n",
      "#pragma omp flush(data, flag)\n",
      "    }\n",
      "  }\n",
      "  std::cout << data << std::endl;\n",
      "  std::cout << flag << std::endl;\n",
      "  return 0;\n",
      "}"
     ]
    }
   ],
   "source": [
    "cat omp_examples/04-flush.cpp"
   ]
  },
  {
   "cell_type": "code",
   "execution_count": null,
   "metadata": {},
   "outputs": [],
   "source": [
    "g++ -fopenmp omp_examples/03-flush.cpp -o test && ./test"
   ]
  },
  {
   "cell_type": "code",
   "execution_count": null,
   "metadata": {},
   "outputs": [],
   "source": [
    "rm -rf test"
   ]
  },
  {
   "cell_type": "markdown",
   "metadata": {},
   "source": [
    "## Caching\n",
    "Here we see the implication of caching in a multithreaded environment"
   ]
  },
  {
   "cell_type": "code",
   "execution_count": 74,
   "metadata": {},
   "outputs": [
    {
     "name": "stdout",
     "output_type": "stream",
     "text": [
      "#include <iostream>\n",
      "#include <omp.h>\n",
      "#include <vector>\n",
      "\n",
      "int main(int argc, char const* argv[]) {\n",
      "    std::vector<double> input(10000000,1);\n",
      "    std::vector<double> output(10000000,0);\n",
      "    \n",
      "    omp_set_num_threads(atoi(argv[1]));\n",
      "    double tick = omp_get_wtime();\n",
      "    \n",
      "#pragma omp parallel for schedule(static, 1)\n",
      "  for (int i = 0; i < input.size(); ++i){\n",
      "    output[i] = 2*input[i]; \n",
      "    input[i] = 0;\n",
      "  }\n",
      "    \n",
      "    double tock = omp_get_wtime();\n",
      "#pragma omp parallel\n",
      "  {\n",
      "    if(omp_get_thread_num() == 0)\n",
      "      std::cout << omp_get_num_threads() << \"\\t\" << tock - tick << std::endl;\n",
      "  }\n",
      "  return 0;\n",
      "}\n"
     ]
    }
   ],
   "source": [
    "cat omp_examples/05-caching.cpp"
   ]
  },
  {
   "cell_type": "code",
   "execution_count": 65,
   "metadata": {},
   "outputs": [],
   "source": [
    "g++ -fopenmp omp_examples/05-caching.cpp -o timing"
   ]
  },
  {
   "cell_type": "code",
   "execution_count": 75,
   "metadata": {},
   "outputs": [],
   "source": [
    "./timing 1 > caching.txt\n",
    "./timing 2 >> caching.txt\n",
    "./timing 4 >> caching.txt\n",
    "./timing 8 >> caching.txt\n",
    "./timing 12 >> caching.txt\n",
    "./timing 13 >> caching.txt\n",
    "./timing 20 >> caching.txt\n",
    "./timing 24 >> caching.txt"
   ]
  },
  {
   "cell_type": "code",
   "execution_count": 78,
   "metadata": {},
   "outputs": [],
   "source": [
    "gnuplot -e 'set terminal png; set style fill solid; set yrange[0:0.1]; plot \"caching.txt\" using 2: xtic(1) with histogram' > caching.png"
   ]
  },
  {
   "cell_type": "markdown",
   "metadata": {},
   "source": [
    "![generated](./caching.png)"
   ]
  },
  {
   "cell_type": "code",
   "execution_count": 82,
   "metadata": {},
   "outputs": [],
   "source": [
    "rm timing caching.png caching.txt -rf"
   ]
  }
 ],
 "metadata": {
  "kernelspec": {
   "display_name": "Bash",
   "language": "bash",
   "name": "bash"
  },
  "language_info": {
   "codemirror_mode": "shell",
   "file_extension": ".sh",
   "mimetype": "text/x-sh",
   "name": "bash"
  }
 },
 "nbformat": 4,
 "nbformat_minor": 4
}
