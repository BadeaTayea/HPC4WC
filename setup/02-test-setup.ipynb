{
 "cells": [
  {
   "cell_type": "markdown",
   "metadata": {},
   "source": [
    "## <span style=\"color:#FF0000\">H</span><span style=\"color:#FF8000\">e</span><span style=\"color:#FFF000\">y</span><span style=\"color:#FFD700\"> </span><span style=\"color:#32CD32\">t</span><span style=\"color:#008000\">h</span><span style=\"color:#0000FF\">e</span><span style=\"color:#4B0082\">r</span><span style=\"color:#8A2BE2\">e</span><span style=\"color:#FF00FF\">!</span>\n",
    "\n",
    "*This Notebook tests if the setup worked as intended. Everything should run without errors. If you get any errors, something is wrong with your setup. Please reach out for help in this case!*"
   ]
  },
  {
   "cell_type": "markdown",
   "metadata": {
    "editable": true,
    "slideshow": {
     "slide_type": ""
    },
    "tags": []
   },
   "source": [
    "## Test numpy & matplotlib"
   ]
  },
  {
   "cell_type": "code",
   "execution_count": 2,
   "metadata": {},
   "outputs": [],
   "source": [
    "import numpy as np\n",
    "import matplotlib.pyplot as plt"
   ]
  },
  {
   "cell_type": "code",
   "execution_count": 3,
   "metadata": {},
   "outputs": [
    {
     "data": {
      "image/png": "[encoded data removed]",
      "text/plain": [
       "<Figure size 640x480 with 1 Axes>"
      ]
     },
     "metadata": {},
     "output_type": "display_data"
    }
   ],
   "source": [
    "plt.imshow( np.random.rand( 32, 32 ), origin='lower', cmap=plt.get_cmap('magma') );"
   ]
  },
  {
   "cell_type": "markdown",
   "metadata": {},
   "source": [
    "## Test MPI"
   ]
  },
  {
   "cell_type": "code",
   "execution_count": 4,
   "metadata": {},
   "outputs": [],
   "source": [
    "import numpy as np\n",
    "import ipcmagic\n",
    "import ipyparallel as ipp"
   ]
  },
  {
   "cell_type": "code",
   "execution_count": 5,
   "metadata": {},
   "outputs": [
    {
     "data": {
      "application/vnd.jupyter.widget-view+json": {
       "model_id": "6dc8c97c18b3429fbcdae088784c5794",
       "version_major": 2,
       "version_minor": 0
      },
      "text/plain": [
       "  0%|          | 0/4 [00:00<?, ?engine/s]"
      ]
     },
     "metadata": {},
     "output_type": "display_data"
    }
   ],
   "source": [
    "%ipcluster start -n 4"
   ]
  },
  {
   "cell_type": "code",
   "execution_count": 6,
   "metadata": {},
   "outputs": [],
   "source": [
    "c = ipp.Client()"
   ]
  },
  {
   "cell_type": "code",
   "execution_count": 7,
   "metadata": {},
   "outputs": [
    {
     "data": {
      "text/plain": [
       "[0, 1, 2, 3]"
      ]
     },
     "execution_count": 7,
     "metadata": {},
     "output_type": "execute_result"
    }
   ],
   "source": [
    "c.ids"
   ]
  },
  {
   "cell_type": "code",
   "execution_count": 8,
   "metadata": {},
   "outputs": [],
   "source": [
    "%%px\n",
    "import socket\n",
    "from mpi4py import MPI"
   ]
  },
  {
   "cell_type": "code",
   "execution_count": 9,
   "metadata": {},
   "outputs": [
    {
     "data": {
      "text/plain": [
       "[stdout:0] Hello World from rank 2 of 4 on nid nid005098\n"
      ]
     },
     "metadata": {},
     "output_type": "display_data"
    },
    {
     "data": {
      "text/plain": [
       "[stdout:1] Hello World from rank 1 of 4 on nid nid005098\n"
      ]
     },
     "metadata": {},
     "output_type": "display_data"
    },
    {
     "data": {
      "text/plain": [
       "[stdout:3] Hello World from rank 0 of 4 on nid nid005098\n"
      ]
     },
     "metadata": {},
     "output_type": "display_data"
    },
    {
     "data": {
      "text/plain": [
       "[stdout:2] Hello World from rank 3 of 4 on nid nid005098\n"
      ]
     },
     "metadata": {},
     "output_type": "display_data"
    }
   ],
   "source": [
    "%%px\n",
    "print(\"Hello World from rank %s of %s on nid %s\" % (MPI.COMM_WORLD.rank,\n",
    "                                                    MPI.COMM_WORLD.size,\n",
    "                                                    socket.gethostname()))"
   ]
  },
  {
   "cell_type": "code",
   "execution_count": 10,
   "metadata": {},
   "outputs": [
    {
     "name": "stdout",
     "output_type": "stream",
     "text": [
      "IPCluster stopped.\n"
     ]
    }
   ],
   "source": [
    "c.close()\n",
    "%ipcluster stop"
   ]
  },
  {
   "cell_type": "markdown",
   "metadata": {},
   "source": [
    "## Test Cupy"
   ]
  },
  {
   "cell_type": "code",
   "execution_count": 11,
   "metadata": {},
   "outputs": [],
   "source": [
    "import numpy as np\n",
    "import cupy as cp\n",
    "import time"
   ]
  },
  {
   "cell_type": "code",
   "execution_count": 12,
   "metadata": {},
   "outputs": [
    {
     "name": "stdout",
     "output_type": "stream",
     "text": [
      "0.3296201229095459\n",
      "3.2550647258758545\n"
     ]
    }
   ],
   "source": [
    "### Numpy and CPU\n",
    "s = time.time()\n",
    "x_cpu = np.ones((1000,1000,1000))\n",
    "e = time.time()\n",
    "print(e - s)\n",
    "\n",
    "### CuPy and GPU\n",
    "s = time.time()\n",
    "x_gpu = cp.ones((1000,1000,1000))\n",
    "cp.cuda.Stream.null.synchronize()\n",
    "e = time.time()\n",
    "print(e - s)"
   ]
  },
  {
   "cell_type": "markdown",
   "metadata": {},
   "source": [
    "## Test GT4Py"
   ]
  },
  {
   "cell_type": "code",
   "execution_count": 13,
   "metadata": {},
   "outputs": [],
   "source": [
    "import os\n",
    "import warnings\n",
    "import gt4py.next as gtx\n",
    "from gt4py.next import Field\n",
    "\n",
    "nx = 4\n",
    "ny = 4\n",
    "nz = 4\n",
    "dtype = np.float64\n",
    "\n",
    "backend = gtx.itir_python\n",
    "# backend = gtx.gtfn_cpu\n",
    "# backend = gtx.gtfn_gpu\n",
    "\n",
    "I = gtx.Dimension(\"I\")\n",
    "J = gtx.Dimension(\"J\")\n",
    "K = gtx.Dimension(\"K\", kind=gtx.DimensionKind.VERTICAL)\n",
    "\n",
    "domain = gtx.domain({I: nx, J: ny, K: nz})\n",
    "\n",
    "in_field = gtx.as_field(\n",
    "    domain,\n",
    "    np.fromfunction(lambda x, y, z: x**2 + y**2, shape=(nx, ny, nz)),\n",
    "    dtype,\n",
    "    allocator=backend,\n",
    ")\n",
    "out_field = gtx.zeros(domain, dtype, allocator=backend)"
   ]
  },
  {
   "cell_type": "code",
   "execution_count": 14,
   "metadata": {},
   "outputs": [
    {
     "name": "stdout",
     "output_type": "stream",
     "text": [
      "<bound method NdArrayField.asnumpy of NumPyArrayField(_domain=Domain(dims=(Dimension(value='I', kind=<DimensionKind.HORIZONTAL: 'horizontal'>), Dimension(value='J', kind=<DimensionKind.HORIZONTAL: 'horizontal'>), Dimension(value='K', kind=<DimensionKind.VERTICAL: 'vertical'>)), ranges=(UnitRange(0, 4), UnitRange(0, 4), UnitRange(0, 4))), _ndarray=array([[[ 0.,  0.,  0.,  0.],\n",
      "        [ 1.,  1.,  1.,  1.],\n",
      "        [ 4.,  4.,  4.,  4.],\n",
      "        [ 9.,  9.,  9.,  9.]],\n",
      "\n",
      "       [[ 1.,  1.,  1.,  1.],\n",
      "        [ 2.,  2.,  2.,  2.],\n",
      "        [ 5.,  5.,  5.,  5.],\n",
      "        [10., 10., 10., 10.]],\n",
      "\n",
      "       [[ 4.,  4.,  4.,  4.],\n",
      "        [ 5.,  5.,  5.,  5.],\n",
      "        [ 8.,  8.,  8.,  8.],\n",
      "        [13., 13., 13., 13.]],\n",
      "\n",
      "       [[ 9.,  9.,  9.,  9.],\n",
      "        [10., 10., 10., 10.],\n",
      "        [13., 13., 13., 13.],\n",
      "        [18., 18., 18., 18.]]]))>\n"
     ]
    }
   ],
   "source": [
    "Ioff = gtx.FieldOffset(\"I\", source=I, target=(I,))\n",
    "Joff = gtx.FieldOffset(\"J\", source=J, target=(J,))\n",
    "\n",
    "@gtx.field_operator\n",
    "def copy_operator(inp: Field[[I, J, K], dtype]) -> Field[[I, J, K], dtype]:\n",
    "    return inp\n",
    "\n",
    "@gtx.program(backend=backend)\n",
    "def copy_program(inp: Field[[I, J, K], dtype], out: Field[[I, J, K], dtype]):\n",
    "    copy_operator(inp, out=out)\n",
    "\n",
    "copy_program(in_field, out_field, offset_provider={\"Ioff\": I, \"Joff\": J})\n",
    "\n",
    "print(out_field.asnumpy)"
   ]
  },
  {
   "cell_type": "markdown",
   "metadata": {},
   "source": [
    "## Check installed packages"
   ]
  },
  {
   "cell_type": "code",
   "execution_count": 17,
   "metadata": {
    "editable": true,
    "slideshow": {
     "slide_type": ""
    },
    "tags": []
   },
   "outputs": [
    {
     "name": "stdout",
     "output_type": "stream",
     "text": [
      "Package                   Version\n",
      "------------------------- --------------\n",
      "anyio                     4.9.0\n",
      "argon2-cffi               25.1.0\n",
      "argon2-cffi-bindings      21.2.0\n",
      "arrow                     1.3.0\n",
      "asttokens                 2.4.1\n",
      "async-lru                 2.0.5\n",
      "attrs                     25.3.0\n",
      "babel                     2.17.0\n",
      "bash_kernel               0.10.0\n",
      "beautifulsoup4            4.13.4\n",
      "black                     25.1.0\n",
      "bleach                    6.2.0\n",
      "boltons                   25.0.0\n",
      "cached-property           2.0.1\n",
      "certifi                   2025.6.15\n",
      "cffi                      1.17.1\n",
      "charset-normalizer        3.4.2\n",
      "click                     8.2.1\n",
      "cmake                     4.0.3\n",
      "comm                      0.2.2\n",
      "contourpy                 1.3.2\n",
      "cupy-cuda12x              13.4.1\n",
      "cycler                    0.12.1\n",
      "cytoolz                   1.0.1\n",
      "debugpy                   1.8.14\n",
      "decorator                 5.2.1\n",
      "deepdiff                  8.5.0\n",
      "defusedxml                0.7.1\n",
      "devtools                  0.12.2\n",
      "docopt                    0.6.2\n",
      "executing                 2.2.0\n",
      "factory_boy               3.3.3\n",
      "Faker                     37.4.0\n",
      "fastjsonschema            2.21.1\n",
      "fastrlock                 0.8.3\n",
      "filetype                  1.2.0\n",
      "fonttools                 4.58.4\n",
      "fqdn                      1.5.1\n",
      "frozendict                2.4.6\n",
      "gridtools-cpp             2.3.9\n",
      "gt4py                     1.0.4\n",
      "h11                       0.16.0\n",
      "httpcore                  1.0.9\n",
      "httpx                     0.28.1\n",
      "idna                      3.10\n",
      "ipcmagic-cscs             1.1.0\n",
      "ipykernel                 6.29.5\n",
      "ipyparallel               9.0.1\n",
      "ipython                   9.3.0\n",
      "ipython_pygments_lexers   1.1.1\n",
      "ipywidgets                8.1.7\n",
      "isoduration               20.11.0\n",
      "jedi                      0.19.2\n",
      "Jinja2                    3.1.6\n",
      "json5                     0.12.0\n",
      "jsonpointer               3.0.0\n",
      "jsonschema                4.24.0\n",
      "jsonschema-specifications 2025.4.1\n",
      "jupyter                   1.1.1\n",
      "jupyter_client            8.6.3\n",
      "jupyter-console           6.6.3\n",
      "jupyter_core              5.8.1\n",
      "jupyter-events            0.12.0\n",
      "jupyter-lsp               2.2.5\n",
      "jupyter_server            2.16.0\n",
      "jupyter_server_terminals  0.5.3\n",
      "jupyterlab                4.4.3\n",
      "jupyterlab_pygments       0.3.0\n",
      "jupyterlab_server         2.27.3\n",
      "jupyterlab_widgets        3.0.15\n",
      "kiwisolver                1.4.8\n",
      "lark                      1.2.2\n",
      "Mako                      1.3.10\n",
      "MarkupSafe                3.0.2\n",
      "matplotlib                3.10.3\n",
      "matplotlib-inline         0.1.7\n",
      "meson                     1.5.1\n",
      "mistune                   3.1.3\n",
      "mpi4py                    4.0.3\n",
      "mypy_extensions           1.1.0\n",
      "nanobind                  2.7.0\n",
      "nbclient                  0.10.2\n",
      "nbconvert                 7.16.6\n",
      "nbformat                  5.10.4\n",
      "nest-asyncio              1.6.0\n",
      "ninja                     1.11.1.4\n",
      "notebook                  7.4.3\n",
      "notebook_shim             0.2.4\n",
      "numpy                     2.2.6\n",
      "orderly-set               5.4.1\n",
      "overrides                 7.7.0\n",
      "packaging                 25.0\n",
      "pandocfilters             1.5.1\n",
      "parso                     0.8.4\n",
      "pathspec                  0.12.1\n",
      "pexpect                   4.9.0\n",
      "pillow                    11.2.1\n",
      "pip                       25.1.1\n",
      "platformdirs              4.3.8\n",
      "prometheus_client         0.22.1\n",
      "prompt_toolkit            3.0.51\n",
      "psutil                    7.0.0\n",
      "ptyprocess                0.7.0\n",
      "pure_eval                 0.2.3\n",
      "pybind11                  2.13.6\n",
      "pycparser                 2.22\n",
      "Pygments                  2.19.1\n",
      "pyparsing                 3.2.3\n",
      "python-dateutil           2.9.0.post0\n",
      "python-json-logger        3.3.0\n",
      "PyYAML                    6.0.2\n",
      "pyzmq                     27.0.0\n",
      "referencing               0.36.2\n",
      "requests                  2.32.4\n",
      "rfc3339-validator         0.1.4\n",
      "rfc3986-validator         0.1.1\n",
      "rpds-py                   0.25.1\n",
      "Send2Trash                1.8.3\n",
      "setuptools                80.9.0\n",
      "six                       1.17.0\n",
      "sniffio                   1.3.1\n",
      "soupsieve                 2.7\n",
      "stack-data                0.6.3\n",
      "tabulate                  0.9.0\n",
      "terminado                 0.18.1\n",
      "tinycss2                  1.4.0\n",
      "toolz                     1.0.0\n",
      "tornado                   6.5.1\n",
      "tqdm                      4.67.1\n",
      "traitlets                 5.14.3\n",
      "types-python-dateutil     2.9.0.20250516\n",
      "typing_extensions         4.14.0\n",
      "tzdata                    2025.2\n",
      "uri-template              1.3.0\n",
      "urllib3                   2.4.0\n",
      "wcwidth                   0.2.13\n",
      "webcolors                 24.11.1\n",
      "webencodings              0.5.1\n",
      "websocket-client          1.8.0\n",
      "wheel                     0.45.1\n",
      "widgetsnbextension        4.0.14\n",
      "xxhash                    3.0.0\n"
     ]
    }
   ],
   "source": [
    "%%bash\n",
    "pip list"
   ]
  }
 ],
 "metadata": {
  "kernelspec": {
   "display_name": "HPC4WC_kernel",
   "language": "python",
   "name": "hpc4wc_kernel"
  },
  "language_info": {
   "codemirror_mode": {
    "name": "ipython",
    "version": 3
   },
   "file_extension": ".py",
   "mimetype": "text/x-python",
   "name": "python",
   "nbconvert_exporter": "python",
   "pygments_lexer": "ipython3",
   "version": "3.12.5"
  }
 },
 "nbformat": 4,
 "nbformat_minor": 4
}
