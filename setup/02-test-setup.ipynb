{
 "cells": [
  {
   "cell_type": "markdown",
   "metadata": {},
   "source": [
    "## Check setup\n",
    "\n",
    "Let's check which python packages are installed in our virtual environment (this might take a while)."
   ]
  },
  {
   "cell_type": "code",
   "execution_count": 1,
   "metadata": {},
   "outputs": [
    {
     "name": "stderr",
     "output_type": "stream",
     "text": [
      "WARNING: pip is being invoked by an old script wrapper. This will fail in a future version of pip.\n",
      "Please see https://github.com/pypa/pip/issues/5599 for advice on fixing the underlying issue.\n",
      "To avoid this problem you can invoke Python with '-m pip' instead of running pip directly.\n"
     ]
    },
    {
     "name": "stdout",
     "output_type": "stream",
     "text": [
      "Package          Version\n",
      "---------------- -------\n",
      "backcall         0.1.0\n",
      "cycler           0.10.0\n",
      "decorator        4.4.2\n",
      "ipykernel        5.3.0\n",
      "ipyparallel      6.3.0\n",
      "ipython          7.15.0\n",
      "ipython-genutils 0.2.0\n",
      "jedi             0.17.0\n",
      "jupyter-client   6.1.3\n",
      "jupyter-core     4.6.3\n",
      "kiwisolver       1.2.0\n",
      "matplotlib       3.2.1\n",
      "mpi4py           3.0.3\n",
      "numpy            1.18.4\n",
      "parso            0.7.0\n",
      "pexpect          4.8.0\n",
      "pickleshare      0.7.5\n",
      "pip              20.1.1\n",
      "prompt-toolkit   3.0.5\n",
      "ptyprocess       0.6.0\n",
      "Pygments         2.6.1\n",
      "pyparsing        2.4.7\n",
      "python-dateutil  2.8.1\n",
      "pyzmq            19.0.1\n",
      "setuptools       39.0.1\n",
      "six              1.15.0\n",
      "tornado          6.0.4\n",
      "traitlets        4.3.3\n",
      "virtualenv-clone 0.5.4\n",
      "wcwidth          0.2.3\n",
      "wheel            0.34.2\n"
     ]
    },
    {
     "data": {
      "text/plain": [
       "0"
      ]
     },
     "execution_count": 1,
     "metadata": {},
     "output_type": "execute_result"
    }
   ],
   "source": [
    "import pip\n",
    "\n",
    "pip.main(['list'])"
   ]
  },
  {
   "cell_type": "markdown",
   "metadata": {},
   "source": [
    "Let's check if numpy and matplotlib are working."
   ]
  },
  {
   "cell_type": "code",
   "execution_count": 1,
   "metadata": {},
   "outputs": [],
   "source": [
    "import numpy as np\n",
    "import matplotlib.pyplot as plt"
   ]
  },
  {
   "cell_type": "code",
   "execution_count": 6,
   "metadata": {},
   "outputs": [
    {
     "data": {
      "image/png": "[encoded data removed]",
      "text/plain": [
       "<Figure size 432x288 with 1 Axes>"
      ]
     },
     "metadata": {
      "needs_background": "light"
     },
     "output_type": "display_data"
    }
   ],
   "source": [
    "plt.imshow( np.random.rand( 32, 32 ), origin='lower', cmap=plt.get_cmap('magma') );"
   ]
  },
  {
   "cell_type": "code",
   "execution_count": null,
   "metadata": {},
   "outputs": [],
   "source": []
  }
 ],
 "metadata": {
  "kernelspec": {
   "display_name": "HPC4WC_kernel",
   "language": "python",
   "name": "hpc4wc_kernel"
  },
  "language_info": {
   "codemirror_mode": {
    "name": "ipython",
    "version": 3
   },
   "file_extension": ".py",
   "mimetype": "text/x-python",
   "name": "python",
   "nbconvert_exporter": "python",
   "pygments_lexer": "ipython3",
   "version": "3.6.5"
  }
 },
 "nbformat": 4,
 "nbformat_minor": 4
}
