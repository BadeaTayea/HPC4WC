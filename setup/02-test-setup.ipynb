{
 "cells": [
  {
   "cell_type": "markdown",
   "metadata": {},
   "source": [
    "## Test numpy & matplotlib"
   ]
  },
  {
   "cell_type": "code",
   "execution_count": 1,
   "metadata": {},
   "outputs": [],
   "source": [
    "import numpy as np\n",
    "import matplotlib.pyplot as plt"
   ]
  },
  {
   "cell_type": "code",
   "execution_count": 2,
   "metadata": {},
   "outputs": [
    {
     "data": {
      "image/png": "[encoded data removed]",
      "text/plain": [
       "<Figure size 432x288 with 1 Axes>"
      ]
     },
     "metadata": {
      "needs_background": "light"
     },
     "output_type": "display_data"
    }
   ],
   "source": [
    "plt.imshow( np.random.rand( 32, 32 ), origin='lower', cmap=plt.get_cmap('magma') );"
   ]
  },
  {
   "cell_type": "markdown",
   "metadata": {},
   "source": [
    "## Test MPI"
   ]
  },
  {
   "cell_type": "code",
   "execution_count": 3,
   "metadata": {},
   "outputs": [],
   "source": [
    "import numpy as np\n",
    "import ipcmagic\n",
    "import ipyparallel as ipp"
   ]
  },
  {
   "cell_type": "code",
   "execution_count": 4,
   "metadata": {},
   "outputs": [
    {
     "name": "stdout",
     "output_type": "stream",
     "text": [
      "IPCluster is ready! (6 seconds)\n"
     ]
    }
   ],
   "source": [
    "%ipcluster start -n 4 --mpi"
   ]
  },
  {
   "cell_type": "code",
   "execution_count": 5,
   "metadata": {},
   "outputs": [],
   "source": [
    "c = ipp.Client()"
   ]
  },
  {
   "cell_type": "code",
   "execution_count": 6,
   "metadata": {},
   "outputs": [
    {
     "data": {
      "text/plain": [
       "[0, 1, 2, 3]"
      ]
     },
     "execution_count": 6,
     "metadata": {},
     "output_type": "execute_result"
    }
   ],
   "source": [
    "c.ids"
   ]
  },
  {
   "cell_type": "code",
   "execution_count": 7,
   "metadata": {},
   "outputs": [],
   "source": [
    "%%px\n",
    "import socket\n",
    "from mpi4py import MPI"
   ]
  },
  {
   "cell_type": "code",
   "execution_count": 8,
   "metadata": {},
   "outputs": [
    {
     "name": "stdout",
     "output_type": "stream",
     "text": [
      "[stdout:0] Hello World from rank 2 of 4 on nid nid06285\n",
      "[stdout:1] Hello World from rank 0 of 4 on nid nid06285\n",
      "[stdout:2] Hello World from rank 3 of 4 on nid nid06285\n",
      "[stdout:3] Hello World from rank 1 of 4 on nid nid06285\n"
     ]
    }
   ],
   "source": [
    "%%px\n",
    "print(\"Hello World from rank %s of %s on nid %s\" % (MPI.COMM_WORLD.rank,\n",
    "                                                    MPI.COMM_WORLD.size,\n",
    "                                                    socket.gethostname()))"
   ]
  },
  {
   "cell_type": "code",
   "execution_count": 9,
   "metadata": {},
   "outputs": [],
   "source": [
    "%ipcluster stop"
   ]
  },
  {
   "cell_type": "markdown",
   "metadata": {},
   "source": [
    "## Test Cupy"
   ]
  },
  {
   "cell_type": "code",
   "execution_count": 10,
   "metadata": {},
   "outputs": [],
   "source": [
    "import numpy as np\n",
    "import cupy as cp\n",
    "import time"
   ]
  },
  {
   "cell_type": "code",
   "execution_count": 11,
   "metadata": {},
   "outputs": [
    {
     "name": "stdout",
     "output_type": "stream",
     "text": [
      "2.771012306213379\n",
      "0.43631553649902344\n"
     ]
    }
   ],
   "source": [
    "### Numpy and CPU\n",
    "s = time.time()\n",
    "x_cpu = np.ones((1000,1000,1000))\n",
    "e = time.time()\n",
    "print(e - s)\n",
    "\n",
    "### CuPy and GPU\n",
    "s = time.time()\n",
    "x_gpu = cp.ones((1000,1000,1000))\n",
    "cp.cuda.Stream.null.synchronize()\n",
    "e = time.time()\n",
    "print(e - s)"
   ]
  },
  {
   "cell_type": "markdown",
   "metadata": {},
   "source": [
    "## Test GT4Py"
   ]
  },
  {
   "cell_type": "code",
   "execution_count": 12,
   "metadata": {},
   "outputs": [
    {
     "data": {
      "text/html": [
       "<link href=\"https://fonts.googleapis.com/icon?family=Material+Icons\" rel=\"stylesheet\">\n",
       "        <script>\n",
       "        require.config({\n",
       "            paths: {\n",
       "                \"math\": \"https://spcl.github.io/dace/webclient/external_lib/math.min\"\n",
       "            },\n",
       "            waitSeconds: 40\n",
       "          });\n",
       "        require( [\"math\"], x => window.math = x);\n",
       "        </script><script src=\"https://spcl.github.io/dace/webclient/renderer_dir/dagre.js\"></script>\n",
       "<script src=\"https://spcl.github.io/dace/webclient/renderer_dir/global_vars.js\"></script>\n",
       "<script src=\"https://spcl.github.io/dace/webclient/context_menu.js\"></script>\n",
       "<script src=\"https://spcl.github.io/dace/webclient/renderer_elements.js\"></script>\n",
       "<script src=\"https://spcl.github.io/dace/webclient/sdfg_utils.js\"></script>\n",
       "<script src=\"https://spcl.github.io/dace/webclient/overlay_manager.js\"></script>\n",
       "<script src=\"https://spcl.github.io/dace/webclient/renderer.js\"></script>\n",
       "<link href=\"https://spcl.github.io/dace/webclient/sdfv.css\" rel=\"stylesheet\">\n"
      ],
      "text/plain": [
       "<IPython.core.display.HTML object>"
      ]
     },
     "metadata": {},
     "output_type": "display_data"
    }
   ],
   "source": [
    "import gt4py\n",
    "from gt4py import gtscript"
   ]
  },
  {
   "cell_type": "code",
   "execution_count": 13,
   "metadata": {},
   "outputs": [],
   "source": [
    "@gtscript.stencil(backend=\"numpy\")\n",
    "def copy_stencil(in_field: gtscript.Field[float], out_field: gtscript.Field[float]):\n",
    "    from __gtscript__ import computation, interval, PARALLEL\n",
    "\n",
    "    with computation(PARALLEL), interval(...):\n",
    "        out_field = in_field"
   ]
  },
  {
   "cell_type": "code",
   "execution_count": 14,
   "metadata": {},
   "outputs": [
    {
     "name": "stdout",
     "output_type": "stream",
     "text": [
      "[[[1. 1. 1. 1.]\n",
      "  [1. 1. 1. 1.]\n",
      "  [1. 1. 1. 1.]\n",
      "  [1. 1. 1. 1.]]\n",
      "\n",
      " [[1. 1. 1. 1.]\n",
      "  [1. 1. 1. 1.]\n",
      "  [1. 1. 1. 1.]\n",
      "  [1. 1. 1. 1.]]]\n"
     ]
    }
   ],
   "source": [
    "shape = (2,4,4)\n",
    "in_storage = gt4py.storage.ones(shape=shape, default_origin=(0,0,0), dtype=float, backend=\"numpy\")\n",
    "out_storage = gt4py.storage.zeros(shape=shape, default_origin=(0,0,0), dtype=float, backend=\"numpy\")\n",
    "copy_stencil(in_storage, out_storage)\n",
    "print(out_storage)"
   ]
  },
  {
   "cell_type": "markdown",
   "metadata": {},
   "source": [
    "## Check installed packages"
   ]
  },
  {
   "cell_type": "code",
   "execution_count": 15,
   "metadata": {},
   "outputs": [
    {
     "name": "stderr",
     "output_type": "stream",
     "text": [
      "WARNING: pip is being invoked by an old script wrapper. This will fail in a future version of pip.\n",
      "Please see https://github.com/pypa/pip/issues/5599 for advice on fixing the underlying issue.\n",
      "To avoid this problem you can invoke Python with '-m pip' instead of running pip directly.\n"
     ]
    },
    {
     "name": "stdout",
     "output_type": "stream",
     "text": [
      "Package                   Version\n",
      "------------------------- ----------\n",
      "aenum                     3.1.0\n",
      "aiohttp                   3.5.4\n",
      "alembic                   1.0.11\n",
      "appdirs                   1.4.4\n",
      "asn1crypto                0.24.0\n",
      "astunparse                1.6.3\n",
      "async-generator           1.10\n",
      "async-timeout             3.0.1\n",
      "attrs                     20.3.0\n",
      "backcall                  0.2.0\n",
      "bash-kernel               0.7.2\n",
      "batchspawner              0.9.0.dev0\n",
      "black                     21.5b2\n",
      "bleach                    3.1.0\n",
      "bokeh                     1.3.4\n",
      "boltons                   21.0.0\n",
      "bqplot                    0.11.6\n",
      "cached-property           1.5.2\n",
      "certifi                   2021.5.30\n",
      "certipy                   0.1.3\n",
      "cffi                      1.12.3\n",
      "chardet                   4.0.0\n",
      "click                     7.1.2\n",
      "cloudpickle               1.2.1\n",
      "cmake                     3.20.2\n",
      "colorcet                  2.0.2\n",
      "cryptography              2.7\n",
      "cupy-cuda102              9.1.0\n",
      "cycler                    0.10.0\n",
      "Cython                    0.29.21\n",
      "cytoolz                   0.11.0\n",
      "dace                      0.10.8\n",
      "dask                      2.2.0\n",
      "dask-jobqueue             0.6.2\n",
      "dask-labextension         1.0.3\n",
      "decorator                 4.4.2\n",
      "defusedxml                0.6.0\n",
      "devtools                  0.6.1\n",
      "dill                      0.3.3\n",
      "distributed               2.2.0\n",
      "distro                    1.5.0\n",
      "docopt                    0.6.2\n",
      "docrep                    0.2.7\n",
      "entrypoints               0.3\n",
      "fastrlock                 0.6\n",
      "Flask                     1.1.4\n",
      "fsspec                    0.4.1\n",
      "graphviz                  0.12\n",
      "gt4py                     0.0.0\n",
      "HeapDict                  1.0.0\n",
      "idna                      2.10\n",
      "idna-ssl                  1.1.0\n",
      "ipcluster-magics          0.1\n",
      "ipydatawidgets            4.0.1\n",
      "ipykernel                 5.5.5\n",
      "ipympl                    0.3.3\n",
      "ipyparallel               6.3.0\n",
      "ipyparaview               0.1.0a0\n",
      "ipython                   7.24.0\n",
      "ipython-genutils          0.2.0\n",
      "ipywidgets                7.5.1\n",
      "itk-core                  5.0.1\n",
      "itk-filtering             5.0.1\n",
      "itk-meshtopolydata        0.6.0\n",
      "itk-numerics              5.0.1\n",
      "itkwidgets                0.25.0\n",
      "itsdangerous              1.1.0\n",
      "jedi                      0.18.0\n",
      "Jinja2                    2.11.3\n",
      "json5                     0.8.5\n",
      "jsonschema                3.0.1\n",
      "jupyter-client            6.1.12\n",
      "jupyter-core              4.7.1\n",
      "jupyter-server-proxy      1.1.0\n",
      "jupyter-telemetry         0.1.0\n",
      "jupyterhub                1.3.0\n",
      "jupyterlab                1.2.16\n",
      "jupyterlab-code-formatter 1.1.0\n",
      "jupyterlab-nvdashboard    0.2.1\n",
      "jupyterlab-server         1.0.0\n",
      "kiwisolver                1.3.1\n",
      "locket                    0.2.0\n",
      "Mako                      1.1.4\n",
      "MarkupSafe                2.0.1\n",
      "matplotlib                3.4.2\n",
      "matplotlib-inline         0.1.2\n",
      "mistune                   0.8.4\n",
      "mpi4py                    3.1.0a0\n",
      "mpmath                    1.2.1\n",
      "msgpack                   0.6.1\n",
      "multidict                 4.5.2\n",
      "mypy-extensions           0.4.3\n",
      "nbconvert                 5.5.0\n",
      "nbformat                  4.4.0\n",
      "nbresuse                  0.3.2\n",
      "networkx                  2.5.1\n",
      "notebook                  6.0.0\n",
      "numpy                     1.20.3\n",
      "oauthlib                  3.0.2\n",
      "packaging                 20.9\n",
      "pamela                    1.0.0\n",
      "pandas                    1.1.0\n",
      "pandocfilters             1.4.2\n",
      "param                     1.9.2\n",
      "parso                     0.8.2\n",
      "partd                     1.0.0\n",
      "pathspec                  0.8.1\n",
      "pexpect                   4.8.0\n",
      "pickleshare               0.7.5\n",
      "Pillow                    8.2.0\n",
      "pip                       20.1.1\n",
      "plotly                    4.0.0\n",
      "ply                       3.11\n",
      "prometheus-client         0.7.1\n",
      "prompt-toolkit            3.0.18\n",
      "psutil                    5.6.3\n",
      "ptyprocess                0.7.0\n",
      "pybind11                  2.6.2\n",
      "pycparser                 2.19\n",
      "pyct                      0.4.6\n",
      "pydantic                  1.7.4\n",
      "Pygments                  2.9.0\n",
      "pynvml                    8.0.4\n",
      "pyOpenSSL                 19.0.0\n",
      "pyparsing                 2.4.7\n",
      "pyrsistent                0.15.4\n",
      "python-dateutil           2.8.1\n",
      "python-editor             1.0.4\n",
      "python-json-logger        2.0.1\n",
      "pytz                      2020.1\n",
      "PyYAML                    5.4.1\n",
      "pyzmq                     22.1.0\n",
      "regex                     2021.4.4\n",
      "requests                  2.25.1\n",
      "retrying                  1.3.3\n",
      "ruamel.yaml               0.16.12\n",
      "ruamel.yaml.clib          0.2.2\n",
      "scikit-build              0.11.1\n",
      "Send2Trash                1.5.0\n",
      "setuptools                47.1.0\n",
      "simpervisor               0.3\n",
      "six                       1.16.0\n",
      "sortedcontainers          2.1.0\n",
      "SQLAlchemy                1.3.6\n",
      "sympy                     1.8\n",
      "tabulate                  0.8.9\n",
      "tblib                     1.4.0\n",
      "terminado                 0.8.2\n",
      "testpath                  0.4.2\n",
      "toml                      0.10.2\n",
      "toolz                     0.11.1\n",
      "tornado                   6.1\n",
      "traitlets                 5.0.5\n",
      "traittypes                0.2.1\n",
      "typed-ast                 1.4.1\n",
      "typing-extensions         3.10.0.0\n",
      "typing-inspect            0.6.0\n",
      "urllib3                   1.26.5\n",
      "virtualenv-clone          0.5.4\n",
      "wcwidth                   0.2.5\n",
      "webencodings              0.5.1\n",
      "websockets                9.1\n",
      "Werkzeug                  1.0.1\n",
      "wheel                     0.34.2\n",
      "widgetsnbextension        3.5.1\n",
      "xxhash                    2.0.2\n",
      "yarl                      1.3.0\n",
      "zict                      1.0.0\n",
      "zipp                      3.1.0\n",
      "zstandard                 0.13.0\n"
     ]
    },
    {
     "name": "stderr",
     "output_type": "stream",
     "text": [
      "WARNING: You are using pip version 20.1.1; however, version 21.1.2 is available.\n",
      "You should consider upgrading via the '/users/class200/HPC4WC_venv/bin/python -m pip install --upgrade pip' command.\n"
     ]
    },
    {
     "data": {
      "text/plain": [
       "0"
      ]
     },
     "execution_count": 15,
     "metadata": {},
     "output_type": "execute_result"
    }
   ],
   "source": [
    "import pip\n",
    "\n",
    "pip.main(['list'])"
   ]
  },
  {
   "cell_type": "code",
   "execution_count": null,
   "metadata": {},
   "outputs": [],
   "source": []
  }
 ],
 "metadata": {
  "kernelspec": {
   "display_name": "HPC4WC_kernel",
   "language": "python",
   "name": "hpc4wc_kernel"
  },
  "language_info": {
   "codemirror_mode": {
    "name": "ipython",
    "version": 3
   },
   "file_extension": ".py",
   "mimetype": "text/x-python",
   "name": "python",
   "nbconvert_exporter": "python",
   "pygments_lexer": "ipython3",
   "version": "3.8.5"
  }
 },
 "nbformat": 4,
 "nbformat_minor": 4
}
