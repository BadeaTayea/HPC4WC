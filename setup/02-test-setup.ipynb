{
 "cells": [
  {
   "cell_type": "markdown",
   "metadata": {},
   "source": [
    "## Test numpy & matplotlib"
   ]
  },
  {
   "cell_type": "code",
   "execution_count": null,
   "metadata": {},
   "outputs": [],
   "source": [
    "import numpy as np\n",
    "import matplotlib.pyplot as plt"
   ]
  },
  {
   "cell_type": "code",
   "execution_count": null,
   "metadata": {},
   "outputs": [],
   "source": [
    "plt.imshow( np.random.rand( 32, 32 ), origin='lower', cmap=plt.get_cmap('magma') );"
   ]
  },
  {
   "cell_type": "markdown",
   "metadata": {},
   "source": [
    "## Test MPI"
   ]
  },
  {
   "cell_type": "code",
   "execution_count": null,
   "metadata": {},
   "outputs": [],
   "source": [
    "import numpy as np\n",
    "import ipcmagic\n",
    "import ipyparallel as ipp"
   ]
  },
  {
   "cell_type": "code",
   "execution_count": null,
   "metadata": {},
   "outputs": [],
   "source": [
    "%ipcluster start -n 4"
   ]
  },
  {
   "cell_type": "code",
   "execution_count": null,
   "metadata": {},
   "outputs": [],
   "source": [
    "c = ipp.Client()"
   ]
  },
  {
   "cell_type": "code",
   "execution_count": null,
   "metadata": {},
   "outputs": [],
   "source": [
    "c.ids"
   ]
  },
  {
   "cell_type": "code",
   "execution_count": null,
   "metadata": {},
   "outputs": [],
   "source": [
    "%%px\n",
    "from mpi4py import MPI"
   ]
  },
  {
   "cell_type": "code",
   "execution_count": null,
   "metadata": {},
   "outputs": [],
   "source": [
    "%%px\n",
    "print(\"Hello World from rank %s of %s on nid %s\" % (MPI.COMM_WORLD.rank,\n",
    "                                                    MPI.COMM_WORLD.size,\n",
    "                                                    socket.gethostname()))"
   ]
  },
  {
   "cell_type": "code",
   "execution_count": null,
   "metadata": {},
   "outputs": [],
   "source": [
    "c.close()\n",
    "%ipcluster stop"
   ]
  },
  {
   "cell_type": "markdown",
   "metadata": {},
   "source": [
    "## Test Cupy"
   ]
  },
  {
   "cell_type": "code",
   "execution_count": null,
   "metadata": {},
   "outputs": [],
   "source": [
    "import numpy as np\n",
    "import cupy as cp\n",
    "import time"
   ]
  },
  {
   "cell_type": "code",
   "execution_count": null,
   "metadata": {},
   "outputs": [],
   "source": [
    "### Numpy and CPU\n",
    "s = time.time()\n",
    "x_cpu = np.ones((1000,1000,1000))\n",
    "e = time.time()\n",
    "print(e - s)\n",
    "\n",
    "### CuPy and GPU\n",
    "s = time.time()\n",
    "x_gpu = cp.ones((1000,1000,1000))\n",
    "cp.cuda.Stream.null.synchronize()\n",
    "e = time.time()\n",
    "print(e - s)"
   ]
  },
  {
   "cell_type": "markdown",
   "metadata": {},
   "source": [
    "## Test GT4Py"
   ]
  },
  {
   "cell_type": "code",
   "execution_count": null,
   "metadata": {},
   "outputs": [],
   "source": [
    "import os\n",
    "import warnings\n",
    "import gt4py.next as gtx\n",
    "from gt4py.next import Field\n",
    "\n",
    "nx = 4\n",
    "ny = 4\n",
    "nz = 4\n",
    "dtype = np.float64\n",
    "\n",
    "backend = gtx.itir_python\n",
    "# backend = gtx.gtfn_cpu\n",
    "# backend = gtx.gtfn_gpu\n",
    "\n",
    "I = gtx.Dimension(\"I\")\n",
    "J = gtx.Dimension(\"J\")\n",
    "K = gtx.Dimension(\"K\", kind=gtx.DimensionKind.VERTICAL)\n",
    "\n",
    "domain = gtx.domain({I: nx, J: ny, K: nz})\n",
    "\n",
    "in_field = gtx.as_field(\n",
    "    domain,\n",
    "    np.fromfunction(lambda x, y, z: x**2 + y**2, shape=(nx, ny, nz)),\n",
    "    dtype,\n",
    "    allocator=backend,\n",
    ")\n",
    "out_field = gtx.zeros(domain, dtype, allocator=backend)"
   ]
  },
  {
   "cell_type": "code",
   "execution_count": null,
   "metadata": {},
   "outputs": [],
   "source": [
    "Ioff = gtx.FieldOffset(\"I\", source=I, target=(I,))\n",
    "Joff = gtx.FieldOffset(\"J\", source=J, target=(J,))\n",
    "\n",
    "@gtx.field_operator\n",
    "def copy_operator(inp: Field[[I, J, K], dtype]) -> Field[[I, J, K], dtype]:\n",
    "    return inp\n",
    "\n",
    "@gtx.program(backend=backend)\n",
    "def copy_program(inp: Field[[I, J, K], dtype], out: Field[[I, J, K], dtype]):\n",
    "    copy_operator(inp, out=out)\n",
    "\n",
    "copy_program(in_field, out_field, offset_provider={\"Ioff\": I, \"Joff\": J})\n",
    "\n",
    "print(out_field.asnumpy)"
   ]
  },
  {
   "cell_type": "markdown",
   "metadata": {},
   "source": [
    "## Check installed packages"
   ]
  },
  {
   "cell_type": "code",
   "execution_count": null,
   "metadata": {},
   "outputs": [],
   "source": [
    "%%bash\n",
    "python -m pip list"
   ]
  },
  {
   "cell_type": "code",
   "execution_count": null,
   "metadata": {},
   "outputs": [],
   "source": []
  }
 ],
 "metadata": {
  "kernelspec": {
   "display_name": "HPC4WC_kernel",
   "language": "python",
   "name": "hpc4wc_kernel"
  },
  "language_info": {
   "codemirror_mode": {
    "name": "ipython",
    "version": 3
   },
   "file_extension": ".py",
   "mimetype": "text/x-python",
   "name": "python",
   "nbconvert_exporter": "python",
   "pygments_lexer": "ipython3",
   "version": "3.12.5"
  }
 },
 "nbformat": 4,
 "nbformat_minor": 4
}
