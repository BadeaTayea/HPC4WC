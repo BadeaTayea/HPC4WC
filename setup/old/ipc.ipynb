{
 "cells": [
  {
   "cell_type": "markdown",
   "metadata": {},
   "source": [
    "# Testing `ipcmagic` with MPI4Py\n",
    "\n",
    "Points to look at:\n",
    " * `%ipcluster start -n 12 --mpi` starts the cluster. On the terminal the following command should look like this:\n",
    "    ```bash\n",
    "    > ps -u $USER | grep ip\n",
    "    1270 pts/8    00:00:01 ipcontroller\n",
    "    1278 pts/8    00:00:00 ipcontroller\n",
    "    1279 pts/8    00:00:00 ipcontroller\n",
    "    1282 pts/8    00:00:00 ipcontroller\n",
    "    1285 pts/8    00:00:00 ipcontroller\n",
    "    1334 ?        00:00:01 ipengine\n",
    "    1335 ?        00:00:01 ipengine\n",
    "    1336 ?        00:00:00 ipengine\n",
    "    1337 ?        00:00:00 ipengine\n",
    "    1338 ?        00:00:00 ipengine\n",
    "    1339 ?        00:00:00 ipengine\n",
    "    1340 ?        00:00:00 ipengine\n",
    "    1341 ?        00:00:00 ipengine\n",
    "    1342 ?        00:00:00 ipengine\n",
    "    1343 ?        00:00:00 ipengine\n",
    "    1344 ?        00:00:00 ipengine\n",
    "    1345 ?        00:00:00 ipengine\n",
    "    31037 ?       00:00:00 slurm_script\n",
    "    ```\n",
    " * `%ipcluster stop` stops the cluster. Check with the same command that all the process shown above no longer exist.\n",
    " * After stopping the cluster, it can be restarted by running `%ipcluster start -n 12 --mpi` again.\n",
    " * Running `%ipcluster start <...>` while the cluster is active, should give `IPCluster is already running`.\n",
    " * Running `%ipcluster stop` whould give `IPCluster not running`.\n",
    " * Restarting the kernel kills all the process mentioned above."
   ]
  },
  {
   "cell_type": "code",
   "execution_count": 1,
   "metadata": {},
   "outputs": [],
   "source": [
    "import numpy as np\n",
    "import ipcmagic\n",
    "import ipyparallel as ipp"
   ]
  },
  {
   "cell_type": "code",
   "execution_count": 2,
   "metadata": {},
   "outputs": [
    {
     "name": "stdout",
     "output_type": "stream",
     "text": [
      "engine an IPyParallel cluster.\n",
      "\n",
      "Usage:\n",
      "  %ipcluster start -n <num_engines> [options]\n",
      "  %ipcluster stop\n",
      "  %ipcluster (-h | --help)\n",
      "  %ipcluster --version\n",
      "\n",
      "Options:\n",
      "  -h --help                Show this screen.\n",
      "  -v --version             Show version.\n",
      "  -n --num_engines <int>   Number of engines (default 1 per node).\n",
      "  -m --mpi                 Run with mpi support\n"
     ]
    }
   ],
   "source": [
    "%ipcluster --help"
   ]
  },
  {
   "cell_type": "code",
   "execution_count": 3,
   "metadata": {},
   "outputs": [
    {
     "name": "stdout",
     "output_type": "stream",
     "text": [
      "0.0.1\n"
     ]
    }
   ],
   "source": [
    "%ipcluster --version"
   ]
  },
  {
   "cell_type": "code",
   "execution_count": 4,
   "metadata": {},
   "outputs": [
    {
     "name": "stdout",
     "output_type": "stream",
     "text": [
      "IPCluster is ready! (7 seconds)\n"
     ]
    }
   ],
   "source": [
    "%ipcluster start -n 12 --mpi"
   ]
  },
  {
   "cell_type": "code",
   "execution_count": 5,
   "metadata": {},
   "outputs": [],
   "source": [
    "c = ipp.Client()   # (profile='job_17669451')"
   ]
  },
  {
   "cell_type": "code",
   "execution_count": 6,
   "metadata": {},
   "outputs": [
    {
     "data": {
      "text/plain": [
       "[0, 1, 2, 3, 4, 5, 6, 7, 8, 9, 10, 11]"
      ]
     },
     "execution_count": 6,
     "metadata": {},
     "output_type": "execute_result"
    }
   ],
   "source": [
    "c.ids"
   ]
  },
  {
   "cell_type": "code",
   "execution_count": 7,
   "metadata": {},
   "outputs": [],
   "source": [
    "%%px\n",
    "import socket\n",
    "from mpi4py import MPI"
   ]
  },
  {
   "cell_type": "code",
   "execution_count": 8,
   "metadata": {},
   "outputs": [
    {
     "name": "stdout",
     "output_type": "stream",
     "text": [
      "[stdout:0] Hello World from rank 10 of 12 on nid nid02891\n",
      "[stdout:1] Hello World from rank 4 of 12 on nid nid02891\n",
      "[stdout:2] Hello World from rank 7 of 12 on nid nid02891\n",
      "[stdout:3] Hello World from rank 11 of 12 on nid nid02891\n",
      "[stdout:4] Hello World from rank 9 of 12 on nid nid02891\n",
      "[stdout:5] Hello World from rank 5 of 12 on nid nid02891\n",
      "[stdout:6] Hello World from rank 3 of 12 on nid nid02891\n",
      "[stdout:7] Hello World from rank 6 of 12 on nid nid02891\n",
      "[stdout:8] Hello World from rank 2 of 12 on nid nid02891\n",
      "[stdout:9] Hello World from rank 1 of 12 on nid nid02891\n",
      "[stdout:10] Hello World from rank 0 of 12 on nid nid02891\n",
      "[stdout:11] Hello World from rank 8 of 12 on nid nid02891\n"
     ]
    }
   ],
   "source": [
    "%%px\n",
    "print(\"Hello World from rank %s of %s on nid %s\" % (MPI.COMM_WORLD.rank,\n",
    "                                                    MPI.COMM_WORLD.size,\n",
    "                                                    socket.gethostname()))"
   ]
  },
  {
   "cell_type": "code",
   "execution_count": 9,
   "metadata": {},
   "outputs": [],
   "source": [
    "view = c[:]\n",
    "view.activate() # enable magics"
   ]
  },
  {
   "cell_type": "code",
   "execution_count": 10,
   "metadata": {},
   "outputs": [
    {
     "ename": "FileNotFoundError",
     "evalue": "[Errno 2] No such file or directory: 'psum.py'",
     "output_type": "error",
     "traceback": [
      "\u001b[0;31m---------------------------------------------------------------------------\u001b[0m",
      "\u001b[0;31mFileNotFoundError\u001b[0m                         Traceback (most recent call last)",
      "\u001b[0;32m<ipython-input-10-1014fb27c75b>\u001b[0m in \u001b[0;36m<module>\u001b[0;34m\u001b[0m\n\u001b[1;32m      1\u001b[0m \u001b[0;31m# run the contents of the file on each engine:\u001b[0m\u001b[0;34m\u001b[0m\u001b[0;34m\u001b[0m\u001b[0m\n\u001b[0;32m----> 2\u001b[0;31m \u001b[0mview\u001b[0m\u001b[0;34m.\u001b[0m\u001b[0mrun\u001b[0m\u001b[0;34m(\u001b[0m\u001b[0;34m'psum.py'\u001b[0m\u001b[0;34m)\u001b[0m\u001b[0;34m\u001b[0m\u001b[0m\n\u001b[0m",
      "\u001b[0;32m/apps/daint/UES/jenkins/7.0.UP01/gpu/easybuild/software/ipcmagic/0.1-CrayGNU-19.10/lib/python3.6/site-packages/ipyparallel/client/view.py\u001b[0m in \u001b[0;36mrun\u001b[0;34m(self, filename, targets, block)\u001b[0m\n\u001b[1;32m    676\u001b[0m \u001b[0;34m\u001b[0m\u001b[0m\n\u001b[1;32m    677\u001b[0m         \"\"\"\n\u001b[0;32m--> 678\u001b[0;31m         \u001b[0;32mwith\u001b[0m \u001b[0mopen\u001b[0m\u001b[0;34m(\u001b[0m\u001b[0mfilename\u001b[0m\u001b[0;34m,\u001b[0m \u001b[0;34m'r'\u001b[0m\u001b[0;34m)\u001b[0m \u001b[0;32mas\u001b[0m \u001b[0mf\u001b[0m\u001b[0;34m:\u001b[0m\u001b[0;34m\u001b[0m\u001b[0m\n\u001b[0m\u001b[1;32m    679\u001b[0m             \u001b[0;31m# add newline in case of trailing indented whitespace\u001b[0m\u001b[0;34m\u001b[0m\u001b[0;34m\u001b[0m\u001b[0m\n\u001b[1;32m    680\u001b[0m             \u001b[0;31m# which will cause SyntaxError\u001b[0m\u001b[0;34m\u001b[0m\u001b[0;34m\u001b[0m\u001b[0m\n",
      "\u001b[0;31mFileNotFoundError\u001b[0m: [Errno 2] No such file or directory: 'psum.py'"
     ]
    }
   ],
   "source": [
    "# run the contents of the file on each engine:\n",
    "view.run('psum.py')"
   ]
  },
  {
   "cell_type": "code",
   "execution_count": null,
   "metadata": {},
   "outputs": [],
   "source": [
    "view.scatter('a',np.arange(16,dtype='float'))"
   ]
  },
  {
   "cell_type": "code",
   "execution_count": null,
   "metadata": {},
   "outputs": [],
   "source": [
    "view['a']"
   ]
  },
  {
   "cell_type": "code",
   "execution_count": null,
   "metadata": {},
   "outputs": [],
   "source": [
    "%px totalsum = psum(a)"
   ]
  },
  {
   "cell_type": "code",
   "execution_count": null,
   "metadata": {},
   "outputs": [],
   "source": [
    "view['totalsum']"
   ]
  },
  {
   "cell_type": "code",
   "execution_count": null,
   "metadata": {},
   "outputs": [],
   "source": [
    "%ipcluster stop"
   ]
  },
  {
   "cell_type": "code",
   "execution_count": null,
   "metadata": {},
   "outputs": [],
   "source": []
  }
 ],
 "metadata": {
  "kernelspec": {
   "display_name": "HPC4WC_kernel",
   "language": "python",
   "name": "hpc4wc_kernel"
  },
  "language_info": {
   "codemirror_mode": {
    "name": "ipython",
    "version": 3
   },
   "file_extension": ".py",
   "mimetype": "text/x-python",
   "name": "python",
   "nbconvert_exporter": "python",
   "pygments_lexer": "ipython3",
   "version": "3.6.5"
  }
 },
 "nbformat": 4,
 "nbformat_minor": 4
}
