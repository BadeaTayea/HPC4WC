{
 "cells": [
  {
   "cell_type": "markdown",
   "metadata": {},
   "source": [
    "# Setting up the Python virtual environment\n",
    "\n",
    "Every notebook runs on a specific kernel. For our exerciess we will be using a kernel that has already been prepared to use the tools (numpy, scipy, matplotlib, MPI, cupy, numba, gt4py, ...) that we need for this course.\n",
    "\n",
    "To start log in on daint (where XX is the number corresponding to your account). You can do this from a terminal on your computer or from JupyterLab using `File` &rarr; `New` &rarr; `Terminal`.\n",
    "\n",
    "`ssh courseXX@ela.cscs.ch`\n",
    "\n",
    "And then logon to Piz Daint.\n",
    "\n",
    "`ssh daint`\n",
    "\n",
    "The first thing to do is to load the modules we require\n",
    "\n",
    "```\n",
    "module load daint-gpu\n",
    "module load cray-python\n",
    "module load jupyter-utils\n",
    "```\n",
    "\n",
    "Move to your home directory.\n",
    "\n",
    "`cd`\n",
    "\n",
    "Now activate a virtual environment that we have prepared for the course.\n",
    "\n",
    "`source /scratch/snx3000/tobwi/HPC4WC_venv/bin/activate`\n",
    "\n",
    "In order to copy the virutal environment to your home directory, use the following command. (Note: this might take a couple minutes.)\n",
    "\n",
    "`virtualenv-clone /scratch/snx3000/tobwi/HPC4WC_venv/ HPC4WC_venv`\n",
    "\n",
    "Deactivate the virtual environment that is currently loaded.\n",
    "\n",
    "`deactivate`\n",
    "\n",
    "Now we activate the Python virtual environment that you have just copied for this course.\n",
    "\n",
    "`source HPC4WC_venv/bin/activate`\n",
    "\n",
    "In order to check if everything worked, check which python you are using:\n",
    "\n",
    "`which python`\n",
    "\n",
    "Which should point to your new virtual environment now (<tt>/users/courseXX/HPC4WC_venv/bin/python</tt>). With this virtual environment we want to create a kernel to lauch our noteboooks in JupyterLab with. We can create a new kernel with:\n",
    "\n",
    "`kernel-create -n HPC4WC_kernel`"
   ]
  },
  {
   "cell_type": "markdown",
   "metadata": {},
   "source": [
    "## Launching JupyterHub correctly\n",
    "\n",
    "In order to run on an MPI-enabled cluster we need to launch jupyterhub correctly. Assuming you have a session open already you need to re-open it MPI enabled. Otherwise just do step 4 upon startup:\n",
    "\n",
    "### Step 1: Got to the Hub control panel\n",
    "\n",
    "![Changing the kernel](./img/launch1.png)\n",
    "\n",
    "### Step 2: Stop your server\n",
    "\n",
    "![Changing the kernel](./img/launch2.png)\n",
    "\n",
    "### Step 3: Start a new server\n",
    "\n",
    "![Changing the kernel](./img/launch3.png)\n"
   ]
  },
  {
   "cell_type": "markdown",
   "metadata": {},
   "source": [
    "## Test the virtual environment\n",
    "\n",
    "The easiest way to check is to open up the demo notebook (<tt>02-test-setup.ipynb</tt>) and see if the imports work. If everything is setup correctly, then you should be able to execute all cells in the notebook without any error messages.\n",
    "\n",
    "### Step 5: Open test notebook\n",
    "\n",
    "Select the File Browser in the panel on the left of JupyterHub and look for the notebook named <tt>02-test-setup.ipynb</tt>. Open the notebook by double-clicking it.\n",
    "\n",
    "### Step 6: Change the kernel\n",
    "\n",
    "When opening the notebook, make sure you change the kernel of the notebook to <tt>HPC4WC_kernel</tt> in order to run the notebook with the kernel we have just installed.\n",
    "\n",
    "![Changing the kernel](./img/kernel0.png)\n",
    "\n",
    "![Selecting the new kernel](./img/kernel1.png)\n",
    "\n",
    "### Step 7: Execute the notebook\n",
    "\n",
    "You're all set!!!"
   ]
  },
  {
   "cell_type": "code",
   "execution_count": null,
   "metadata": {},
   "outputs": [],
   "source": []
  }
 ],
 "metadata": {
  "kernelspec": {
   "display_name": "Python 3",
   "language": "python",
   "name": "python3"
  },
  "language_info": {
   "codemirror_mode": {
    "name": "ipython",
    "version": 3
   },
   "file_extension": ".py",
   "mimetype": "text/x-python",
   "name": "python",
   "nbconvert_exporter": "python",
   "pygments_lexer": "ipython3",
   "version": "3.6.5"
  }
 },
 "nbformat": 4,
 "nbformat_minor": 4
}
