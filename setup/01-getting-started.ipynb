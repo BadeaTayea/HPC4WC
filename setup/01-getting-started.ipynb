{
 "cells": [
  {
   "cell_type": "markdown",
   "metadata": {},
   "source": [
    "## Change your password\n",
    "\n",
    "First, if you have not already done so, change your password. Since this does not work on the compute node we need to go to the landing platform:\n",
    "\n",
    "From JupyterLab, open a terminal session using `File` &rarr; `New` &rarr; `Terminal`. \n",
    "\n",
    "```bash\n",
    "ssh ela\n",
    "```\n",
    "\n",
    "will prompt you for your password again and bring you to a place where you can change the password\n",
    "\n",
    "```bash\n",
    "kpasswd\n",
    "```\n",
    "\n",
    "lets you change your password there\n",
    "\n",
    "```bash\n",
    "logout\n",
    "```\n",
    "\n",
    "brings you back to where you were before."
   ]
  },
  {
   "cell_type": "markdown",
   "metadata": {},
   "source": [
    "## Setting up the course environment\n",
    "\n",
    "Every notebook runs on a specific kernel. For our exerciess we will setup a kernel that has already been prepared to use the tools (numpy, scipy, matplotlib, MPI, cupy, numba, gt4py, ...) that we need for this course.\n",
    "\n",
    "If you do not already have a Terminal open, open a terminal session using `File` &rarr; `New` &rarr; `Terminal`.\n",
    "\n",
    "Make sure that that you are in your home directory and that you have the HPC4WC repository correctly cloned.\n",
    "\n",
    "```bash\n",
    "cd\n",
    "ls\n",
    "```\n",
    "\n",
    "Run the script that will setup your Python virtual environment and your Jupyter kernel for the course.\n",
    "\n",
    "```bash\n",
    "~/HPC4WC/setup/HPC4WC_setup.sh\n",
    "```\n",
    "\n",
    "If something fails when running this script, reach out to somebody to help you. If you see the message \"Successfully finished.\" then move on the next step."
   ]
  },
  {
   "cell_type": "markdown",
   "metadata": {},
   "source": [
    "## Restarting JupyterHub\n",
    "\n",
    "In order to run on an MPI-enabled cluster we need to restart JupyterHub to pickup the setup we changed above.\n",
    "\n",
    "### Step 1: Got to the Hub control panel\n",
    "\n",
    "<div>\n",
    "<img src=\"./img/launch1.png\" alt=\"Get to the Hub\" style=\"height: 400px;\"/>\n",
    "</div>\n",
    "\n",
    "### Step 2: Stop your server\n",
    "\n",
    "<div>\n",
    "<img src=\"./img/launch2.png\" alt=\"Changing the kernel\" style=\"height: 300px;\"/>\n",
    "</div>\n",
    "\n",
    "### Step 3: Start a new server\n",
    "\n",
    "<div>\n",
    "<img src=\"./img/launch3.png\" alt=\"Changing the kernel\" style=\"height: 300px;\"/>\n",
    "</div>\n",
    "\n",
    "### Step 4: Configure server\n",
    "\n",
    "<div>\n",
    "<img src=\"./img/launch4.png\" alt=\"Configure server\" style=\"height: 300px;\"/>\n",
    "</div>"
   ]
  },
  {
   "cell_type": "markdown",
   "metadata": {},
   "source": [
    "## Test the virtual environment\n",
    "\n",
    "The easiest way to check is to open up the demo notebook (<tt>02-test-setup.ipynb</tt>) and see if the imports work. If everything is setup correctly, then you should be able to execute all cells in the notebook without any error messages.\n",
    "\n",
    "### Step 5: Open test notebook\n",
    "\n",
    "Select the File Browser in the panel on the left of JupyterHub and look for the notebook named <tt>02-test-setup.ipynb</tt>. Open the notebook by double-clicking it.\n",
    "\n",
    "### Step 6: Change the kernel\n",
    "\n",
    "When opening the notebook, you should get a prompt to chose a kernel. Make sure you change the kernel of the notebook to the <tt>HPC4WC_kernel</tt> you just created in order to run the notebook with the kernel we have just installed.\n",
    "\n",
    "<img src=\"./img/kernel0.png\" alt=\"Changing the kernel\" style=\"width: 150px;\"/>\n",
    "\n",
    "\n",
    "In case you don't get this prompt or want to change your kernel for other notebooks, there are two options\n",
    "<img src=\"./img/kernel1.png\" alt=\"Selecting the new kernel\" style=\"width: 60%;\"/> <img src=\"./img/kernel2.png\" alt=\"Selecting the new kernel\" style=\"width: 39%;\"/>\n",
    "\n",
    "\n",
    "\n",
    "\n",
    "### Step 6: Execute the notebook\n",
    "\n",
    "If everything works without error messages, the you're ready for the HPC4WC course. Congratulations!!!"
   ]
  }
 ],
 "metadata": {
  "kernelspec": {
   "display_name": "Python 3",
   "language": "python",
   "name": "python3"
  },
  "language_info": {
   "codemirror_mode": {
    "name": "ipython",
    "version": 3
   },
   "file_extension": ".py",
   "mimetype": "text/x-python",
   "name": "python",
   "nbconvert_exporter": "python",
   "pygments_lexer": "ipython3",
   "version": "3.8.5"
  }
 },
 "nbformat": 4,
 "nbformat_minor": 4
}
