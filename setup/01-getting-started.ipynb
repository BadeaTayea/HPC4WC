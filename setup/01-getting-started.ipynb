{
 "cells": [
  {
   "cell_type": "markdown",
   "metadata": {},
   "source": [
    "# Getting started with MPI in jupyter notebook\n",
    "In day 1 we've learned that every notebook runs on a specific kernel we need to prepare one to use python + MPI\n",
    "\n",
    "to start log in on daint\n",
    "`ssh account@ela.cscs.ch` and then `ssh daint`\n",
    "\n",
    "The first thing to do is to load the modules we require\n",
    "\n",
    "```\n",
    "module load daint-gpu\n",
    "module load cray-python\n",
    "module load jupyter-utils\n",
    "```\n",
    "\n",
    "move to your scratch directory `cd $SCRATCH` and copy the virtual environment provided\n",
    "\n",
    "`source /scratch/snx3000/tobwi/HPC4WC_venv/bin/activate`\n",
    "\n",
    "in order to copy the venv use the (provided function)\n",
    "\n",
    "`virtualenv-clone /scratch/snx3000/tobwi/HPC4WC_venv/ my_venv` (this might take a couple minutes)\n",
    "\n",
    "now we can deactivate the old virtual environment and load you own one\n",
    "\n",
    "`deactivate`\n",
    "`source my_venv/bin/activate`\n",
    "\n",
    "in order to check if everything worked, check which python you are using:\n",
    "\n",
    "`which python`\n",
    "\n",
    "which should point to your new venv now\n",
    "\n",
    "with this virtual env we want to create a kernel to lauch our noteboooks with.\n",
    "\n",
    "and now we can create a kernel:\n",
    "\n",
    "`kernel-create -n my_kernel`\n",
    "\n",
    "## Launching jupyterhub correctly:\n",
    "\n",
    "in order to run on an MPI-enabled cluster we need to launch jupyterhub correctly. Assuming you have a session open already you need to re-open it MPI enabled. Otherwise just do step 4 upon startup:\n",
    "\n",
    "![Changing the kernel](./pictures/launch1.png)\n",
    "\n",
    "![Changing the kernel](./pictures/launch2.png)\n",
    "\n",
    "![Changing the kernel](./pictures/launch3.png)\n",
    "\n",
    "![Changing the kernel](./pictures/launch4.png)\n",
    "\n",
    "and now we can lauch a test notebook with MPI with this kernel:\n",
    "### Changing the kernel\n",
    "![Changing the kernel](./pictures/kernel0.png)\n",
    "\n",
    "### To the new kernel\n",
    "\n",
    "![Selecting the new kernel](./pictures/kernel1.png)"
   ]
  },
  {
   "cell_type": "markdown",
   "metadata": {},
   "source": [
    "## Testing that everything worked\n",
    "The easiest way to check is to open up the demo notebook and see if the imports work. Run the getting started notebook with it"
   ]
  }
 ],
 "metadata": {
  "kernelspec": {
   "display_name": "Python 3",
   "language": "python",
   "name": "python3"
  },
  "language_info": {
   "codemirror_mode": {
    "name": "ipython",
    "version": 3
   },
   "file_extension": ".py",
   "mimetype": "text/x-python",
   "name": "python",
   "nbconvert_exporter": "python",
   "pygments_lexer": "ipython3",
   "version": "3.6.5"
  }
 },
 "nbformat": 4,
 "nbformat_minor": 4
}
