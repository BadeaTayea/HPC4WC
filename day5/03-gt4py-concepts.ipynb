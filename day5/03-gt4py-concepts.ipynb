{
 "cells": [
  {
   "cell_type": "markdown",
   "metadata": {},
   "source": [
    "# GT4Py Concepts\n",
    "*Disclaimer: This notebook contains substantial contributions from the whole GT4Py development team.*"
   ]
  },
  {
   "cell_type": "markdown",
   "metadata": {},
   "source": [
    "This notebook walks through the major concepts of the [GT4Py](https://github.com/GridTools/gt4py) stencil library. The concepts are exposed with the aid of some illustrative examples which are particularly relevant in weather and climate."
   ]
  },
  {
   "cell_type": "code",
   "execution_count": 1,
   "metadata": {},
   "outputs": [],
   "source": [
    "import gt4py as gt\n",
    "from gt4py import gtscript\n",
    "import numpy as np"
   ]
  },
  {
   "cell_type": "markdown",
   "metadata": {},
   "source": [
    "## Defining a stencil computation"
   ]
  },
  {
   "cell_type": "markdown",
   "metadata": {},
   "source": [
    "Horizontal advection by the mean flow represents a major driving force for atmospheric dynamics. Consider the conserved quantity $\\phi = \\rho \\psi$, where $\\rho$ is the air density and $\\psi$ a specific quantity. Its transport by the steering wind $(u, \\, v)$ is governed by the equation\n",
    "\n",
    "\\begin{equation}\n",
    "    \\frac{\\partial \\phi}{\\partial t} + \\frac{\\partial \\phi u}{\\partial x} + \\frac{\\partial \\phi v}{\\partial y} = 0 \\, .\n",
    "\\end{equation}\n",
    "\n",
    "(Observe that $\\psi \\equiv 1$ discloses the continuity equation.) An established way to discretize this equation on a Cartesian grid is by centered spatio-temporal differencing:\n",
    "\n",
    "\\begin{equation}\n",
    "    \\frac{\\phi^{n+1}_{i,j} - \\phi^{n-1}_{i,j}}{2 \\Delta t} + \\frac{\\phi_{i+1,j}^n \\, u_{i+1,j}^n - \\phi_{i-1,j}^n \\, u_{i-1,j}^n}{2 \\Delta x} + \\frac{\\phi_{i,j+1}^n \\, v_{i,j+1}^n - \\phi_{i,j-1}^n \\, v_{i,j-1}^n}{2 \\Delta y} = 0 \\, .\n",
    "\\end{equation}\n",
    "\n",
    "This method is commonly known as the leapfrog scheme. Here $\\Delta x$ and $\\Delta y$ are the grid spacings in the $x$- and $y$-direction, $\\Delta t$ is the time-step and for a generic variable $\\xi = \\xi(x, \\, y, \\, t)$ we denote by $\\xi_{i,j}^n$ the numerical approximation of $\\xi(i \\Delta x, \\, j \\Delta y, \\, n \\Delta t)$. "
   ]
  },
  {
   "cell_type": "markdown",
   "metadata": {},
   "source": [
    "![grid](img/grid.png)"
   ]
  },
  {
   "cell_type": "markdown",
   "metadata": {},
   "source": [
    "The formula which advances the solution forward in time is found to be\n",
    "\n",
    "\\begin{equation}\n",
    "    \\phi_{i,j}^{n+1} = \\phi_{i, j}^{n-1} - \\frac{\\Delta t}{\\Delta x} \\left( \\phi_{i+1,j}^n \\, u_{i+1,j}^n - \\phi_{i-1,j}^n \\, u_{i-1,j}^n \\right) - \\frac{\\Delta t}{\\Delta y} \\left( \\phi_{i,j+1}^n \\, v_{i,j+1}^n - \\phi_{i,j-1}^n \\, v_{i,j-1}^n \\right) \\, .\n",
    "\\end{equation}\n",
    "\n",
    "We recognize the update operator as a stencil computation. The field $\\phi^{n+1}$ at $(i, \\, j)$ (blue point in the figure below) is computed by accessing $\\phi^{n-1}$ at $(i, \\, j)$ and $\\phi^n$, $u^n$ and $v^n$ at the neignboring points $(i-1, \\, j)$, $(i+1, \\, j)$, $(i, \\, j-1)$ and $(i, \\, j+1)$ (red points)."
   ]
  },
  {
   "cell_type": "markdown",
   "metadata": {},
   "source": [
    "![stencil](img/stencil.png)"
   ]
  },
  {
   "cell_type": "markdown",
   "metadata": {},
   "source": [
    "GT4Py exposes the domain-specific language (DSL) GTScript to express stencil computations as regular Python functions. "
   ]
  },
  {
   "cell_type": "code",
   "execution_count": 2,
   "metadata": {},
   "outputs": [],
   "source": [
    "def leapfrog_defs(\n",
    "    u: gtscript.Field[float], \n",
    "    v: gtscript.Field[float], \n",
    "    phi_old: gtscript.Field[float], \n",
    "    phi_now: gtscript.Field[float],\n",
    "    phi_new: gtscript.Field[float],\n",
    "    *,\n",
    "    dt: float,\n",
    "    dx: float,\n",
    "    dy: float\n",
    "):\n",
    "    from __gtscript__ import PARALLEL, computation, interval\n",
    "    \n",
    "    with computation(PARALLEL), interval(...):\n",
    "        phi_new = phi_old[0, 0, 0] - (\n",
    "            dt / dx * (phi_now[1, 0, 0] * u[1, 0, 0] - phi_now[-1, 0, 0] * u[-1, 0, 0])\n",
    "            + dt / dy * (phi_now[0, 1, 0] * v[0, 1, 0] - phi_now[0, -1, 0] * v[0, -1, 0])\n",
    "        )"
   ]
  },
  {
   "cell_type": "markdown",
   "metadata": {},
   "source": [
    "Let's demistify the definition function block-by-block.\n",
    "\n",
    "* All input parameters must be annotated. GTScript offers the type descriptor `Field` for data fields. This descriptor is parametric in the data-type. Supported data-types are: `float`, `numpy.float64`. Scalar coefficients must appear as keyword-only parameters.\n",
    "* The function adopts an object-oriented interface: its signature includes both read-only fields (`u`, `v`, `phi_old`, `phi_now`) and scalar coefficients (`dt`, `dx`, `dy`), and fields to be computed (`phi_new`).\n",
    "* Any computation must be enclosed in a **computation block**. Computation blocks are defined as one or multiple assignments (or **stages**) wrapped within a `with` statement. The `with` construct is used in combination with two context managers: `computation()` and `interval()`. \n",
    "    1. `computation()` specifies the iteration order in the vertical direction. This can be either `PARALLEL`, `FORWARD` or `BACKWARD`. Since here we do not have any data dependency in the vertical, we set `computation(PARALLEL)`. We will see later an example where both forward and backward sweeps are needed.\n",
    "    2. `interval()` specifies the vertical region of application. Range specification follows as close as possible standard Python range specification. \n",
    "        - The starting element is included, while the ending element is not. \n",
    "        - Negative numbers represent the distance from the last element.\n",
    "        - `None` denotes the end of the axis.\n",
    "        - The three dots `...` represent a syntactic sugar for `(0, None)`. In other words, it signifies that the iteration must span all elements in vertical direction.\n",
    "* The import statement is optional.\n",
    "* Neighboring points are accessed through the corresponding **offsets**, i.e. the relative displacements with respect to the current point. Offsets are signed integers. The syntax is `[x_offset, y_offset, z_offset]`. Please have a look at the figure below for a better understanding of how offsets work.\n",
    "* Note that for loops are abstracted away and computations are defined for a single grid point. Loop bounds will be specified when running the computation.\n",
    "* No return statement is required. This is fully compliant with the object-oriented interface."
   ]
  },
  {
   "cell_type": "markdown",
   "metadata": {},
   "source": [
    "![offsets](img/offsets.png)"
   ]
  },
  {
   "cell_type": "markdown",
   "metadata": {},
   "source": [
    "## Compiling a stencil"
   ]
  },
  {
   "cell_type": "markdown",
   "metadata": {},
   "source": [
    "GT4Py can generate high-performance implementations of a stencil starting from its definition function. The GT4Py pipeline relies on the [GridTools (GT) framework](https://github.com/GridTools) to produce native implementations for different platforms. The piece of software in charge of synthetizing optimized code for a specific hardware architecture is called **backend**. Actually GT4Py offers more code-generating backends than GT. These do not trigger any compilation, and thus are suitable for early testing and prototyping purposes.\n",
    "\n",
    "We use the expression **stencil compilation** to indicate the joint procedure which generates (and possibly compiles) the stencil code on-the-fly, creates Python bindings for it and import these bindings in the current scope. The stencil compilation is accomplished by the function `gtscript.stencil()`:"
   ]
  },
  {
   "cell_type": "code",
   "execution_count": 3,
   "metadata": {},
   "outputs": [],
   "source": [
    "backend = \"gtx86\"\n",
    "leapfrog = gtscript.stencil(definition=leapfrog_defs, backend=backend, verbose=True)"
   ]
  },
  {
   "cell_type": "markdown",
   "metadata": {},
   "source": [
    "We observe that the backend is specified as a string. Available options are:\n",
    "\n",
    "* `\"debug\"`: Pythonic backend which explicitly iterates over all grid points;\n",
    "* `\"numpy\"`: Pythonic backend which adopts vectorized syntax;\n",
    "* `\"gtx86\"`: GT-based backend devised for a generic CPU;\n",
    "* `\"gtmc\"`: GT-based backend devised specifically for many-core CPUs;\n",
    "* `\"gtcuda\"`: GT-based backend devised for NVIDIA GPUs.\n",
    "\n",
    "`gtscript.stencil()` returns a callable object (henceforth referred to as **stencil object**) which exposes a high-level entry-point to the generated code.\n",
    "\n",
    "It is worth mentioning that the generated code, binaries and bindings are cached for future usages. If you prefer not to rely on this caching mechanism, you should pass the keyword argument `rebuild=True` to `gtscript.stencil()`."
   ]
  },
  {
   "cell_type": "code",
   "execution_count": 4,
   "metadata": {},
   "outputs": [
    {
     "name": "stdout",
     "output_type": "stream",
     "text": [
      "11 s ± 0 ns per loop (mean ± std. dev. of 1 run, 1 loop each)\n",
      "9.44 ms ± 0 ns per loop (mean ± std. dev. of 1 run, 1 loop each)\n"
     ]
    }
   ],
   "source": [
    "# trigger compilation\n",
    "%timeit -n 1 -r 1 gtscript.stencil(definition=leapfrog_defs, backend=backend, rebuild=True)\n",
    "# exploit cache\n",
    "%timeit -n 1 -r 1 gtscript.stencil(definition=leapfrog_defs, backend=backend)"
   ]
  },
  {
   "cell_type": "markdown",
   "metadata": {},
   "source": [
    "## Storages"
   ]
  },
  {
   "cell_type": "markdown",
   "metadata": {},
   "source": [
    "GT4Py provides data storages to hold three-dimensional fields which sit on structured grids. The following figure shows how the array elements (green boxes) map to the grid points (grey dots). The pairs between square brackets represent the element indices in a horizontal slice of the storage."
   ]
  },
  {
   "cell_type": "markdown",
   "metadata": {},
   "source": [
    "![storage](img/storage.png)"
   ]
  },
  {
   "cell_type": "markdown",
   "metadata": {},
   "source": [
    "The storages subclass `numpy.ndarray`. (This will change soon, since inheriting from a `numpy.ndarray` is considered not-so-good practice nowadays. Adhering to [NEP 18](https://numpy.org/neps/nep-0018-array-function-protocol.html), storages will be coded as duck-arrays which implement the `__array_function__` protocol). So storages feature the same high-level API of `numpy.ndarray`. Particularly, the user interface hides as much as possible all low-level and backend-specific details, like the memory layout, strides, padding, etc.. All these aspects are handled internally by GT4Py in a trasparent fashion.\n",
    "\n",
    "The module `gt4py.storage` exposes useful utilities to either allocate a GT4Py storage, or convert a `numpy.ndarray` into a GT4Py storage. When instantiating a storage, care should be taken to the so-called `default_origin`. This represents the element which is aligned in memory. We will see in the next section an empirical way to set this parameter."
   ]
  },
  {
   "cell_type": "code",
   "execution_count": 5,
   "metadata": {},
   "outputs": [],
   "source": [
    "# grid size\n",
    "nx = 128\n",
    "ny = 128\n",
    "nz = 64\n",
    "\n",
    "# storage shape\n",
    "shape = (nx, ny, nz)\n",
    "\n",
    "# default origin (trust it for now!)\n",
    "default_origin = (1, 1, 0)\n",
    "\n",
    "# allocate an empty storage\n",
    "phi_new = gt.storage.empty(backend, default_origin, shape, dtype=float)\n",
    "\n",
    "# allocate a storage filled with zeros\n",
    "v = gt.storage.zeros(backend, default_origin, shape, dtype=float)\n",
    "\n",
    "# allocate a storage filled with ones\n",
    "u = gt.storage.zeros(backend, default_origin, shape, dtype=float)\n",
    "\n",
    "# create storages out of numpy.ndarrays\n",
    "phi_old = gt.storage.from_array(np.random.rand(*shape), backend, default_origin)\n",
    "phi_now = gt.storage.from_array(np.random.rand(*shape), backend, default_origin)"
   ]
  },
  {
   "cell_type": "markdown",
   "metadata": {},
   "source": [
    "## Running computations"
   ]
  },
  {
   "cell_type": "markdown",
   "metadata": {},
   "source": [
    "Executing stencil computations is as simple as a function call:"
   ]
  },
  {
   "cell_type": "code",
   "execution_count": 6,
   "metadata": {},
   "outputs": [],
   "source": [
    "leapfrog(\n",
    "    u=u,\n",
    "    v=v,\n",
    "    phi_old=phi_old,\n",
    "    phi_now=phi_now,\n",
    "    phi_new=phi_new,\n",
    "    dt=1.0,\n",
    "    dx=1.0,\n",
    "    dy=1.0,\n",
    "    origin=(1, 1, 0),\n",
    "    domain=(nx - 2, ny - 2, nz)\n",
    ")"
   ]
  },
  {
   "cell_type": "markdown",
   "metadata": {},
   "source": [
    "The stencil object retains the same signature of its definition function and adds two additional parameters: `origin` and `domain`. The former specifies the first element of the output field `phi_new` for which a new value should be computed. In other terms, it represents the origin of the region of application (or **computation domain**) of the stencil. The extent of the region of application is determined by `domain`. Here a schematic visualization of the two concepts:"
   ]
  },
  {
   "cell_type": "markdown",
   "metadata": {},
   "source": [
    "![halo](img/halo.png)"
   ]
  },
  {
   "cell_type": "markdown",
   "metadata": {},
   "source": [
    "The blue area denotes the computation domain, i.e. where values for `phi_new` can be computed and stored. On the other hand, the red boxes form the **boundary region** where values for `phi_new` cannot be calculated, but where the input fields `u`, `v` and `phi_now` are read. It should be remarked that the figure showcases the *largest* possible computation domain. It is possible to restrict the application of the stencil to a subset of largest feasible computation domain, provided that the following conditions are satisfied:"
   ]
  },
  {
   "cell_type": "code",
   "execution_count": 7,
   "metadata": {},
   "outputs": [],
   "source": [
    "# stencil halo\n",
    "stencil_extent = (1, 1, 0)\n",
    "\n",
    "# storage shape\n",
    "buffer_shape = (nx, ny, nz)\n",
    "\n",
    "# stencil origin\n",
    "origin = (1, 1, 0)\n",
    "\n",
    "# stencil computation domain\n",
    "domain = (nx - 2, ny - 2, nz)\n",
    "\n",
    "# requirements\n",
    "assert all(origin[i] >= stencil_extent[i] for i in range(3))\n",
    "assert all(origin[i] + domain[i] <= buffer_shape[i] - stencil_extent[i] for i in range(3))"
   ]
  },
  {
   "cell_type": "markdown",
   "metadata": {},
   "source": [
    "It should also be noted that the binding between the symbols used within the definition function and the storage buffers happens at invocation time. This implies that the stencil object is not bound to any given grid size. Therefore the same stencil computation can be run on different grids and/or computation domains without any re-compilation."
   ]
  },
  {
   "cell_type": "markdown",
   "metadata": {},
   "source": [
    "## Sub-routines"
   ]
  },
  {
   "cell_type": "markdown",
   "metadata": {},
   "source": [
    "GTScript allows the user to call a customed function (sub-routine) inside a computation block. This function can accept both fields and scalar coefficients, performs stencil operations, and eventually returns one or multiple fields. One should intend a sub-routine as a macro which is automatically expanded by the GT4Py pipeline. So there is little performance penalty associated with sub-routines. This is at contrast with regular Python functions, whose invocation may entail significant overheads. To make a function callable from within a stencil, use the `gtscript.function` decorator."
   ]
  },
  {
   "cell_type": "code",
   "execution_count": 14,
   "metadata": {},
   "outputs": [],
   "source": [
    "@gtscript.function\n",
    "def centered_diff_x(dx, u, phi):\n",
    "    return (phi[1, 0, 0] * u[1, 0, 0] - phi[-1, 0, 0] * u[-1, 0, 0]) / (2.0 * dx)\n",
    "\n",
    "@gtscript.function\n",
    "def centered_diff_y(dy, v, phi):\n",
    "    return (phi[0, 1, 0] * v[0, 1, 0] - phi[0, -1, 0] * v[0, -1, 0]) / (2.0 * dy)\n",
    "\n",
    "def leapfrog_subroutines_defs(\n",
    "    u: gtscript.Field[float], \n",
    "    v: gtscript.Field[float], \n",
    "    phi_old: gtscript.Field[float], \n",
    "    phi_now: gtscript.Field[float],\n",
    "    phi_new: gtscript.Field[float],\n",
    "    *,\n",
    "    dt: float,\n",
    "    dx: float,\n",
    "    dy: float\n",
    "):\n",
    "    from __gtscript__ import PARALLEL, computation, interval\n",
    "    from __externals__ import centered_diff_x, centered_diff_y\n",
    "    \n",
    "    with computation(PARALLEL), interval(...):\n",
    "        dphi_dx = centered_diff_x(dx, u, phi_now)\n",
    "        dphi_dy = centered_diff_y(dy, v, phi_now)\n",
    "        phi_new = phi_old - 2.0 * dt * (dphi_dx + dphi_dy)"
   ]
  },
  {
   "cell_type": "markdown",
   "metadata": {},
   "source": [
    "(Please note that `field[0, 0, 0]` can be shortened to `field`.) Sub-routines are imported within the definition function as external symbols. The map between the symbols and the actual function objects is set at compilation time through the `externals` dictionary:"
   ]
  },
  {
   "cell_type": "code",
   "execution_count": 15,
   "metadata": {},
   "outputs": [],
   "source": [
    "leapfrog_subroutines = gtscript.stencil(\n",
    "    definition=leapfrog_subroutines_defs, \n",
    "    backend=backend, \n",
    "    externals={\"centered_diff_x\": centered_diff_x, \"centered_diff_y\": centered_diff_y}\n",
    ")"
   ]
  },
  {
   "cell_type": "markdown",
   "metadata": {},
   "source": [
    "The systematic use of sub-routines may avoid duplicated code and improve readability, without introducing unacceptable overheads. The latter statement can be easily validated on our simple example:"
   ]
  },
  {
   "cell_type": "code",
   "execution_count": 16,
   "metadata": {},
   "outputs": [
    {
     "name": "stdout",
     "output_type": "stream",
     "text": [
      "1.99 ms ± 28.6 µs per loop (mean ± std. dev. of 7 runs, 100 loops each)\n",
      "2.09 ms ± 2.55 µs per loop (mean ± std. dev. of 7 runs, 100 loops each)\n"
     ]
    }
   ],
   "source": [
    "fields = {\"u\": u, \"v\": v, \"phi_old\": phi_old, \"phi_now\": phi_now, \"phi_new\": phi_new}\n",
    "scalars = {\"dt\": 1.0, \"dx\": 1.0, \"dy\": 1.0}\n",
    "%timeit leapfrog(**fields, **scalars, origin=(1, 1, 0), domain=(nx - 2, ny - 2, nz))\n",
    "%timeit leapfrog_subroutines(**fields, **scalars, origin=(1, 1, 0), domain=(nx - 2, ny - 2, nz))"
   ]
  },
  {
   "cell_type": "markdown",
   "metadata": {},
   "source": [
    "## Run-time conditionals"
   ]
  },
  {
   "cell_type": "markdown",
   "metadata": {},
   "source": [
    "GT4Py supports all binary operators and ternary operators. The latter are also known as conditional expressions in Python, and can be used to calculate the absolute value of a field:"
   ]
  },
  {
   "cell_type": "code",
   "execution_count": 11,
   "metadata": {},
   "outputs": [],
   "source": [
    "@gtscript.function\n",
    "def absolute_value(phi):\n",
    "    return phi if phi > 0 else -phi"
   ]
  },
  {
   "cell_type": "markdown",
   "metadata": {},
   "source": [
    "The ternary operator can also be split into an if-statement followed by an else-statement:"
   ]
  },
  {
   "cell_type": "code",
   "execution_count": 13,
   "metadata": {},
   "outputs": [],
   "source": [
    "@gtscript.function\n",
    "def absolute_value(phi):\n",
    "    if phi > 0:\n",
    "        out = phi\n",
    "    else:\n",
    "        out = -phi\n",
    "    return out"
   ]
  },
  {
   "cell_type": "markdown",
   "metadata": {},
   "source": [
    "Another notable example where run-time conditionals come in handy is the numerical integration of the hyperbolic equation\n",
    "\n",
    "\\begin{equation}\n",
    "    \\frac{\\partial \\phi}{\\partial t} + \\frac{\\partial \\phi u}{\\partial x} + \\frac{\\partial \\phi v}{\\partial y} = 0 \\, .\n",
    "\\end{equation}\n",
    "\n",
    "by the upwind scheme:\n",
    "\n",
    "\\begin{equation}\n",
    "    F_{i,j} =\n",
    "    \\begin{cases}\n",
    "        & \\left( \\phi_{i,j} \\, u_{i,j} - \\phi_{i-1,j} \\, u_{i-1,j} \\right) / \\Delta x \\qquad \\text{if $u_{i,j} > 0$} \\\\\n",
    "        & \\left( \\phi_{i+1,j} \\, u_{i+1,j} - \\phi_{i,j} \\, u_{i,j} \\right) / \\Delta x \\qquad \\text{if $u_{i,j} < 0$}\n",
    "    \\end{cases} \\\\\n",
    "    G_{i,j} =\n",
    "    \\begin{cases}\n",
    "        & \\left( \\phi_{i,j} \\, v_{i,j} - \\phi_{i,j-1} \\, v_{i,j-1} \\right) / \\Delta y \\qquad \\text{if $v_{i,j} > 0$} \\\\\n",
    "        & \\left( \\phi_{i,j+1} \\, v_{i,j+1} - \\phi_{i,j} \\, v_{i,j} \\right) / \\Delta y \\qquad \\text{if $v_{i,j} < 0$}\n",
    "    \\end{cases} \\\\\n",
    "    \\phi_{i,j}^{n+1} = \\phi_{i,j}^n - \\Delta t \\left( F_{i,j}^n + G_{i,j}^n \\right) \\, .\n",
    "\\end{equation}"
   ]
  },
  {
   "cell_type": "code",
   "execution_count": 32,
   "metadata": {},
   "outputs": [],
   "source": [
    "@gtscript.function\n",
    "def upwind_diff_x(dx, u, phi):\n",
    "    out = (\n",
    "        (phi[0, 0, 0] * u[0, 0, 0] - phi[-1, 0, 0] * u[-1, 0, 0]) / dx\n",
    "        if u > 0 else\n",
    "        (phi[1, 0, 0] * u[1, 0, 0] - phi[0, 0, 0] * u[0, 0, 0]) / dx\n",
    "    )\n",
    "    return out\n",
    "\n",
    "@gtscript.function\n",
    "def upwind_diff_y(dy, v, phi):\n",
    "    out = (\n",
    "        (phi[0, 0, 0] * v[0, 0, 0] - phi[0, -1, 0] * v[0, -1, 0]) / dy\n",
    "        if v > 0 else\n",
    "        (phi[0, 1, 0] * v[0, 1, 0] - phi[0, 0, 0] * v[0, 0, 0]) / dy\n",
    "    )\n",
    "    return out\n",
    "\n",
    "def upwind_defs(\n",
    "    u: gtscript.Field[float], \n",
    "    v: gtscript.Field[float], \n",
    "    phi_now: gtscript.Field[float],\n",
    "    phi_new: gtscript.Field[float],\n",
    "    *,\n",
    "    dt: float,\n",
    "    dx: float,\n",
    "    dy: float\n",
    "):\n",
    "    from __gtscript__ import PARALLEL, computation, interval\n",
    "    from __externals__ import upwind_diff_x, upwind_diff_y\n",
    "    \n",
    "    with computation(PARALLEL), interval(...):\n",
    "        dphi_dx = upwind_diff_x(dx, u, phi_now)\n",
    "        dphi_dy = upwind_diff_y(dy, v, phi_now)\n",
    "        phi_new = phi_now - dt * (dphi_dx + dphi_dy)"
   ]
  },
  {
   "cell_type": "markdown",
   "metadata": {},
   "source": [
    "## Compile-time conditionals"
   ]
  },
  {
   "cell_type": "markdown",
   "metadata": {},
   "source": [
    "A more sophisticated control flow statement consists of an if-else construct which queries a **scalar** quantity whose value is known at the stencil compile-time. Such scalar quantity is made available inside the stencil definition as an external symbol and read through the `__INLINED()` accessor. This technique allows to fuse the `leapfrog` and `upwind` stencils into a stencil upon the introduction of the `UPWINDING` flag."
   ]
  },
  {
   "cell_type": "code",
   "execution_count": 35,
   "metadata": {},
   "outputs": [],
   "source": [
    "def horizontal_advection_defs(\n",
    "    u: gtscript.Field[float], \n",
    "    v: gtscript.Field[float], \n",
    "    phi_old: gtscript.Field[float],\n",
    "    phi_now: gtscript.Field[float],\n",
    "    phi_new: gtscript.Field[float],\n",
    "    *,\n",
    "    dt: float,\n",
    "    dx: float,\n",
    "    dy: float\n",
    "):\n",
    "    from __gtscript__ import __INLINED, PARALLEL, computation, interval\n",
    "    from __externals__ import UPWINDING, centered_diff_x, centered_diff_y, upwind_diff_x, upwind_diff_y\n",
    "    \n",
    "    with computation(PARALLEL), interval(...):\n",
    "        if __INLINED(UPWINDING):\n",
    "            dphi_dx = upwind_diff_x(dx, u, phi_now)\n",
    "            dphi_dy = upwind_diff_y(dy, v, phi_now)\n",
    "            phi_new = phi_now - dt * (dphi_dx + dphi_dy)\n",
    "        else:\n",
    "            dphi_dx = centered_diff_x(dx, u, phi_now)\n",
    "            dphi_dy = centered_diff_y(dy, v, phi_now)\n",
    "            phi_new = phi_old - 2.0 * dt * (dphi_dx + dphi_dy)\n",
    "            \n",
    "horizontal_advection = gtscript.stencil(\n",
    "    definition=horizontal_advection_defs, \n",
    "    backend=backend, \n",
    "    externals={\n",
    "        \"UPWINDING\": True,\n",
    "        \"centered_diff_x\": centered_diff_x,\n",
    "        \"centered_diff_y\": centered_diff_y,\n",
    "        \"upwind_diff_x\": upwind_diff_x,\n",
    "        \"upwind_diff_y\": upwind_diff_y\n",
    "    }\n",
    ")"
   ]
  },
  {
   "cell_type": "markdown",
   "metadata": {},
   "source": []
  },
  {
   "cell_type": "markdown",
   "metadata": {},
   "source": [
    "## Vertical direction"
   ]
  }
 ],
 "metadata": {
  "kernelspec": {
   "display_name": "HPC4WC_kernel",
   "language": "python",
   "name": "hpc4wc_kernel"
  },
  "language_info": {
   "codemirror_mode": {
    "name": "ipython",
    "version": 3
   },
   "file_extension": ".py",
   "mimetype": "text/x-python",
   "name": "python",
   "nbconvert_exporter": "python",
   "pygments_lexer": "ipython3",
   "version": "3.6.5"
  }
 },
 "nbformat": 4,
 "nbformat_minor": 4
}
