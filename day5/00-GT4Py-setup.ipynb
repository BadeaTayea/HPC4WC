{
 "cells": [
  {
   "cell_type": "markdown",
   "id": "7f45c48e-2b05-4265-8b2c-f057db7cb09f",
   "metadata": {
    "tags": []
   },
   "source": [
    "# Setting up GT4Py"
   ]
  },
  {
   "cell_type": "markdown",
   "id": "98f879ae-a37f-4f49-8478-688d761b94ba",
   "metadata": {},
   "source": [
    "In order to use GT4Py in our Jupyter Notebook environment, we need to install the GT4Py package. You only need to run this part once before starting the exercises."
   ]
  },
  {
   "cell_type": "code",
   "execution_count": null,
   "id": "7be7863e-150e-478a-a2b5-cc4543b0a9a5",
   "metadata": {},
   "outputs": [],
   "source": [
    "%pip install git+https://github.com/ai2cm/gt4py.git@50503087eae255be4bb2cc5ede0da27f3696e424"
   ]
  },
  {
   "cell_type": "markdown",
   "id": "6ced2081-04b7-491a-a498-b4149cb2b25a",
   "metadata": {},
   "source": [
    "We also need to set some environment variables in order for GT4Py to find the Boost installation. You might have to re-executed this in your notebook in order for things to work."
   ]
  },
  {
   "cell_type": "code",
   "execution_count": 1,
   "id": "4314dc50-88f4-4d65-8dea-342b77cbb4d9",
   "metadata": {},
   "outputs": [
    {
     "name": "stdout",
     "output_type": "stream",
     "text": [
      "env: CMAKE_PREFIX_PATH=/apps/daint/UES/jenkins/7.0.UP03/21.09/daint-gpu/software/Boost/1.78.0-CrayGNU-21.09-python3\n",
      "env: LD_LIBRARY_PATH=/apps/daint/UES/jenkins/7.0.UP03/21.09/daint-gpu/software/Boost/1.78.0-CrayGNU-21.09-python3/lib\n",
      "env: BOOST_ROOT=/apps/daint/UES/jenkins/7.0.UP03/21.09/daint-gpu/software/Boost/1.78.0-CrayGNU-21.09-python3\n",
      "env: CPATH=/apps/daint/UES/jenkins/7.0.UP03/21.09/daint-gpu/software/Boost/1.78.0-CrayGNU-21.09-python3/include\n",
      "env: LIBRARY_PATH=/apps/daint/UES/jenkins/7.0.UP03/21.09/daint-gpu/software/Boost/1.78.0-CrayGNU-21.09-python3/lib\n"
     ]
    }
   ],
   "source": [
    "%env CMAKE_PREFIX_PATH=/apps/daint/UES/jenkins/7.0.UP03/21.09/daint-gpu/software/Boost/1.78.0-CrayGNU-21.09-python3\n",
    "%env LD_LIBRARY_PATH=/apps/daint/UES/jenkins/7.0.UP03/21.09/daint-gpu/software/Boost/1.78.0-CrayGNU-21.09-python3/lib\n",
    "%env BOOST_ROOT=/apps/daint/UES/jenkins/7.0.UP03/21.09/daint-gpu/software/Boost/1.78.0-CrayGNU-21.09-python3\n",
    "%env CPATH=/apps/daint/UES/jenkins/7.0.UP03/21.09/daint-gpu/software/Boost/1.78.0-CrayGNU-21.09-python3/include\n",
    "%env LIBRARY_PATH=/apps/daint/UES/jenkins/7.0.UP03/21.09/daint-gpu/software/Boost/1.78.0-CrayGNU-21.09-python3/lib"
   ]
  },
  {
   "cell_type": "code",
   "execution_count": null,
   "id": "818f3faf-1de3-4264-870c-bb62604ee6fc",
   "metadata": {},
   "outputs": [],
   "source": []
  }
 ],
 "metadata": {
  "kernelspec": {
   "display_name": "Python 3 (ipykernel)",
   "language": "python",
   "name": "python3"
  },
  "language_info": {
   "codemirror_mode": {
    "name": "ipython",
    "version": 3
   },
   "file_extension": ".py",
   "mimetype": "text/x-python",
   "name": "python",
   "nbconvert_exporter": "python",
   "pygments_lexer": "ipython3",
   "version": "3.9.4"
  }
 },
 "nbformat": 4,
 "nbformat_minor": 5
}
