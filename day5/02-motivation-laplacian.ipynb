{
 "cells": [
  {
   "cell_type": "markdown",
   "metadata": {},
   "source": [
    "# Why GT4Py?"
   ]
  },
  {
   "cell_type": "markdown",
   "metadata": {},
   "source": [
    "## NumPy"
   ]
  },
  {
   "cell_type": "code",
   "execution_count": 2,
   "metadata": {},
   "outputs": [
    {
     "name": "stdout",
     "output_type": "stream",
     "text": [
      "306 ms ± 1.11 ms per loop (mean ± std. dev. of 7 runs, 1 loop each)\n"
     ]
    }
   ],
   "source": [
    "import numpy as np\n",
    "\n",
    "shape = (512, 512, 128)\n",
    "\n",
    "def lap_numpy(phi, lap):\n",
    "    lap[1:-1, 1:-1] = (\n",
    "        - 4. * phi[1:-1, 1:-1]\n",
    "        +      phi[ :-2, 1:-1]\n",
    "        +      phi[  2:, 1:-1]\n",
    "        +      phi[1:-1,  :-2]\n",
    "        +      phi[1:-1,   2:]\n",
    "    )\n",
    "    \n",
    "phi = np.random.rand(*shape)\n",
    "lap = np.empty_like(phi)\n",
    "\n",
    "%timeit lap_numpy(phi, lap)"
   ]
  },
  {
   "cell_type": "markdown",
   "metadata": {},
   "source": [
    "## CuPy - C-style"
   ]
  },
  {
   "cell_type": "code",
   "execution_count": 4,
   "metadata": {},
   "outputs": [
    {
     "name": "stdout",
     "output_type": "stream",
     "text": [
      "7.94 ms ± 28.4 ns per loop (mean ± std. dev. of 7 runs, 1000 loops each)\n"
     ]
    }
   ],
   "source": [
    "import cupy as cp\n",
    "\n",
    "shape = (512, 512, 128)\n",
    "\n",
    "def lap_cupy_c(phi, lap):\n",
    "    lap[1:-1, 1:-1] = (\n",
    "        - 4. * phi[1:-1, 1:-1]\n",
    "        +      phi[ :-2, 1:-1]\n",
    "        +      phi[  2:, 1:-1]\n",
    "        +      phi[1:-1,  :-2]\n",
    "        +      phi[1:-1,   2:]\n",
    "    )\n",
    "    \n",
    "phi = cp.random.rand(*shape)\n",
    "lap = cp.empty_like(phi)\n",
    "\n",
    "%timeit lap_cupy_c(phi, lap)"
   ]
  },
  {
   "cell_type": "markdown",
   "metadata": {},
   "source": [
    "## CuPy - F-style"
   ]
  },
  {
   "cell_type": "code",
   "execution_count": 5,
   "metadata": {},
   "outputs": [
    {
     "name": "stdout",
     "output_type": "stream",
     "text": [
      "11.3 ms ± 20.7 ns per loop (mean ± std. dev. of 7 runs, 1000 loops each)\n"
     ]
    }
   ],
   "source": [
    "import cupy as cp\n",
    "\n",
    "shape = (128, 512, 512)\n",
    "\n",
    "def lap_cupy_f(phi, lap):\n",
    "    lap[:, 1:-1, 1:-1] = (\n",
    "        - 4. * phi[:, 1:-1, 1:-1]\n",
    "        +      phi[:, 1:-1,  :-2]\n",
    "        +      phi[:, 1:-1,   2:]\n",
    "        +      phi[:,  :-2, 1:-1]\n",
    "        +      phi[:,   2:, 1:-1]\n",
    "    )\n",
    "    \n",
    "phi = cp.random.rand(*shape)\n",
    "lap = cp.empty_like(phi)\n",
    "\n",
    "%timeit lap_cupy_f(phi, lap)"
   ]
  },
  {
   "cell_type": "markdown",
   "metadata": {},
   "source": [
    "## GT4Py"
   ]
  },
  {
   "cell_type": "code",
   "execution_count": 9,
   "metadata": {},
   "outputs": [
    {
     "name": "stdout",
     "output_type": "stream",
     "text": [
      "1.44 ms ± 789 ns per loop (mean ± std. dev. of 7 runs, 1000 loops each)\n"
     ]
    }
   ],
   "source": [
    "import gt4py as gt\n",
    "from gt4py import gtscript\n",
    "import numpy as np\n",
    "\n",
    "backend = \"gtcuda\"\n",
    "shape = (512, 512, 128)\n",
    "\n",
    "@gtscript.stencil(backend=backend, verbose=True)\n",
    "def lap_gt4py(phi: gtscript.Field[float], lap: gtscript.Field[float]):\n",
    "    with computation(PARALLEL), interval(...):\n",
    "        lap = (\n",
    "            - 4. * phi[ 0,  0, 0]\n",
    "            +      phi[-1,  0, 0]\n",
    "            +      phi[+1,  0, 0]\n",
    "            +      phi[ 0, -1, 0]\n",
    "            +      phi[ 0, +1, 0]\n",
    "        )\n",
    "        \n",
    "phi_np = np.random.rand(*shape)\n",
    "phi = gt.storage.from_array(phi_np, backend, (1, 1, 0))\n",
    "lap = gt.storage.empty(backend, (1, 1, 0), shape, float)\n",
    "\n",
    "domain = (shape[0] - 2, shape[1] - 2, shape[2])\n",
    "\n",
    "lap_gt4py(phi=phi, lap=lap, origin=(1, 1, 0), domain=domain)\n",
    "%timeit lap_gt4py(phi=phi, lap=lap, origin=(1, 1, 0), domain=domain)"
   ]
  }
 ],
 "metadata": {
  "kernelspec": {
   "display_name": "Python 3",
   "language": "python",
   "name": "python3"
  },
  "language_info": {
   "codemirror_mode": {
    "name": "ipython",
    "version": 3
   },
   "file_extension": ".py",
   "mimetype": "text/x-python",
   "name": "python",
   "nbconvert_exporter": "python",
   "pygments_lexer": "ipython3",
   "version": "3.6.5"
  }
 },
 "nbformat": 4,
 "nbformat_minor": 4
}
