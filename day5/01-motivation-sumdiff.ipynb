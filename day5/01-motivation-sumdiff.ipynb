{
 "cells": [
  {
   "cell_type": "markdown",
   "metadata": {},
   "source": [
    "# Why GT4Py?"
   ]
  },
  {
   "cell_type": "markdown",
   "metadata": {},
   "source": [
    "## NumPy"
   ]
  },
  {
   "cell_type": "code",
   "execution_count": 1,
   "metadata": {},
   "outputs": [
    {
     "name": "stdout",
     "output_type": "stream",
     "text": [
      "186 ms ± 288 µs per loop (mean ± std. dev. of 7 runs, 1 loop each)\n"
     ]
    }
   ],
   "source": [
    "import numpy as np\n",
    "\n",
    "shape = (512, 512, 128)\n",
    "\n",
    "def f_numpy(a, b, c, d):\n",
    "    d[...] = a + b - c\n",
    "    \n",
    "a = np.random.rand(*shape)\n",
    "b = np.random.rand(*shape)\n",
    "c = np.random.rand(*shape)\n",
    "d = np.empty_like(a)\n",
    "\n",
    "%timeit f_numpy(a, b, c, d)"
   ]
  },
  {
   "cell_type": "markdown",
   "metadata": {},
   "source": [
    "## CuPy"
   ]
  },
  {
   "cell_type": "code",
   "execution_count": 2,
   "metadata": {},
   "outputs": [
    {
     "name": "stdout",
     "output_type": "stream",
     "text": [
      "3.93 ms ± 25.6 ns per loop (mean ± std. dev. of 7 runs, 1000 loops each)\n"
     ]
    }
   ],
   "source": [
    "import cupy as cp\n",
    "\n",
    "shape = (512, 512, 128)\n",
    "\n",
    "def f_cupy(a, b, c, d):\n",
    "    d[...] = a + b - c\n",
    "    \n",
    "a = cp.random.rand(*shape)\n",
    "b = cp.random.rand(*shape)\n",
    "c = cp.random.rand(*shape)\n",
    "d = cp.empty_like(a)\n",
    "\n",
    "%timeit f_cupy(a, b, c, d)"
   ]
  },
  {
   "cell_type": "markdown",
   "metadata": {},
   "source": [
    "## GT4Py"
   ]
  },
  {
   "cell_type": "code",
   "execution_count": 4,
   "metadata": {},
   "outputs": [
    {
     "name": "stdout",
     "output_type": "stream",
     "text": [
      "24 ms ± 31.7 µs per loop (mean ± std. dev. of 7 runs, 10 loops each)\n"
     ]
    }
   ],
   "source": [
    "import gt4py as gt\n",
    "from gt4py import gtscript\n",
    "import numpy as np\n",
    "\n",
    "backend = \"gtx86\"\n",
    "shape = (512, 512, 128)\n",
    "\n",
    "@gtscript.stencil(backend=backend, verbose=True)\n",
    "def f_gt4py(a: gtscript.Field[float], b: gtscript.Field[float], c: gtscript.Field[float], d: gtscript.Field[float]):\n",
    "    with computation(PARALLEL), interval(...):\n",
    "        d = a + b - c\n",
    "        \n",
    "a_np = np.random.rand(*shape)\n",
    "b_np = np.random.rand(*shape)\n",
    "c_np = np.random.rand(*shape)\n",
    "\n",
    "a = gt.storage.from_array(a_np, backend, (0, 0, 0))\n",
    "b = gt.storage.from_array(b_np, backend, (0, 0, 0))\n",
    "c = gt.storage.from_array(c_np, backend, (0, 0, 0))\n",
    "d = gt.storage.empty(backend, (0, 0, 0), shape, float)\n",
    "\n",
    "f_gt4py(a=a, b=b, c=c, d=d, origin=(0, 0, 0), domain=shape)\n",
    "%timeit f_gt4py(a=a, b=b, c=c, d=d, origin=(0, 0, 0), domain=shape)"
   ]
  }
 ],
 "metadata": {
  "kernelspec": {
   "display_name": "Python 3",
   "language": "python",
   "name": "python3"
  },
  "language_info": {
   "codemirror_mode": {
    "name": "ipython",
    "version": 3
   },
   "file_extension": ".py",
   "mimetype": "text/x-python",
   "name": "python",
   "nbconvert_exporter": "python",
   "pygments_lexer": "ipython3",
   "version": "3.6.5"
  }
 },
 "nbformat": 4,
 "nbformat_minor": 4
}
