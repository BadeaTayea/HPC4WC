{
 "cells": [
  {
   "cell_type": "markdown",
   "metadata": {},
   "source": [
    "# Analyzing a Fortran Stencil Program"
   ]
  },
  {
   "cell_type": "code",
   "execution_count": 1,
   "metadata": {},
   "outputs": [],
   "source": [
    "import numpy as np\n",
    "import matplotlib\n",
    "import matplotlib.pyplot as plt"
   ]
  },
  {
   "cell_type": "markdown",
   "metadata": {},
   "source": [
    "## Understanding\n",
    "\n",
    "Open the <tt>stencil2d-orig.F90</tt> Fortran program by double clicking on the file in the File Browser on the left (if it is hidden, click on the Folder icon).\n",
    "\n",
    "![open-stencil2d](img/open-stencil2d.png)\n",
    "\n",
    "If you prefer, you can also open a new Terminal (File -> New -> Terminal), navigate to the location where <tt>stencil2d-orig.F90</tt> is located and use your favorite linux editor (e.g. vim) to browse the Fortran source code. This will give you better syntax highlighting."
   ]
  },
  {
   "cell_type": "markdown",
   "metadata": {},
   "source": [
    "<div class=\"alert alert-block alert-info\">\n",
    "<b>Now it's your turn...</b><br>\n",
    "<b>1.</b> Read the code of <tt>stencil2d-orig.F90</tt> and understand what the program is doing.<br>\n",
    "<b>2.</b> Compile the code and run it (see below).<br>\n",
    "<b>3.</b> In the source code <tt>stencil2d-counters.F90</tt> there are two global variables of type <tt>integer</tt> named <tt>flop_counter</tt> and <tt>byte_counter</tt>. Edit the program to count the number of floating-point operations and bytes transferred to/from memory. Compile and run.<br>\n",
    "</div>"
   ]
  },
  {
   "cell_type": "markdown",
   "metadata": {},
   "source": [
    "## Compiling\n",
    "\n",
    "On Piz Daint, the programming environment is managed using so called modules. We need to load the right modules in order to compile our program. We are going to use the Cray Fortran compiler (<tt>PrgEnv-cray</tt>) for this exercise. (Note: If we are using <tt>%%bash</tt> cell magic, these commands need to be repeated every time to setup the right environment."
   ]
  },
  {
   "cell_type": "code",
   "execution_count": 2,
   "metadata": {},
   "outputs": [
    {
     "name": "stdout",
     "output_type": "stream",
     "text": [
      "rm -f -rf *~ *.o *.mod *.MOD *.i *.x *.x+orig *.x+[0-9]* core.* *.out\n",
      "ftn -eZ -ffree -N255 -ec -eC -eI -eF -c m_utils.F90\n",
      "ftn -eZ -ffree -N255 -ec -eC -eI -eF -c stencil2d-orig.F90\n",
      "ftn -eZ -ffree -N255 -ec -eC -eI -eF m_utils.o stencil2d-orig.o -o stencil2d-orig.x\n",
      "cp stencil2d-orig.x stencil2d.x\n"
     ]
    },
    {
     "name": "stderr",
     "output_type": "stream",
     "text": [
      "INFO: creating the CrayPat-instrumented executable 'stencil2d-orig.x' (lite-samples) ...OK\n"
     ]
    }
   ],
   "source": [
    "%%bash\n",
    "module load daint-gpu\n",
    "module switch PrgEnv-gnu PrgEnv-cray\n",
    "module load perftools-lite\n",
    "\n",
    "make clean\n",
    "make VERSION=orig"
   ]
  },
  {
   "cell_type": "markdown",
   "metadata": {},
   "source": [
    "## Running\n",
    "\n",
    "We can run our program on all 12 cores of the Xeon E5-2690 v3 Haswell CPU that we have available using the <tt>srun</tt> command. The command line arguments <tt>nx, ny, nz, num_iter</tt> specify the size of the computational domain as well as the number of iterations."
   ]
  },
  {
   "cell_type": "code",
   "execution_count": 3,
   "metadata": {},
   "outputs": [
    {
     "name": "stderr",
     "output_type": "stream",
     "text": [
      "srun: Job 22970023 step creation temporarily disabled, retrying (Requested nodes are busy)\n",
      "srun: Step created for job 22970023\n"
     ]
    }
   ],
   "source": [
    "%%bash --out stdout\n",
    "srun -n 12 ./stencil2d-orig.x+orig --nx 128 --ny 128 --nz 64 --num_iter 128"
   ]
  },
  {
   "cell_type": "code",
   "execution_count": 4,
   "metadata": {},
   "outputs": [
    {
     "name": "stdout",
     "output_type": "stream",
     "text": [
      "# ranks nx ny ny nz num_iter time\n",
      "data = np.array( [ \\\n",
      "[   12,  128,  128,   64,     128,  0.1473855E+01], \\\n",
      "] )\n",
      "\n"
     ]
    }
   ],
   "source": [
    "print(stdout)\n",
    "exec(stdout)"
   ]
  },
  {
   "cell_type": "code",
   "execution_count": 5,
   "metadata": {},
   "outputs": [
    {
     "name": "stdout",
     "output_type": "stream",
     "text": [
      "ftn -eZ -ffree -N255 -ec -eC -eI -eF -c stencil2d-counters.F90\n",
      "ftn -eZ -ffree -N255 -ec -eC -eI -eF m_utils.o stencil2d-counters.o -o stencil2d-counters.x\n",
      "cp stencil2d-counters.x stencil2d.x\n"
     ]
    },
    {
     "name": "stderr",
     "output_type": "stream",
     "text": [
      "INFO: creating the CrayPat-instrumented executable 'stencil2d-counters.x' (lite-samples) ...OK\n"
     ]
    }
   ],
   "source": [
    "%%bash\n",
    "module load daint-gpu\n",
    "module switch PrgEnv-gnu PrgEnv-cray\n",
    "module load perftools-lite\n",
    "\n",
    "make VERSION=counters"
   ]
  },
  {
   "cell_type": "code",
   "execution_count": 6,
   "metadata": {},
   "outputs": [],
   "source": [
    "%%bash --out stdout\n",
    "srun -n 12 ./stencil2d-counters.x+orig --nx 128 --ny 128 --nz 64 --num_iter 128"
   ]
  },
  {
   "cell_type": "code",
   "execution_count": 7,
   "metadata": {},
   "outputs": [
    {
     "name": "stdout",
     "output_type": "stream",
     "text": [
      "# ranks nx ny ny nz num_iter time flop byte\n",
      "data = np.array( [ \\\n",
      "[   12,  128,  128,   64,     128,  0.1535960E+01,  0.3476847E+10,  0.3415646E+11], \\\n",
      "] )\n",
      "\n"
     ]
    }
   ],
   "source": [
    "print(stdout)\n",
    "exec(stdout)"
   ]
  },
  {
   "cell_type": "markdown",
   "metadata": {},
   "source": [
    "<div class=\"alert alert-block alert-info\">\n",
    "<b>Now it's your turn...</b><br>\n",
    "<b>3.</b> Compute the arithmetic intensity $I$ of our stencil program using the flop and byte counters you have introduced.<br>\n",
    "<b>4.</b> Compute the performance in GFLOP/s of our stencil program. Is our program memory bound or compute bound? Which % of peak FLOP/s and memory bandwidth do we achieve?<br>\n",
    "<b>5.</b> Run the stencil program for different <tt>nx</tt> and <tt>ny</tt> (using the <tt>--scan</tt> option, see below). Import the data into a Python notebook and make a loglog-plot of the runtime per gridpoint $r = \\mathrm{runtime} \\, / \\, nx \\, / \\, ny \\, / nz$ in $\\mu s$ versus the working set size $n = nx \\times ny \\times nz \\times 3$ in MB. What would you expect for a von Neumann architecture? What might be the reason that the behavior is different? (Note: Running with the <tt>--scan</tt> will take some time to complete. Be patient!)\n",
    "</div>"
   ]
  },
  {
   "cell_type": "code",
   "execution_count": 8,
   "metadata": {},
   "outputs": [
    {
     "name": "stdout",
     "output_type": "stream",
     "text": [
      "Arithmetic intensity = 0.10179178404319417\n"
     ]
    }
   ],
   "source": [
    "gflop_counter = data[0, 6] / 1024. / 1024. / 1024.\n",
    "gb_counter = data[0, 7] / 1024. / 1024. / 1024.\n",
    "arithmetic_intensity = gflop_counter / gb_counter\n",
    "print(\"Arithmetic intensity = {}\".format(arithmetic_intensity))"
   ]
  },
  {
   "cell_type": "code",
   "execution_count": 9,
   "metadata": {},
   "outputs": [
    {
     "name": "stdout",
     "output_type": "stream",
     "text": [
      "GFLOP/s = 2.1081708505326326 ( 0.844% theoretical peak)    GB/s = 20.710618939914195 (32.580% theoretical peak)\n"
     ]
    }
   ],
   "source": [
    "runtime = data[0, 5]\n",
    "peak_bandwidth_in_gbs = 63.5683536529541\n",
    "peak_performance_in_gflops = 249.69600000000003\n",
    "performance_in_gflops = gflop_counter / runtime\n",
    "bandwidth_in_gbs = gb_counter / runtime\n",
    "performance_percent_peak = performance_in_gflops / peak_performance_in_gflops * 100.\n",
    "bandwidth_percent_peak = bandwidth_in_gbs / peak_bandwidth_in_gbs * 100.\n",
    "print(\"GFLOP/s = {} ({:6.3f}% theoretical peak)    GB/s = {} ({:6.3f}% theoretical peak)\".format( \\\n",
    "    performance_in_gflops, performance_percent_peak, bandwidth_in_gbs, bandwidth_percent_peak))"
   ]
  },
  {
   "cell_type": "code",
   "execution_count": 10,
   "metadata": {},
   "outputs": [],
   "source": [
    "%%bash --out stdout\n",
    "srun -n 12 ./stencil2d-orig.x+orig --scan --nz 64 --num_iter 128"
   ]
  },
  {
   "cell_type": "code",
   "execution_count": 15,
   "metadata": {},
   "outputs": [
    {
     "name": "stdout",
     "output_type": "stream",
     "text": [
      "# ranks nx ny ny nz num_iter time\n",
      "data = np.array( [ \\\n",
      "[   12,   16,   16,   64,     128,  0.6330947E-02], \\\n",
      "[   12,   32,   16,   64,     128,  0.9917994E-02], \\\n",
      "[   12,   48,   16,   64,     128,  0.1302644E-01], \\\n",
      "[   12,   64,   16,   64,     128,  0.1636597E-01], \\\n",
      "[   12,   96,   16,   64,     128,  0.2251311E-01], \\\n",
      "[   12,  128,   16,   64,     128,  0.3314946E-01], \\\n",
      "[   12,  192,   16,   64,     128,  0.1796055E+00], \\\n",
      "[   12,   16,   32,   64,     128,  0.1240720E-01], \\\n",
      "[   12,   32,   32,   64,     128,  0.1791322E-01], \\\n",
      "[   12,   48,   32,   64,     128,  0.2383135E-01], \\\n",
      "[   12,   64,   32,   64,     128,  0.3547416E-01], \\\n",
      "[   12,   96,   32,   64,     128,  0.1658968E+00], \\\n",
      "[   12,  128,   32,   64,     128,  0.3094409E+00], \\\n",
      "[   12,  192,   32,   64,     128,  0.5271306E+00], \\\n",
      "[   12,   16,   48,   64,     128,  0.1952318E-01], \\\n",
      "[   12,   32,   48,   64,     128,  0.2622155E-01], \\\n",
      "[   12,   48,   48,   64,     128,  0.5589892E-01], \\\n",
      "[   12,   64,   48,   64,     128,  0.1597350E+00], \\\n",
      "[   12,   96,   48,   64,     128,  0.3633548E+00], \\\n",
      "[   12,  128,   48,   64,     128,  0.5359460E+00], \\\n",
      "[   12,  192,   48,   64,     128,  0.7951884E+00], \\\n",
      "[   12,   16,   64,   64,     128,  0.2828230E-01], \\\n",
      "[   12,   32,   64,   64,     128,  0.4531459E-01], \\\n",
      "[   12,   48,   64,   64,     128,  0.1596337E+00], \\\n",
      "[   12,   64,   64,   64,     128,  0.3044947E+00], \\\n",
      "[   12,   96,   64,   64,     128,  0.5398263E+00], \\\n",
      "[   12,  128,   64,   64,     128,  0.7310756E+00], \\\n",
      "[   12,  192,   64,   64,     128,  0.1050348E+01], \\\n",
      "[   12,   16,   96,   64,     128,  0.5384320E-01], \\\n",
      "[   12,   32,   96,   64,     128,  0.1669085E+00], \\\n",
      "[   12,   48,   96,   64,     128,  0.3632691E+00], \\\n",
      "[   12,   64,   96,   64,     128,  0.5468598E+00], \\\n",
      "[   12,   96,   96,   64,     128,  0.8481513E+00], \\\n",
      "[   12,  128,   96,   64,     128,  0.1113893E+01], \\\n",
      "[   12,  192,   96,   64,     128,  0.1570555E+01], \\\n",
      "[   12,   16,  128,   64,     128,  0.9985646E-01], \\\n",
      "[   12,   32,  128,   64,     128,  0.2987676E+00], \\\n",
      "[   12,   48,  128,   64,     128,  0.5660595E+00], \\\n",
      "[   12,   64,  128,   64,     128,  0.7774235E+00], \\\n",
      "[   12,   96,  128,   64,     128,  0.1140108E+01], \\\n",
      "[   12,  128,  128,   64,     128,  0.1488330E+01], \\\n",
      "[   12,  192,  128,   64,     128,  0.2113646E+01], \\\n",
      "[   12,   16,  192,   64,     128,  0.2411081E+00], \\\n",
      "[   12,   32,  192,   64,     128,  0.5918720E+00], \\\n",
      "[   12,   48,  192,   64,     128,  0.9115357E+00], \\\n",
      "[   12,   64,  192,   64,     128,  0.1192578E+01], \\\n",
      "[   12,   96,  192,   64,     128,  0.1709516E+01], \\\n",
      "[   12,  128,  192,   64,     128,  0.2213267E+01], \\\n",
      "[   12,  192,  192,   64,     128,  0.3053616E+01], \\\n",
      "] )\n",
      "\n"
     ]
    }
   ],
   "source": [
    "print(stdout)\n",
    "exec(stdout)\n",
    "data_orig = data"
   ]
  },
  {
   "cell_type": "code",
   "execution_count": 16,
   "metadata": {},
   "outputs": [
    {
     "data": {
      "image/png": "[encoded data removed]",
      "text/plain": [
       "<Figure size 720x432 with 1 Axes>"
      ]
     },
     "metadata": {
      "needs_background": "light"
     },
     "output_type": "display_data"
    }
   ],
   "source": [
    "nxnynz = data[:, 1] * data[:, 2] * data[:, 3]\n",
    "runtime = data[:, 5]\n",
    "plt.loglog( 3 * nxnynz * 4 / 1024. / 1024., runtime / nxnynz * 1.0e6 , '.');\n",
    "plt.xlabel( 'Working set size [MB]' );\n",
    "plt.ylabel( 'Runtime / gridpoint [µs]' );\n",
    "plt.grid(b=True, which='both')\n",
    "fig = matplotlib.pyplot.gcf()\n",
    "fig.set_size_inches(10, 6)"
   ]
  },
  {
   "cell_type": "markdown",
   "metadata": {},
   "source": [
    "## Performance Analysis Tool (perftool-lite)\n",
    "\n",
    "We can also use a performance analysis tool from Cray named <tt>perftools-lite</tt> to analyze the performance of our stencil program. In fact, our program has already been compiled for performance analysis with <tt>perftools-lite</tt> since we have loaded the corresponding module. <tt>stencil2d-counters.x+orig</tt> is the original executable without instrumentation for performance analysis and <tt>stencil2d-counters.x</tt> is an executable specifically prepared for performance analysis."
   ]
  },
  {
   "cell_type": "markdown",
   "metadata": {},
   "source": [
    "<div class=\"alert alert-block alert-info\">\n",
    "<b>Now it's your turn...</b><br>\n",
    "<b>6.</b> Run your program with <tt>perftools-lite</tt>. Read the report generated by <tt>perftools-lite</tt> carefully. What can you learn from the profiling?<br>\n",
    "<b>7.</b> Compare the memory transfer numbers against your values. By which factor are you off? What could be the reason?<br>\n",
    "<b>8.</b> Run again with $nx = 64$ and $ny = 32$. Did the factor by which you are off change? Is this consistent with the findings above? Do you have an idea why this might be the case?<br>\n",
    "</div>"
   ]
  },
  {
   "cell_type": "markdown",
   "metadata": {},
   "source": [
    "*Solution:* <br>\n",
    "Running at nx=128 ny=128 nz=65 and num_iter=1024 we have 255.2 GB from the counters and perftools-lite reports 128.2 GB, that's only 50% of our estimate from the counters.<br>\n",
    "Running at nx=64 ny=32 nz=64 and num_iter=1024 we have 15.42 GB from the counters and perftools-lite reports 0.08 GB, that's only 0.52% of our estimate from the counters.<br>\n",
    "The reason for the large discrepancy is that memory accesses are cached. We have 2.5 MB of L3 cache per core. A float32 field occupies 4 MB for <tt>nx x ny x nz</tt> = 128 x 128 x 64 and 0.125 MB for <tt>nx x ny x nz</tt> = 64 x 32 x 64. We have 3 fields in the code (<tt>in_field, tmp_field, out_field</tt>). In the first case we do not fit into L3 cache. In the second case, we easily fit into L3 cache and only have to read the fields once, after that they can be read from / written to in cache."
   ]
  },
  {
   "cell_type": "code",
   "execution_count": 19,
   "metadata": {},
   "outputs": [
    {
     "name": "stdout",
     "output_type": "stream",
     "text": [
      "====== 128 x 128 x 64 ======\n",
      "# ranks nx ny ny nz num_iter time flop byte\n",
      "data = np.array( [ \\\n",
      "[   12,  128,  128,   64,    1024,  0.1231850E+02,  0.2781477E+11,  0.2739563E+12], \\\n",
      "] )\n",
      "\n",
      "#################################################################\n",
      "#                                                               #\n",
      "#            CrayPat-lite Performance Statistics                #\n",
      "#                                                               #\n",
      "#################################################################\n",
      "\n",
      "CrayPat/X:  Version 7.1.1 Revision 7c0ddd79b  08/19/19 16:58:46\n",
      "Experiment:                  lite  lite-samples\n",
      "Number of PEs (MPI ranks):     12\n",
      "Numbers of PEs per Node:       12\n",
      "Numbers of Threads per PE:      1\n",
      "Number of Cores per Socket:    12\n",
      "Execution start time:  Tue Jun  2 08:48:26 2020\n",
      "System name and speed:  nid02891  2.601 GHz (nominal)\n",
      "Intel Haswell    CPU  Family:  6  Model: 63  Stepping:  2\n",
      "DRAM:  64 GiB DDR4-2400 on 2.6 GHz nodes\n",
      "\n",
      "\n",
      "\n",
      "Avg Process Time:             12.41 secs             \n",
      "High Memory:                  584.8 MiBytes     48.7 MiBytes per PE\n",
      "Observed CPU clock boost:     115.4 %          \n",
      "Percent cycles stalled:        93.4 %          \n",
      "Instr per Cycle:               0.18\n",
      "I/O Write Rate:           22.571289 MiBytes/sec      \n",
      "\n",
      "Notes for table 1:\n",
      "\n",
      "  This table shows functions that have significant exclusive sample\n",
      "    hits, averaged across ranks.\n",
      "  For further explanation, see the \"General table notes\" below,\n",
      "    or use:  pat_report -v -O samp_profile ...\n",
      "\n",
      "Table 1:  Profile by Function\n",
      "\n",
      "  Samp% |    Samp | Imb. |  Imb. | Group\n",
      "        |         | Samp | Samp% |  Function=[MAX10]\n",
      "        |         |      |       |   PE=HIDE\n",
      "       \n",
      " 100.0% | 1,231.3 |   -- |    -- | Total\n",
      "|-------------------------------------------------------\n",
      "|  99.9% | 1,229.8 |   -- |    -- | USER\n",
      "||------------------------------------------------------\n",
      "||  49.4% |   608.6 |  9.4 |  1.7% | apply_diffusion$main_\n",
      "||  45.0% |   553.8 |  9.2 |  1.8% | laplacian$main_\n",
      "||   5.5% |    67.3 |  5.7 |  8.5% | update_halo$main_\n",
      "|=======================================================\n",
      "\n",
      "Notes for table 2:\n",
      "\n",
      "  This table shows functions, and line numbers within functions, that\n",
      "    have significant exclusive sample hits, averaged across ranks.\n",
      "  For further explanation, see the \"General table notes\" below,\n",
      "    or use:  pat_report -v -O samp_profile+src ...\n",
      "\n",
      "Table 2:  Profile by Group, Function, and Line\n",
      "\n",
      "  Samp% |    Samp | Imb. |  Imb. | Group\n",
      "        |         | Samp | Samp% |  Function=[MAX10]\n",
      "        |         |      |       |   Source\n",
      "        |         |      |       |    Line\n",
      "        |         |      |       |     PE=HIDE\n",
      "       \n",
      " 100.0% | 1,231.3 |   -- |    -- | Total\n",
      "|-----------------------------------------------------------------------------\n",
      "|  99.9% | 1,229.8 |   -- |    -- | USER\n",
      "||----------------------------------------------------------------------------\n",
      "||  49.4% |   608.6 |   -- |    -- | apply_diffusion$main_\n",
      "3|        |         |      |       |  course01/hpc4wc/day1/stencil2d-counters.F90\n",
      "||||--------------------------------------------------------------------------\n",
      "4|||   6.1% |    75.2 | 10.8 | 13.7% | line.143\n",
      "4|||  22.4% |   275.7 | 25.3 |  9.2% | line.144\n",
      "4|||   7.7% |    95.2 | 16.8 | 16.4% | line.155\n",
      "4|||  13.1% |   161.5 | 12.5 |  7.8% | line.156\n",
      "||||==========================================================================\n",
      "||  45.0% |   553.8 |   -- |    -- | laplacian$main_\n",
      "3|        |         |      |       |  course01/hpc4wc/day1/stencil2d-counters.F90\n",
      "||||--------------------------------------------------------------------------\n",
      "4|||   3.4% |    42.1 |  5.9 | 13.4% | line.190\n",
      "4|||  41.5% |   510.7 | 10.3 |  2.2% | line.191\n",
      "||||==========================================================================\n",
      "||   5.5% |    67.3 |   -- |    -- | update_halo$main_\n",
      "3|        |         |      |       |  course01/hpc4wc/day1/stencil2d-counters.F90\n",
      "||||--------------------------------------------------------------------------\n",
      "4|||   3.3% |    41.1 | 10.9 | 22.9% | line.244\n",
      "4|||   1.1% |    13.1 |  4.9 | 29.8% | line.254\n",
      "|=============================================================================\n",
      "\n",
      "Observation:  MPI utilization\n",
      "\n",
      "    No suggestions were made because all ranks are on one node.\n",
      "\n",
      "\n",
      "Observation:  Program sensitivity to memory latency\n",
      "\n",
      "    The relatively low memory bandwidth utilization but significant rate\n",
      "    of stalls in the program suggest that its performance is limited by\n",
      "    memory latency.\n",
      "    It could be beneficial to improve prefetching in loops in functions\n",
      "    high in the profile, by modifying compiler-generated prefetches or\n",
      "    inserting directives into the source code.\n",
      "\n",
      "\n",
      "Notes for table 3:\n",
      "\n",
      "  This table shows memory traffic to local and remote memory for numa\n",
      "    nodes, taking for each numa node the maximum value across nodes.\n",
      "    It also shows the balance in memory traffic by showing the top 3\n",
      "    and bottom 3 node values.\n",
      "  For further explanation, see the \"General table notes\" below,\n",
      "    or use:  pat_report -v -O mem_bw ...\n",
      "\n",
      "Table 3:  Memory Bandwidth by Numanode\n",
      "\n",
      "  Memory |   Local |    Thread |  Memory |  Memory | Numanode\n",
      " Traffic |  Memory |      Time | Traffic | Traffic |  PE=HIDE\n",
      "  GBytes | Traffic |           |  GBytes |       / | \n",
      "         |  GBytes |           |   / Sec | Nominal | \n",
      "         |         |           |         |    Peak | \n",
      "|--------------------------------------------------------------\n",
      "|  141.02 |  141.02 | 12.449118 |   11.33 |   16.6% | numanode.0\n",
      "|==============================================================\n",
      "\n",
      "Notes for table 4:\n",
      "\n",
      "  This table shows energy and power usage for the nodes with the\n",
      "    maximum, mean, and minimum usage, as well as the sum of usage over\n",
      "    all nodes.\n",
      "    Energy and power for accelerators is also shown, if applicable.\n",
      "  For further explanation, see the \"General table notes\" below,\n",
      "    or use:  pat_report -v -O program_energy ...\n",
      "\n",
      "Table 4:  Program energy and power usage (from Cray PM)\n",
      "\n",
      "   Node |     Node |   Process | PE=HIDE\n",
      " Energy |    Power |      Time | \n",
      "    (J) |      (W) |           | \n",
      "----------------------------------------\n",
      "  2,314 |  186.407 | 12.411020 | Total\n",
      "========================================\n",
      "\n",
      "Notes for table 5:\n",
      "\n",
      "  This table show the average time and number of bytes written to each\n",
      "    output file, taking the average over the number of ranks that\n",
      "    wrote to the file.  It also shows the number of write operations,\n",
      "    and average rates.\n",
      "  For further explanation, see the \"General table notes\" below,\n",
      "    or use:  pat_report -v -O write_stats ...\n",
      "\n",
      "Table 5:  File Output Stats by Filename\n",
      "\n",
      "      Avg |      Avg |  Write Rate | Number |    Avg | Bytes/ | File Name=!x/^/(proc|sys)/\n",
      "    Write |    Write | MiBytes/sec |     of | Writes |   Call |  PE=HIDE\n",
      " Time per |  MiBytes |             | Writer |    per |        | \n",
      "   Writer |      per |             |  Ranks | Writer |        | \n",
      "     Rank |   Writer |             |        |   Rank |        | \n",
      "          |     Rank |             |        |        |        | \n",
      "|-----------------------------------------------------------------------------\n",
      "| 0.000006 | 0.000144 |   22.571289 |      1 |    4.0 |  37.75 | stdout\n",
      "|=============================================================================\n",
      "Program invocation:\n",
      "  /users/course01/hpc4wc/day1/./stencil2d-counters.x --nx 128 --ny 128 --nz 64 --num_iter 1024\n",
      "\n",
      "For a complete report with expanded tables and notes, run:\n",
      "  pat_report /users/course01/hpc4wc/day1/stencil2d-counters.x+27048-2891s\n",
      "\n",
      "For help identifying callers of particular functions:\n",
      "  pat_report -O callers+src /users/course01/hpc4wc/day1/stencil2d-counters.x+27048-2891s\n",
      "To see the entire call tree:\n",
      "  pat_report -O calltree+src /users/course01/hpc4wc/day1/stencil2d-counters.x+27048-2891s\n",
      "\n",
      "For interactive, graphical performance analysis, run:\n",
      "  app2 /users/course01/hpc4wc/day1/stencil2d-counters.x+27048-2891s\n",
      "\n",
      "================  End of CrayPat-lite output  ==========================\n"
     ]
    },
    {
     "name": "stderr",
     "output_type": "stream",
     "text": [
      "CrayPat/X:  Version 7.1.1 Revision 7c0ddd79b  08/19/19 16:58:46\n"
     ]
    }
   ],
   "source": [
    "%%bash\n",
    "echo \"====== 128 x 128 x 64 ======\"\n",
    "srun -n 12 ./stencil2d-counters.x --nx 128 --ny 128 --nz 64 --num_iter 1024\n",
    "echo \"====== 64 x 32 x 64 ======\"\n",
    "srun -n 12 ./stencil2d-counters.x --nx 64 --ny 32 --nz 64 --num_iter 1024"
   ]
  },
  {
   "cell_type": "code",
   "execution_count": null,
   "metadata": {},
   "outputs": [],
   "source": []
  }
 ],
 "metadata": {
  "kernelspec": {
   "display_name": "Python 3",
   "language": "python",
   "name": "python3"
  },
  "language_info": {
   "codemirror_mode": {
    "name": "ipython",
    "version": 3
   },
   "file_extension": ".py",
   "mimetype": "text/x-python",
   "name": "python",
   "nbconvert_exporter": "python",
   "pygments_lexer": "ipython3",
   "version": "3.6.5"
  }
 },
 "nbformat": 4,
 "nbformat_minor": 4
}
