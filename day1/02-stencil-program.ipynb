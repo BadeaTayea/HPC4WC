{
 "cells": [
  {
   "cell_type": "markdown",
   "metadata": {},
   "source": [
    "# Analyzing a Fortran Stencil Program"
   ]
  },
  {
   "cell_type": "code",
   "execution_count": 3,
   "metadata": {},
   "outputs": [],
   "source": [
    "import numpy as np\n",
    "import matplotlib\n",
    "import matplotlib.pyplot as plt"
   ]
  },
  {
   "cell_type": "markdown",
   "metadata": {},
   "source": [
    "## Understanding\n",
    "\n",
    "Open the <tt>stencil2d-orig.F90</tt> Fortran program by double clicking on the file in the File Browser on the left (if it is hidden, click on the Folder icon).\n",
    "\n",
    "![open-stencil2d](img/open-stencil2d.png)\n",
    "\n",
    "If you prefer, you can also open a new Terminal (File -> New -> Terminal), navigate to the location where <tt>stencil2d-orig.F90</tt> is located and use your favorite linux editor (e.g. vim) to browse the Fortran source code. This will give you better syntax highlighting."
   ]
  },
  {
   "cell_type": "markdown",
   "metadata": {},
   "source": [
    "<div class=\"alert alert-block alert-info\">\n",
    "<b>Now it's your turn...</b><br>\n",
    "<b>1.</b> Read the code of <tt>stencil2d-orig.F90</tt> and understand what the program is doing.<br>\n",
    "<b>2.</b> Compile the code and run it (see below).<br>\n",
    "</div>"
   ]
  },
  {
   "cell_type": "markdown",
   "metadata": {},
   "source": [
    "## Compiling\n",
    "\n",
    "On Piz Daint, the programming environment is managed using so called modules. We need to load the right modules in order to compile our program. We are going to use the Cray Fortran compiler (<tt>PrgEnv-cray</tt>) for this exercise. (Note: If we are using <tt>%%bash</tt> cell magic, these commands need to be repeated every time to setup the right environment."
   ]
  },
  {
   "cell_type": "code",
   "execution_count": 4,
   "metadata": {},
   "outputs": [
    {
     "name": "stdout",
     "output_type": "stream",
     "text": [
      "rm -f -rf *~ *.o *.mod *.MOD *.i *.x *.x+orig *.x+[0-9]* core.* *.out *.dat\n",
      "ftn -eZ -ffree -N255 -ec -eC -eI -eF -c m_utils.F90\n",
      "ftn -eZ -ffree -N255 -ec -eC -eI -eF -c stencil2d-orig.F90\n",
      "ftn -eZ -ffree -N255 -ec -eC -eI -eF m_utils.o stencil2d-orig.o -o stencil2d-orig.x\n",
      "cp stencil2d-orig.x stencil2d.x\n"
     ]
    },
    {
     "name": "stderr",
     "output_type": "stream",
     "text": [
      "INFO: creating the CrayPat-instrumented executable 'stencil2d-orig.x' (lite-samples) ...OK\n"
     ]
    }
   ],
   "source": [
    "%%bash\n",
    "module load daint-gpu\n",
    "module switch PrgEnv-gnu PrgEnv-cray\n",
    "module load perftools-lite\n",
    "\n",
    "make clean\n",
    "make VERSION=orig"
   ]
  },
  {
   "cell_type": "markdown",
   "metadata": {},
   "source": [
    "## Running\n",
    "\n",
    "We can run our program on all 12 cores of the Xeon E5-2690 v3 Haswell CPU that we have available using the <tt>srun</tt> command. The command line arguments <tt>nx, ny, nz</tt> specify the size of the computational domain and <tt>num_iter</tt> sets the number of iterations (timesteps)."
   ]
  },
  {
   "cell_type": "code",
   "execution_count": 32,
   "metadata": {},
   "outputs": [],
   "source": [
    "%%bash --out stdout\n",
    "srun -n 12 ./stencil2d-orig.x+orig --nx 128 --ny 128 --nz 64 --num_iter 1024"
   ]
  },
  {
   "cell_type": "markdown",
   "metadata": {},
   "source": [
    "The result of the `%%bash` magic is stored as a string in the `stdout` variable. We can examine the result. Since the output of the Fortran program is already in a format that is understandable by Python, we can also execute the code contained in the string to define `data`."
   ]
  },
  {
   "cell_type": "code",
   "execution_count": 33,
   "metadata": {},
   "outputs": [
    {
     "name": "stdout",
     "output_type": "stream",
     "text": [
      "# ranks nx ny ny nz num_iter time\n",
      "data = np.array( [ \\\n",
      "[   12,  128,  128,   64,    1024,  0.1178515E+02], \\\n",
      "] )\n",
      "\n"
     ]
    }
   ],
   "source": [
    "print(stdout)\n",
    "exec(stdout)"
   ]
  },
  {
   "cell_type": "code",
   "execution_count": 34,
   "metadata": {},
   "outputs": [
    {
     "name": "stdout",
     "output_type": "stream",
     "text": [
      "[[  12.       128.       128.        64.      1024.        11.78515]]\n"
     ]
    }
   ],
   "source": [
    "print(data)"
   ]
  },
  {
   "cell_type": "markdown",
   "metadata": {},
   "source": [
    "The Fortran program writes two data files (`in_field.dat` and `out_field.dat`) which contain the initial condition as well as the resulting field at the end of the iterations. We can load the data into Python in order to visually verify that our stencil program is actually applying diffusion. We show only the lowest level (`k=0`) in the images."
   ]
  },
  {
   "cell_type": "code",
   "execution_count": 35,
   "metadata": {},
   "outputs": [],
   "source": [
    "def read_field_from_file(filename, num_halo=None):\n",
    "    (rank, nbits, num_halo, nx, ny, nz) = np.fromfile(filename, dtype=np.int32, count=6)\n",
    "    offset=(3 + rank) * 32 // nbits\n",
    "    data = np.fromfile(filename, dtype=np.float32 if nbits == 32 else np.float64, \\\n",
    "                       count=nz * ny * nx + offset)\n",
    "    if rank == 3:\n",
    "        return np.reshape(data[offset:], (nz, ny, nx))\n",
    "    else:\n",
    "        return np.reshape(data[offset:], (ny, nx))"
   ]
  },
  {
   "cell_type": "code",
   "execution_count": 36,
   "metadata": {},
   "outputs": [
    {
     "data": {
      "image/png": "[encoded data removed]",
      "text/plain": [
       "<Figure size 864x288 with 4 Axes>"
      ]
     },
     "metadata": {
      "needs_background": "light"
     },
     "output_type": "display_data"
    }
   ],
   "source": [
    "in_field = read_field_from_file('in_field.dat')\n",
    "out_field = read_field_from_file('out_field.dat')\n",
    "fig, axs = plt.subplots(1, 2, figsize=(12, 4))\n",
    "im1 = axs[0].imshow(in_field[0, :, :], origin='lower', vmin=-0.1, vmax=1.1);\n",
    "fig.colorbar(im1, ax=axs[0]);\n",
    "axs[0].set_title('Initial condition');\n",
    "im2 = axs[1].imshow(out_field[0, :, :], origin='lower', vmin=-0.1, vmax=1.1);\n",
    "fig.colorbar(im2, ax=axs[1]);\n",
    "axs[1].set_title('Final result');"
   ]
  },
  {
   "cell_type": "markdown",
   "metadata": {},
   "source": [
    "<div class=\"alert alert-block alert-info\">\n",
    "<b>Now it's your turn...</b><br>\n",
    "<b>3.</b> There is another version of the stencil program named <tt>stencil2d-counters.F90</tt> where there are two global variables of type <tt>integer</tt> named <tt>flop_counter</tt> and <tt>byte_counter</tt>. The goal of this exercise is to manually count the number of floating point operations and amount of memory transferred directly in the code inside the loops where the work is happening. Edit the program to count the number of floating-point operations and bytes transferred to/from memory. Compile and run. <i>(Hint: The places where you need to edits are marked with TODO in the code and a first example is given.)</i><br>\n",
    "<b>4.</b>Compile and run the <tt>stencil2d-counters.F90</tt> program. Make sure that the runtime is still approximately the same as before and that the introduction of the counters did not impact the runtime too negatively.<br>\n",
    "</div>"
   ]
  },
  {
   "cell_type": "code",
   "execution_count": 37,
   "metadata": {},
   "outputs": [
    {
     "name": "stdout",
     "output_type": "stream",
     "text": [
      "ftn -O3 -hfp3 -eZ -ffree -N255 -ec -eC -eI -eF -rm -c stencil2d-counters.F90\n",
      "ftn -O3 -hfp3 -eZ -ffree -N255 -ec -eC -eI -eF -rm m_utils.o stencil2d-counters.o -o stencil2d-counters.x\n",
      "cp stencil2d-counters.x stencil2d.x\n"
     ]
    },
    {
     "name": "stderr",
     "output_type": "stream",
     "text": [
      "INFO: creating the CrayPat-instrumented executable 'stencil2d-counters.x' (lite-samples) ...OK\n"
     ]
    }
   ],
   "source": [
    "%%bash\n",
    "module load daint-gpu\n",
    "module switch PrgEnv-gnu PrgEnv-cray\n",
    "module load perftools-lite\n",
    "\n",
    "make VERSION=counters"
   ]
  },
  {
   "cell_type": "code",
   "execution_count": 38,
   "metadata": {},
   "outputs": [],
   "source": [
    "%%bash --out stdout\n",
    "srun -n 12 ./stencil2d-counters.x+orig --nx 128 --ny 128 --nz 64 --num_iter 128"
   ]
  },
  {
   "cell_type": "code",
   "execution_count": 39,
   "metadata": {},
   "outputs": [
    {
     "name": "stdout",
     "output_type": "stream",
     "text": [
      "# ranks nx ny ny nz num_iter time flop byte\n",
      "data = np.array( [ \\\n",
      "[   12,  128,  128,   64,     128,  0.1532587E+01,  0.3476847E+10,  0.3415646E+11], \\\n",
      "] )\n",
      "\n"
     ]
    }
   ],
   "source": [
    "print(stdout)\n",
    "exec(stdout)"
   ]
  },
  {
   "cell_type": "markdown",
   "metadata": {},
   "source": [
    "<div class=\"alert alert-block alert-info\">\n",
    "<b>Now it's your turn...</b><br>\n",
    "<b>5.</b> Using the flop and byte counters, compute the arithmetic intensity $I$ of our stencil program using the flop and byte counters you have introduced.<br>\n",
    "<b>6.</b> Compute the performance in GFLOP/s of our stencil program. Is our program memory bound or compute bound? Which % of peak FLOP/s and memory bandwidth do we achieve?<br>\n",
    "</div>"
   ]
  },
  {
   "cell_type": "code",
   "execution_count": 40,
   "metadata": {},
   "outputs": [
    {
     "name": "stdout",
     "output_type": "stream",
     "text": [
      "Arithmetic intensity = 0.10179178404319417\n"
     ]
    }
   ],
   "source": [
    "gflop_counter = data[0, 6] / 1024. / 1024. / 1024.\n",
    "gb_counter = data[0, 7] / 1024. / 1024. / 1024.\n",
    "arithmetic_intensity = gflop_counter / gb_counter\n",
    "print(\"Arithmetic intensity = {}\".format(arithmetic_intensity))"
   ]
  },
  {
   "cell_type": "code",
   "execution_count": 41,
   "metadata": {},
   "outputs": [
    {
     "name": "stdout",
     "output_type": "stream",
     "text": [
      "GFLOP/s = 2.112810626466297 ( 0.846% theoretical peak)    GB/s = 20.756199985351962 (32.652% theoretical peak)\n"
     ]
    }
   ],
   "source": [
    "runtime = data[0, 5]\n",
    "peak_bandwidth_in_gbs = 63.5683536529541\n",
    "peak_performance_in_gflops = 249.69600000000003\n",
    "performance_in_gflops = gflop_counter / runtime\n",
    "bandwidth_in_gbs = gb_counter / runtime\n",
    "performance_percent_peak = performance_in_gflops / peak_performance_in_gflops * 100.\n",
    "bandwidth_percent_peak = bandwidth_in_gbs / peak_bandwidth_in_gbs * 100.\n",
    "print(\"GFLOP/s = {} ({:6.3f}% theoretical peak)    GB/s = {} ({:6.3f}% theoretical peak)\".format( \\\n",
    "    performance_in_gflops, performance_percent_peak, bandwidth_in_gbs, bandwidth_percent_peak))"
   ]
  },
  {
   "cell_type": "markdown",
   "metadata": {},
   "source": [
    "<div class=\"alert alert-block alert-info\">\n",
    "<b>Now it's your turn...</b><br>\n",
    "<b>7.</b> Run the stencil program for different <tt>nx</tt> and <tt>ny</tt> (using the <tt>--scan</tt> option, see below). Import the data into a Python notebook and make a loglog-plot of the runtime per gridpoint $r = \\mathrm{runtime} \\, / \\, nx \\, / \\, ny \\, / nz$ in $\\mu s$ versus the working set size $n = nx \\times ny \\times nz \\times 3$ in MB. What would you expect for a von Neumann architecture? What might be the reason that the behavior is different? (Note: Running with the <tt>--scan</tt> will take some time to complete. Be patient!)<br>\n",
    "</div>"
   ]
  },
  {
   "cell_type": "code",
   "execution_count": 45,
   "metadata": {},
   "outputs": [],
   "source": [
    "%%bash --out stdout\n",
    "srun -n 12 ./stencil2d-orig.x+orig --scan --nz 64 --num_iter 128"
   ]
  },
  {
   "cell_type": "code",
   "execution_count": 46,
   "metadata": {},
   "outputs": [
    {
     "name": "stdout",
     "output_type": "stream",
     "text": [
      "# ranks nx ny ny nz num_iter time\n",
      "data = np.array( [ \\\n",
      "[   12,   16,   16,   64,     128,  0.6405433E-02], \\\n",
      "[   12,   32,   16,   64,     128,  0.9886960E-02], \\\n",
      "[   12,   48,   16,   64,     128,  0.1302097E-01], \\\n",
      "[   12,   64,   16,   64,     128,  0.1664386E-01], \\\n",
      "[   12,   96,   16,   64,     128,  0.2299696E-01], \\\n",
      "[   12,  128,   16,   64,     128,  0.3396680E-01], \\\n",
      "[   12,  192,   16,   64,     128,  0.1710712E+00], \\\n",
      "[   12,   16,   32,   64,     128,  0.1239135E-01], \\\n",
      "[   12,   32,   32,   64,     128,  0.1816787E-01], \\\n",
      "[   12,   48,   32,   64,     128,  0.2441031E-01], \\\n",
      "[   12,   64,   32,   64,     128,  0.3603381E-01], \\\n",
      "[   12,   96,   32,   64,     128,  0.1590800E+00], \\\n",
      "[   12,  128,   32,   64,     128,  0.3006716E+00], \\\n",
      "[   12,  192,   32,   64,     128,  0.5249827E+00], \\\n",
      "[   12,   16,   48,   64,     128,  0.2048808E-01], \\\n",
      "[   12,   32,   48,   64,     128,  0.2699719E-01], \\\n",
      "[   12,   48,   48,   64,     128,  0.5368797E-01], \\\n",
      "[   12,   64,   48,   64,     128,  0.1565013E+00], \\\n",
      "[   12,   96,   48,   64,     128,  0.3600875E+00], \\\n",
      "[   12,  128,   48,   64,     128,  0.5323095E+00], \\\n",
      "[   12,  192,   48,   64,     128,  0.7884883E+00], \\\n",
      "[   12,   16,   64,   64,     128,  0.2928740E-01], \\\n",
      "[   12,   32,   64,   64,     128,  0.4840734E-01], \\\n",
      "[   12,   48,   64,   64,     128,  0.1499464E+00], \\\n",
      "[   12,   64,   64,   64,     128,  0.2966075E+00], \\\n",
      "[   12,   96,   64,   64,     128,  0.5329250E+00], \\\n",
      "[   12,  128,   64,   64,     128,  0.7313800E+00], \\\n",
      "[   12,  192,   64,   64,     128,  0.1042613E+01], \\\n",
      "[   12,   16,   96,   64,     128,  0.5840059E-01], \\\n",
      "[   12,   32,   96,   64,     128,  0.1592754E+00], \\\n",
      "[   12,   48,   96,   64,     128,  0.3583180E+00], \\\n",
      "[   12,   64,   96,   64,     128,  0.5455158E+00], \\\n",
      "[   12,   96,   96,   64,     128,  0.8493906E+00], \\\n",
      "[   12,  128,   96,   64,     128,  0.1110482E+01], \\\n",
      "[   12,  192,   96,   64,     128,  0.1568740E+01], \\\n",
      "[   12,   16,  128,   64,     128,  0.1027607E+00], \\\n",
      "[   12,   32,  128,   64,     128,  0.2949093E+00], \\\n",
      "[   12,   48,  128,   64,     128,  0.5620394E+00], \\\n",
      "[   12,   64,  128,   64,     128,  0.7761571E+00], \\\n",
      "[   12,   96,  128,   64,     128,  0.1140256E+01], \\\n",
      "[   12,  128,  128,   64,     128,  0.1478703E+01], \\\n",
      "[   12,  192,  128,   64,     128,  0.2109831E+01], \\\n",
      "[   12,   16,  192,   64,     128,  0.2370931E+00], \\\n",
      "[   12,   32,  192,   64,     128,  0.5855410E+00], \\\n",
      "[   12,   48,  192,   64,     128,  0.9101717E+00], \\\n",
      "[   12,   64,  192,   64,     128,  0.1190556E+01], \\\n",
      "[   12,   96,  192,   64,     128,  0.1709680E+01], \\\n",
      "[   12,  128,  192,   64,     128,  0.2208261E+01], \\\n",
      "[   12,  192,  192,   64,     128,  0.3036901E+01], \\\n",
      "] )\n",
      "\n"
     ]
    }
   ],
   "source": [
    "print(stdout)\n",
    "exec(stdout)\n",
    "data_orig = data"
   ]
  },
  {
   "cell_type": "code",
   "execution_count": 47,
   "metadata": {},
   "outputs": [
    {
     "data": {
      "image/png": "[encoded data removed]",
      "text/plain": [
       "<Figure size 720x432 with 1 Axes>"
      ]
     },
     "metadata": {
      "needs_background": "light"
     },
     "output_type": "display_data"
    }
   ],
   "source": [
    "nxnynz = data[:, 1] * data[:, 2] * data[:, 3]\n",
    "runtime = data[:, 5]\n",
    "plt.loglog( 3 * nxnynz * 4 / 1024. / 1024., runtime / nxnynz * 1.0e6 , '.');\n",
    "plt.xlabel( 'Working set size [MB]' );\n",
    "plt.ylabel( 'Runtime / gridpoint [µs]' );\n",
    "plt.grid(b=True, which='both')\n",
    "fig = matplotlib.pyplot.gcf()\n",
    "fig.set_size_inches(10, 6)"
   ]
  },
  {
   "cell_type": "markdown",
   "metadata": {},
   "source": [
    "## Performance Analysis Tool (perftool-lite)\n",
    "\n",
    "We can also use a performance analysis tool from Cray named <tt>perftools-lite</tt> to analyze the performance of our stencil program (see [this video](https://www.youtube.com/watch?v=FRi8uellZ18) for more information. In fact, our program has already been compiled for performance analysis with <tt>perftools-lite</tt> since we have loaded the corresponding module. <tt>stencil2d-counters.x+orig</tt> is the original executable without instrumentation for performance analysis and <tt>stencil2d-counters.x</tt> is an executable specifically prepared for performance analysis."
   ]
  },
  {
   "cell_type": "markdown",
   "metadata": {},
   "source": [
    "<div class=\"alert alert-block alert-info\">\n",
    "<b>Now it's your turn...</b><br>\n",
    "<b>8.</b> Run your program with counters <tt>perftools-lite</tt>. Read the report generated by <tt>perftools-lite</tt> carefully (written to the file <tt>report_counter_128x128x64.txt</tt>). What can you learn from the profiling?<br>\n",
    "<b>9.</b> Compare the memory transfer numbers against your values. By which factor are you off? What could be the reason?<br>\n",
    "<b>10.</b> Run again with $nx = 64$ and $ny = 32$. Did the factor by which you are off change? Is this consistent with the findings above? Do you have an idea why this might be the case?<br>\n",
    "</div>"
   ]
  },
  {
   "cell_type": "code",
   "execution_count": 48,
   "metadata": {},
   "outputs": [
    {
     "name": "stdout",
     "output_type": "stream",
     "text": [
      "====== 128 x 128 x 64 ======\n"
     ]
    },
    {
     "name": "stderr",
     "output_type": "stream",
     "text": [
      "CrayPat/X:  Version 7.1.1 Revision 7c0ddd79b  08/19/19 16:58:46\n"
     ]
    }
   ],
   "source": [
    "%%bash\n",
    "echo \"====== 128 x 128 x 64 ======\"\n",
    "srun -n 12 ./stencil2d-counters.x --nx 128 --ny 128 --nz 64 --num_iter 1024 > report_counter_128x128x64.txt"
   ]
  },
  {
   "cell_type": "code",
   "execution_count": 49,
   "metadata": {},
   "outputs": [
    {
     "name": "stdout",
     "output_type": "stream",
     "text": [
      "====== 64 x 32 x 64 ======\n"
     ]
    },
    {
     "name": "stderr",
     "output_type": "stream",
     "text": [
      "CrayPat/X:  Version 7.1.1 Revision 7c0ddd79b  08/19/19 16:58:46\n"
     ]
    }
   ],
   "source": [
    "%%bash\n",
    "echo \"====== 64 x 32 x 64 ======\"\n",
    "srun -n 12 ./stencil2d-counters.x --nx 64 --ny 32 --nz 64 --num_iter 1024 > report_counter_64x32x64.txt"
   ]
  },
  {
   "cell_type": "markdown",
   "metadata": {},
   "source": [
    "*Solution:* <br>\n",
    "Running at nx=128 ny=128 nz=65 and num_iter=1024 we have 255.2 GB from the counters and perftools-lite reports 128.2 GB, that's only 50% of our estimate from the counters.<br>\n",
    "Running at nx=64 ny=32 nz=64 and num_iter=1024 we have 15.42 GB from the counters and perftools-lite reports 0.08 GB, that's only 0.52% of our estimate from the counters.<br>\n",
    "The reason for the large discrepancy is that memory accesses are cached. We have 2.5 MB of L3 cache per core. A float32 field occupies 4 MB for <tt>nx x ny x nz</tt> = 128 x 128 x 64 and 0.125 MB for <tt>nx x ny x nz</tt> = 64 x 32 x 64. We have 3 fields in the code (<tt>in_field, tmp_field, out_field</tt>). In the first case we do not fit into L3 cache. In the second case, we easily fit into L3 cache and only have to read the fields once, after that they can be read from / written to in cache."
   ]
  },
  {
   "cell_type": "code",
   "execution_count": null,
   "metadata": {},
   "outputs": [],
   "source": []
  }
 ],
 "metadata": {
  "kernelspec": {
   "display_name": "Python 3",
   "language": "python",
   "name": "python3"
  },
  "language_info": {
   "codemirror_mode": {
    "name": "ipython",
    "version": 3
   },
   "file_extension": ".py",
   "mimetype": "text/x-python",
   "name": "python",
   "nbconvert_exporter": "python",
   "pygments_lexer": "ipython3",
   "version": "3.6.5"
  }
 },
 "nbformat": 4,
 "nbformat_minor": 4
}
