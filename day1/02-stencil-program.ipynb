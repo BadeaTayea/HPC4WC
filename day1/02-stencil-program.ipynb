{
 "cells": [
  {
   "cell_type": "markdown",
   "metadata": {},
   "source": [
    "# Analyzing a Fortran Stencil Program"
   ]
  },
  {
   "cell_type": "markdown",
   "metadata": {},
   "source": [
    "## Understanding\n",
    "\n",
    "Open the <tt>stencil_2d.F90</tt> Fortran program by double clicking on the file in the File Browser on the left (if it is hidden, click on the Folder icon).\n",
    "\n",
    "![open-stencil2d](img/open-stencil2d.png)\n",
    "\n",
    "If you prefer, you can also open a new Terminal (File -> New -> Terminal), navigate to the location where <tt>stencil_2d.F90</tt> is located and use your favorite linux editor (e.g. vim) to browse the Fortran source code. This will give you better syntax highlighting."
   ]
  },
  {
   "cell_type": "markdown",
   "metadata": {},
   "source": [
    "<div class=\"alert alert-block alert-info\">\n",
    "<b>Now it's your turn...</b><br>\n",
    "<b>1.</b> Read the code and try to understand what the program is doing.<br>\n",
    "<b>2.</b> There are two global variables of type <tt>integer</tt> named <tt>flop_counter</tt> and <tt>byte_counter</tt>. Change the program to count the number of floating-point operations and bytes transferred to/from memory.<br>\n",
    "</div>"
   ]
  },
  {
   "cell_type": "markdown",
   "metadata": {},
   "source": [
    "## Compiling\n",
    "\n",
    "On Piz Daint, the programming environment is managed using so called modules. We need to load the right modules in order to compile our program. We are going to use the Cray Fortran compiler (<tt>PrgEnv-cray</tt>) for this exercise."
   ]
  },
  {
   "cell_type": "code",
   "execution_count": 2,
   "metadata": {},
   "outputs": [],
   "source": [
    "module load daint-gpu\n",
    "module switch PrgEnv-gnu PrgEnv-cray\n",
    "module load perftools-lite"
   ]
  },
  {
   "cell_type": "markdown",
   "metadata": {},
   "source": [
    "There is a <tt>Makefile</tt> which contains instructions of how to compile our stencil program. <tt>make clean</tt> clean away any previous artefacts from compilation or running our program."
   ]
  },
  {
   "cell_type": "code",
   "execution_count": 3,
   "metadata": {},
   "outputs": [
    {
     "name": "stdout",
     "output_type": "stream",
     "text": [
      "rm -f -rf *~ *.o *.mod *.MOD *.i *.x *.x+orig *.x+[0-9]* core.* *.out\n",
      "ftn -eZ -ffree -N255 -ec -eC -eI -eF -c m_utils.F90\n",
      "ftn -eZ -ffree -N255 -ec -eC -eI -eF -c stencil_2d.F90\n",
      "ftn -eZ -ffree -N255 -ec -eC -eI -eF m_utils.o stencil_2d.o -o stencil_2d.x\n",
      "INFO: creating the CrayPat-instrumented executable 'stencil_2d.x' (lite-samples) ...OK\n"
     ]
    }
   ],
   "source": [
    "make clean\n",
    "make"
   ]
  },
  {
   "cell_type": "markdown",
   "metadata": {},
   "source": [
    "## Running\n",
    "\n",
    "We can run our program on all 12 cores of the Xeon E5-2690 v3 Haswell CPU that we have available using the <tt>srun</tt> command. The command line arguments <tt>nx, ny, nz, num_iter</tt> specify the size of the computational domain as well as the number of iterations."
   ]
  },
  {
   "cell_type": "code",
   "execution_count": 4,
   "metadata": {},
   "outputs": [
    {
     "name": "stdout",
     "output_type": "stream",
     "text": [
      " Total number of GigaFLOP =  121.8896484375\n",
      " Total number of GByte transferred =  681.07177734375\n",
      " --------------------------------------------------------------------------\n",
      "  Timers:\n",
      "   number of workers =   12\n",
      " --------------------------------------------------------------------------\n",
      "  Id      Tag                     #calls        min[s]        max[s]       mean[s] \n",
      "   1      work                         1        8.8140        8.8773        8.8514\n",
      " --------------------------------------------------------------------------\n"
     ]
    }
   ],
   "source": [
    "srun -n 12 ./stencil_2d.x+orig -nx 128 -ny 128 -nz 64 -num_iter 1024"
   ]
  },
  {
   "cell_type": "markdown",
   "metadata": {},
   "source": [
    "<div class=\"alert alert-block alert-info\">\n",
    "<b>Now it's your turn...</b><br>\n",
    "<b>3.</b> Compute the arithmetic intensity $I$ of our stencil program using the flop and byte counters you have introduced.<br>\n",
    "<b>4.</b> Compute the performance in GFLOP/s of our stencil program. Is our program memory bound or compute bound? Which % of peak FLOP/s and memory bandwidth do we achieve?<br>\n",
    "<b>5.</b> Run the stencil program for different <tt>nx</tt> and <tt>ny</tt> (see below). Import the data into a Python notebook and make a loglog-plot of the working set size $n = nx \\times ny \\times nz \\times 4$ in MB versus the runtime per gridpoint $r = \\mathrm{runtime} \\, / \\, nx \\, / \\, ny \\, / nz$ in $\\mu s$. What would you expect for a von Neumann architecture? What might be the reason that the behavior is different?\n",
    "</div>"
   ]
  },
  {
   "cell_type": "code",
   "execution_count": 14,
   "metadata": {},
   "outputs": [
    {
     "name": "stdout",
     "output_type": "stream",
     "text": [
      "nx ny nz GFLOP GByte runtime\n",
      "[ \\\n",
      "[16, 16, 64, 2.1240234375, 11.70703125, 0.0422], \\\n",
      "[16, 32, 64, 4.1162109375, 22.77392578125, 0.0813], \\\n",
      "[16, 48, 64, 6.1083984375, 33.8408203125, 0.1179], \\\n",
      "[16, 64, 64, 8.1005859375, 44.90771484375, 0.1547], \\\n",
      "[16, 96, 64, 12.0849609375, 67.04150390625, 0.2273], \\\n",
      "[16, 128, 64, 16.0693359375, 89.17529296875, 0.3015], \\\n",
      "[32, 16, 64, 4.1162109375, 22.77392578125, 0.0646], \\\n",
      "[32, 32, 64, 7.9833984375, 44.33935546875, 0.1194], \\\n",
      "[32, 48, 64, 11.8505859375, 65.90478515625, 0.1726], \\\n",
      "[32, 64, 64, 15.7177734375, 87.47021484375, 0.2262], \\\n",
      "[32, 96, 64, 23.4521484375, 130.60107421875, 0.6715], \\\n",
      "[32, 128, 64, 31.1865234375, 173.73193359375, 1.8501], \\\n",
      "[48, 16, 64, 6.1083984375, 33.8408203125, 0.0878], \\\n",
      "[48, 32, 64, 11.8505859375, 65.90478515625, 0.1605], \\\n",
      "[48, 48, 64, 17.5927734375, 97.96875, 0.2347], \\\n",
      "[48, 64, 64, 23.3349609375, 130.03271484375, 0.6159], \\\n",
      "[48, 96, 64, 34.8193359375, 194.16064453125, 2.1668], \\\n",
      "[48, 128, 64, 46.3037109375, 258.28857421875, 3.4980], \\\n",
      "[64, 16, 64, 8.1005859375, 44.90771484375, 0.1101], \\\n",
      "[64, 32, 64, 15.7177734375, 87.47021484375, 0.1979], \\\n",
      "[64, 48, 64, 23.3349609375, 130.03271484375, 0.5597], \\\n",
      "[64, 64, 64, 30.9521484375, 172.59521484375, 1.7149], \\\n",
      "[64, 96, 64, 46.1865234375, 257.72021484375, 3.3537], \\\n",
      "[64, 128, 64, 61.4208984375, 342.84521484375, 4.7589], \\\n",
      "[96, 16, 64, 12.0849609375, 67.04150390625, 0.1528], \\\n",
      "srun: Job 22846928 step creation temporarily disabled, retrying (Requested nodes are busy)\n",
      "srun: Step created for job 22846928\n",
      "[96, 32, 64, 23.4521484375, 130.60107421875, 0.6050], \\\n",
      "[96, 48, 64, 34.8193359375, 194.16064453125, 2.0903], \\\n",
      "[96, 64, 64, 46.1865234375, 257.72021484375, 3.2232], \\\n",
      "[96, 96, 64, 68.9208984375, 384.83935546875, 5.1872], \\\n",
      "[96, 128, 64, 91.6552734375, 511.95849609375, 7.0295], \\\n",
      "[128, 16, 64, 16.0693359375, 89.17529296875, 0.1998], \\\n",
      "[128, 32, 64, 31.1865234375, 173.73193359375, 1.7663], \\\n",
      "[128, 48, 64, 46.3037109375, 258.28857421875, 3.2158], \\\n",
      "[128, 64, 64, 61.4208984375, 342.84521484375, 4.4455], \\\n",
      "[128, 96, 64, 91.6552734375, 511.95849609375, 6.6606], \\\n",
      "[128, 128, 64, 121.8896484375, 681.07177734375, 8.8647], \\\n",
      "]\n"
     ]
    }
   ],
   "source": [
    "echo \"# nx ny nz GFLOP GByte runtime\"\n",
    "echo \"data = np.array( [ \\\\\"\n",
    "nz=64\n",
    "for nx in 16 32 48 64 96 128 ; do\n",
    "for ny in 16 32 48 64 96 128 ; do\n",
    "    sleep 2\n",
    "    srun -n 12 ./stencil_2d.x+orig -nx ${nx} -ny ${ny} -nz ${nz} -num_iter 1024 2>&1 1> /tmp/stencil_2d.$$.out\n",
    "    gflop=`cat /tmp/stencil_2d.$$.out | grep \"GigaFLOP\" | awk '{print $6}'`\n",
    "    gbyte=`cat /tmp/stencil_2d.$$.out | grep \"GByte\" | awk '{print $7}'`\n",
    "    runtime=`cat /tmp/stencil_2d.$$.out | grep \" work \" | awk '{print $6}'`\n",
    "    echo \"[${nx}, ${ny}, ${nz}, ${gflop}, ${gbyte}, ${runtime}], \\\\\"\n",
    "    /bin/rm -f /tmp/stencil_2d.*.out 2>/dev/null 1>/dev/null\n",
    "done\n",
    "done\n",
    "echo \"] )\""
   ]
  },
  {
   "cell_type": "markdown",
   "metadata": {},
   "source": [
    "![runtime_vs_size](img/runtime_vs_size.png)"
   ]
  },
  {
   "cell_type": "markdown",
   "metadata": {},
   "source": [
    "## Performance Analysis Tool (perftool-lite)\n",
    "\n",
    "We can also use a performance analysis tool from Cray named <tt>perftools-lite</tt> to analyze the performance of our stencil program. In fact, our program has already been compiled for performance analysis with <tt>perftools-lite</tt> since we have loaded the corresponding module. <tt>stencil_2d.x+orig</tt> is the original executable without instrumentation for performance analysis and <tt>stencil_2d.x</tt> is an executable specifically prepared for performance analysis."
   ]
  },
  {
   "cell_type": "markdown",
   "metadata": {},
   "source": [
    "<div class=\"alert alert-block alert-info\">\n",
    "<b>Now it's your turn...</b><br>\n",
    "<b>6.</b> Run your program with <tt>perftools-lite</tt>. Read the report generated by <tt>perftools-lite</tt> carefully and compared the memory transfer numbers against your values. By which factor are you off?<br>\n",
    "<b>7.</b> Run again with $nx = 64$ and $ny = 32$. Did the factor by which you are off change? Is this consistent with the findings above?<br>\n",
    "</div>"
   ]
  },
  {
   "cell_type": "code",
   "execution_count": 25,
   "metadata": {},
   "outputs": [
    {
     "name": "stdout",
     "output_type": "stream",
     "text": [
      "CrayPat/X:  Version 7.1.1 Revision 7c0ddd79b  08/19/19 16:58:46\n",
      " Total number of GigaFLOP =  121.8896484375\n",
      " Total number of GBytes transferred =  681.07177734375\n",
      " --------------------------------------------------------------------------\n",
      "  Timers:\n",
      "   number of workers =   12\n",
      " --------------------------------------------------------------------------\n",
      "  Id      Tag                     #calls        min[s]        max[s]       mean[s] \n",
      "   1      work                         1        8.8329        8.8961        8.8599\n",
      " --------------------------------------------------------------------------\n",
      "\n",
      "#################################################################\n",
      "#                                                               #\n",
      "#            CrayPat-lite Performance Statistics                #\n",
      "#                                                               #\n",
      "#################################################################\n",
      "\n",
      "CrayPat/X:  Version 7.1.1 Revision 7c0ddd79b  08/19/19 16:58:46\n",
      "Experiment:                  lite  lite-samples\n",
      "Number of PEs (MPI ranks):     12\n",
      "Numbers of PEs per Node:       12\n",
      "Numbers of Threads per PE:      1\n",
      "Number of Cores per Socket:    12\n",
      "Execution start time:  Fri May 29 07:38:38 2020\n",
      "System name and speed:  nid07674  2.601 GHz (nominal)\n",
      "Intel Haswell    CPU  Family:  6  Model: 63  Stepping:  2\n",
      "DRAM:  64 GiB DDR4-2133 on 2.6 GHz nodes\n",
      "\n",
      "\n",
      "\n",
      "Avg Process Time:               8.92 secs             \n",
      "High Memory:                   537.6 MiBytes     44.8 MiBytes per PE\n",
      "Observed CPU clock boost:      115.4 %          \n",
      "Percent cycles stalled:         92.0 %          \n",
      "Instr per Cycle:                0.21\n",
      "I/O Write Rate:           129.956141 MiBytes/sec      \n",
      "\n",
      "Notes for table 1:\n",
      "\n",
      "  This table shows functions that have significant exclusive sample\n",
      "    hits, averaged across ranks.\n",
      "  For further explanation, see the \"General table notes\" below,\n",
      "    or use:  pat_report -v -O samp_profile ...\n",
      "\n",
      "Table 1:  Profile by Function\n",
      "\n",
      "  Samp% |  Samp | Imb. |  Imb. | Group\n",
      "        |       | Samp | Samp% |  Function=[MAX10]\n",
      "        |       |      |       |   PE=HIDE\n",
      "       \n",
      " 100.0% | 885.8 |   -- |    -- | Total\n",
      "|-------------------------------------------------\n",
      "|  99.8% | 884.3 |   -- |    -- | USER\n",
      "||------------------------------------------------\n",
      "||  83.9% | 743.2 |  3.8 |  0.5% | work$main_\n",
      "||  15.9% | 141.1 |  5.9 |  4.4% | update_halo$main_\n",
      "|=================================================\n",
      "\n",
      "Notes for table 2:\n",
      "\n",
      "  This table shows functions, and line numbers within functions, that\n",
      "    have significant exclusive sample hits, averaged across ranks.\n",
      "  For further explanation, see the \"General table notes\" below,\n",
      "    or use:  pat_report -v -O samp_profile+src ...\n",
      "\n",
      "Table 2:  Profile by Group, Function, and Line\n",
      "\n",
      "  Samp% |  Samp | Imb. |  Imb. | Group\n",
      "        |       | Samp | Samp% |  Function=[MAX10]\n",
      "        |       |      |       |   Source\n",
      "        |       |      |       |    Line\n",
      "        |       |      |       |     PE=HIDE\n",
      "       \n",
      " 100.0% | 885.8 |   -- |    -- | Total\n",
      "|-------------------------------------------------------------------\n",
      "|  99.8% | 884.3 |   -- |    -- | USER\n",
      "||------------------------------------------------------------------\n",
      "||  83.9% | 743.2 |   -- |    -- | work$main_\n",
      "3|        |       |      |       |  course01/hpc4wc/day1/stencil_2d.F90\n",
      "||||----------------------------------------------------------------\n",
      "4|||   2.0% |  18.0 |  7.0 | 30.5% | line.78\n",
      "4|||  26.1% | 230.8 | 13.2 |  5.9% | line.79\n",
      "4|||  27.6% | 244.7 |  4.3 |  1.9% | line.93\n",
      "4|||   1.0% |   8.5 |  6.5 | 47.3% | line.107\n",
      "4|||  26.5% | 234.6 |  5.4 |  2.5% | line.108\n",
      "||||================================================================\n",
      "||  15.9% | 141.1 |   -- |    -- | update_halo$main_\n",
      "3|        |       |      |       |  course01/hpc4wc/day1/stencil_2d.F90\n",
      "||||----------------------------------------------------------------\n",
      "4|||  13.9% | 123.4 |  9.6 |  7.9% | line.134\n",
      "4|||   1.2% |  11.0 |  7.0 | 42.4% | line.142\n",
      "|===================================================================\n",
      "\n",
      "Observation:  MPI utilization\n",
      "\n",
      "    No suggestions were made because all ranks are on one node.\n",
      "\n",
      "\n",
      "Observation:  Program sensitivity to memory latency\n",
      "\n",
      "    The relatively low memory bandwidth utilization but significant rate\n",
      "    of stalls in the program suggest that its performance is limited by\n",
      "    memory latency.\n",
      "    It could be beneficial to improve prefetching in loops in functions\n",
      "    high in the profile, by modifying compiler-generated prefetches or\n",
      "    inserting directives into the source code.\n",
      "\n",
      "\n",
      "Notes for table 3:\n",
      "\n",
      "  This table shows memory traffic to local and remote memory for numa\n",
      "    nodes, taking for each numa node the maximum value across nodes.\n",
      "    It also shows the balance in memory traffic by showing the top 3\n",
      "    and bottom 3 node values.\n",
      "  For further explanation, see the \"General table notes\" below,\n",
      "    or use:  pat_report -v -O mem_bw ...\n",
      "\n",
      "Table 3:  Memory Bandwidth by Numanode\n",
      "\n",
      "  Memory |   Local |   Thread |  Memory |  Memory | Numanode\n",
      " Traffic |  Memory |     Time | Traffic | Traffic |  PE=HIDE\n",
      "  GBytes | Traffic |          |  GBytes |       / | \n",
      "         |  GBytes |          |   / Sec | Nominal | \n",
      "         |         |          |         |    Peak | \n",
      "|-------------------------------------------------------------\n",
      "|  105.61 |  105.61 | 8.935199 |   11.82 |   17.3% | numanode.0\n",
      "|=============================================================\n",
      "\n",
      "Notes for table 4:\n",
      "\n",
      "  This table shows energy and power usage for the nodes with the\n",
      "    maximum, mean, and minimum usage, as well as the sum of usage over\n",
      "    all nodes.\n",
      "    Energy and power for accelerators is also shown, if applicable.\n",
      "  For further explanation, see the \"General table notes\" below,\n",
      "    or use:  pat_report -v -O program_energy ...\n",
      "\n",
      "Table 4:  Program energy and power usage (from Cray PM)\n",
      "\n",
      "   Node |     Node |  Process | PE=HIDE\n",
      " Energy |    Power |     Time | \n",
      "    (J) |      (W) |          | \n",
      "---------------------------------------\n",
      "  1,628 |  182.435 | 8.923715 | Total\n",
      "=======================================\n",
      "\n",
      "Notes for table 5:\n",
      "\n",
      "  This table show the average time and number of bytes written to each\n",
      "    output file, taking the average over the number of ranks that\n",
      "    wrote to the file.  It also shows the number of write operations,\n",
      "    and average rates.\n",
      "  For further explanation, see the \"General table notes\" below,\n",
      "    or use:  pat_report -v -O write_stats ...\n",
      "\n",
      "Table 5:  File Output Stats by Filename\n",
      "\n",
      "      Avg |      Avg |  Write Rate | Number |    Avg | Bytes/ | File Name=!x/^/(proc|sys)/\n",
      "    Write |    Write | MiBytes/sec |     of | Writes |   Call |  PE=HIDE\n",
      " Time per |  MiBytes |             | Writer |    per |        | \n",
      "   Writer |      per |             |  Ranks | Writer |        | \n",
      "     Rank |   Writer |             |        |   Rank |        | \n",
      "          |     Rank |             |        |        |        | \n",
      "|-----------------------------------------------------------------------------\n",
      "| 0.000004 | 0.000499 |  129.956141 |      1 |    9.0 |  58.11 | stdout\n",
      "|=============================================================================\n",
      "Program invocation:\n",
      "  /users/course01/hpc4wc/day1/./stencil_2d.x -nx 128 -ny 128 -nz 64 -num_iter 1024\n",
      "\n",
      "For a complete report with expanded tables and notes, run:\n",
      "  pat_report /users/course01/hpc4wc/day1/stencil_2d.x+14209-7674s\n",
      "\n",
      "For help identifying callers of particular functions:\n",
      "  pat_report -O callers+src /users/course01/hpc4wc/day1/stencil_2d.x+14209-7674s\n",
      "To see the entire call tree:\n",
      "  pat_report -O calltree+src /users/course01/hpc4wc/day1/stencil_2d.x+14209-7674s\n",
      "\n",
      "For interactive, graphical performance analysis, run:\n",
      "  app2 /users/course01/hpc4wc/day1/stencil_2d.x+14209-7674s\n",
      "\n",
      "================  End of CrayPat-lite output  ==========================\n"
     ]
    }
   ],
   "source": [
    "srun -n 12 ./stencil_2d.x -nx 128 -ny 128 -nz 64 -num_iter 1024"
   ]
  },
  {
   "cell_type": "code",
   "execution_count": null,
   "metadata": {},
   "outputs": [],
   "source": []
  }
 ],
 "metadata": {
  "kernelspec": {
   "display_name": "Bash",
   "language": "bash",
   "name": "bash"
  },
  "language_info": {
   "codemirror_mode": "shell",
   "file_extension": ".sh",
   "mimetype": "text/x-sh",
   "name": "bash"
  }
 },
 "nbformat": 4,
 "nbformat_minor": 4
}
