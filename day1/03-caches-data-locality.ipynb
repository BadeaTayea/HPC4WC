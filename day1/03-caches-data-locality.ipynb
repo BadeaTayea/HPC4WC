{
 "cells": [
  {
   "cell_type": "markdown",
   "metadata": {},
   "source": [
    "# Caches and Data Locality"
   ]
  },
  {
   "cell_type": "code",
   "execution_count": 1,
   "metadata": {},
   "outputs": [],
   "source": [
    "import timeit\n",
    "import numpy as np\n",
    "import matplotlib\n",
    "import matplotlib.pyplot as plt"
   ]
  },
  {
   "cell_type": "markdown",
   "metadata": {},
   "source": [
    "Modern CPUs have a hierarchy of cache memories (L3, L2, L1) which try to hide latencies of reading/writing from/to main memory. The bandwith on our Intel E5-2690 v3 Processor between the different elements of the memory hierarchy is the following:\n",
    "\n",
    "| Link            | Bandwidth | Latency |\n",
    "|-----------------|-----------|---------|\n",
    "| **L1 &harr; core** | Read 155 GB/s + Write 77.5 GB/s per core | >= 4 cycles |\n",
    "| **L1 &harr; L2**   | 155 GB/s per core | >= 11 cycles |\n",
    "| **L2 &harr; L3**   | 77.5 GB/s total | >= 36 cycles |\n",
    "| **L3 &harr; RAM**  | 68.3 GB/s total | >= 100 cycles |\n",
    "\n",
    "The latencies corresponds to the time it takes to load a random element from a specific element of the memory hierarchy. It is important to note that the connections L2 &harr; L3 and L3 &harr; RAM have to feed all 12 cores, and so are comparably slow as compared to the bandwidths L2 &harr; L1 and L1 &harr; core."
   ]
  },
  {
   "cell_type": "markdown",
   "metadata": {},
   "source": [
    "<div class=\"alert alert-block alert-info\">\n",
    "<b>Now it's your turn...</b><br>\n",
    "<b>3.</b> Find out the clock frequency of the Intel Haswell CPUs of Piz Daint by inspecting the <tt>/proc/cpuinfo</tt> file (see below).<br>\n",
    "<b>4.</b> Modern CPUs have multiple cores, which each contain a control unit and an ALU. Find out the number of cores on the CPUs of Piz Daint. Check your answer on the <a href=\"https://www.cscs.ch/computers/piz-daint/\">CSCS website</a> looking at data for the Piz Daint XC50 compute nodes.<br>\n",
    "</div>"
   ]
  },
  {
   "cell_type": "code",
   "execution_count": 2,
   "metadata": {},
   "outputs": [
    {
     "name": "stdout",
     "output_type": "stream",
     "text": [
      "         0 KB       1.590 ns       0.586 GB/s\n",
      "         1 KB       0.698 ns       1.334 GB/s\n",
      "         2 KB       0.347 ns       2.682 GB/s\n",
      "         4 KB       0.310 ns       3.006 GB/s\n",
      "         8 KB       0.233 ns       4.002 GB/s\n",
      "        16 KB       0.204 ns       4.566 GB/s\n",
      "        32 KB       0.187 ns       4.974 GB/s\n",
      "        64 KB       0.180 ns       5.188 GB/s\n",
      "       128 KB       0.167 ns       5.588 GB/s\n",
      "       256 KB       0.155 ns       6.020 GB/s\n",
      "       512 KB       0.153 ns       6.089 GB/s\n",
      "      1024 KB       0.157 ns       5.933 GB/s\n",
      "      2048 KB       0.156 ns       5.978 GB/s\n",
      "      4096 KB       0.240 ns       3.874 GB/s\n",
      "      8192 KB       1.698 ns       0.549 GB/s\n"
     ]
    }
   ],
   "source": [
    "for n in range(1, 16):\n",
    "    num_elem = 2**n * 1024 // 4 - 256\n",
    "    num_bytes = 2**n * 1024 // 4\n",
    "    a = np.empty( num_elem, dtype=np.float32 )\n",
    "    tic = timeit.default_timer()\n",
    "    for iter in range(1000):\n",
    "        b = a.copy()\n",
    "    toc = timeit.default_timer()\n",
    "    runtime = (toc - tic) / 1000\n",
    "    print(\"{:10d} KB  {:10.3f} ns  {:10.3f} GB/s\".format( \\\n",
    "        num_bytes // 1024, runtime*1e9 / num_bytes, num_bytes / 1024**3 / runtime ) )"
   ]
  },
  {
   "cell_type": "code",
   "execution_count": 3,
   "metadata": {},
   "outputs": [
    {
     "name": "stdout",
     "output_type": "stream",
     "text": [
      "rm -f -rf *~ *.o *.mod *.MOD *.i *.x *.x+orig *.x+[0-9]* core.* *.out *.dat *.lst\n",
      "ftn -O3 -hfp3 -eZ -ffree -N255 -ec -eC -eI -eF -rm -c m_utils.F90\n",
      "ftn -O3 -hfp3 -eZ -ffree -N255 -ec -eC -eI -eF -rm -c stencil2d-orig.F90\n",
      "ftn -O3 -hfp3 -eZ -ffree -N255 -ec -eC -eI -eF -rm m_utils.o stencil2d-orig.o -o stencil2d-orig.x\n",
      "cp stencil2d-orig.x stencil2d.x\n",
      "ftn -O3 -hfp3 -eZ -ffree -N255 -ec -eC -eI -eF -rm -c stencil2d-counters.F90\n",
      "ftn -O3 -hfp3 -eZ -ffree -N255 -ec -eC -eI -eF -rm m_utils.o stencil2d-counters.o -o stencil2d-counters.x\n",
      "cp stencil2d-counters.x stencil2d.x\n",
      "ftn -O3 -hfp3 -eZ -ffree -N255 -ec -eC -eI -eF -rm -c stencil2d-kblocking.F90\n",
      "ftn -O3 -hfp3 -eZ -ffree -N255 -ec -eC -eI -eF -rm m_utils.o stencil2d-kblocking.o -o stencil2d-kblocking.x\n",
      "cp stencil2d-kblocking.x stencil2d.x\n",
      "ftn -O3 -hfp3 -eZ -ffree -N255 -ec -eC -eI -eF -rm -c stencil2d-inlining.F90\n",
      "ftn -O3 -hfp3 -eZ -ffree -N255 -ec -eC -eI -eF -rm m_utils.o stencil2d-inlining.o -o stencil2d-inlining.x\n",
      "cp stencil2d-inlining.x stencil2d.x\n",
      "ftn -O3 -hfp3 -eZ -ffree -N255 -ec -eC -eI -eF -rm -c stencil2d-inlining_v2.F90\n",
      "ftn -O3 -hfp3 -eZ -ffree -N255 -ec -eC -eI -eF -rm m_utils.o stencil2d-inlining_v2.o -o stencil2d-inlining_v2.x\n",
      "cp stencil2d-inlining_v2.x stencil2d.x\n"
     ]
    }
   ],
   "source": [
    "%%bash\n",
    "module load daint-gpu\n",
    "module switch PrgEnv-gnu PrgEnv-cray\n",
    "\n",
    "make clean\n",
    "make VERSION=orig\n",
    "make VERSION=counters\n",
    "make VERSION=kblocking\n",
    "make VERSION=inlining\n",
    "make VERSION=inlining_v2"
   ]
  },
  {
   "cell_type": "code",
   "execution_count": 4,
   "metadata": {},
   "outputs": [
    {
     "name": "stdout",
     "output_type": "stream",
     "text": [
      "=> running stencil2d-orig.x in scan mode (output in result_stencil2d-orig.py)\n",
      "=> running stencil2d-kblocking.x in scan mode (output in result_stencil2d-kblocking.py)\n",
      "=> running stencil2d-inlining.x in scan mode (output in result_stencil2d-inlining.py)\n",
      "=> running stencil2d-inlining_v2.x in scan mode (output in result_stencil2d-inlining_v2.py)\n"
     ]
    }
   ],
   "source": [
    "%%bash\n",
    "for tag in orig kblocking inlining inlining_v2 ; do\n",
    "    echo \"=> running stencil2d-${tag}.x in scan mode (output in result_stencil2d-${tag}.py)\"\n",
    "    srun -n 12 ./stencil2d-${tag}.x --scan --nz 64 --num_iter 128 1> result_stencil2d-${tag}.py\n",
    "done"
   ]
  },
  {
   "cell_type": "code",
   "execution_count": 5,
   "metadata": {},
   "outputs": [
    {
     "data": {
      "image/png": "[encoded data removed]",
      "text/plain": [
       "<Figure size 864x576 with 1 Axes>"
      ]
     },
     "metadata": {
      "needs_background": "light"
     },
     "output_type": "display_data"
    }
   ],
   "source": [
    "tags = [ \"orig\", \"kblocking\", \"inlining\", \"inlining_v2\" ]\n",
    "colors = [ \"black\", \"red\", \"green\", \"blue\" ]\n",
    "for tag, color in zip(tags, colors):\n",
    "    exec(open(\"result_stencil2d-\" + tag + \".py\").read())\n",
    "    vars()[\"data_\" + tag] = data\n",
    "    nxnynz = data[:, 1] * data[:, 2] * data[:, 3]\n",
    "    runtime = data[:, 5]\n",
    "    plt.loglog( 3 * nxnynz * 4 / 1024. / 1024., runtime / nxnynz * 1.0e6 , '.', color=color);\n",
    "plt.xlabel( 'Working set size [MB]' );\n",
    "plt.ylabel( 'Runtime / gridpoint [µs]' );\n",
    "plt.grid(b=True, which='both')\n",
    "plt.legend(tags)\n",
    "fig = matplotlib.pyplot.gcf()\n",
    "fig.set_size_inches(12, 8)"
   ]
  },
  {
   "cell_type": "code",
   "execution_count": null,
   "metadata": {},
   "outputs": [],
   "source": []
  }
 ],
 "metadata": {
  "kernelspec": {
   "display_name": "Python 3",
   "language": "python",
   "name": "python3"
  },
  "language_info": {
   "codemirror_mode": {
    "name": "ipython",
    "version": 3
   },
   "file_extension": ".py",
   "mimetype": "text/x-python",
   "name": "python",
   "nbconvert_exporter": "python",
   "pygments_lexer": "ipython3",
   "version": "3.6.5"
  }
 },
 "nbformat": 4,
 "nbformat_minor": 4
}
